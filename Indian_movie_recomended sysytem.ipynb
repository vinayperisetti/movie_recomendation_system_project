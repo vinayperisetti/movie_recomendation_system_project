{
 "cells": [
  {
   "cell_type": "code",
   "execution_count": 1,
   "id": "83e4ddc7",
   "metadata": {},
   "outputs": [],
   "source": [
    "import numpy as np\n",
    "import pandas as pd\n",
    "import difflib\n",
    "from sklearn.feature_extraction.text import TfidfVectorizer\n",
    "from sklearn.metrics.pairwise import cosine_similarity"
   ]
  },
  {
   "cell_type": "code",
   "execution_count": 2,
   "id": "2259d325",
   "metadata": {},
   "outputs": [],
   "source": [
    "movies_data=pd.read_csv(\"TeluguMovies_dataset.csv\")"
   ]
  },
  {
   "cell_type": "code",
   "execution_count": 3,
   "id": "4503fe89",
   "metadata": {},
   "outputs": [
    {
     "data": {
      "text/html": [
       "<div>\n",
       "<style scoped>\n",
       "    .dataframe tbody tr th:only-of-type {\n",
       "        vertical-align: middle;\n",
       "    }\n",
       "\n",
       "    .dataframe tbody tr th {\n",
       "        vertical-align: top;\n",
       "    }\n",
       "\n",
       "    .dataframe thead th {\n",
       "        text-align: right;\n",
       "    }\n",
       "</style>\n",
       "<table border=\"1\" class=\"dataframe\">\n",
       "  <thead>\n",
       "    <tr style=\"text-align: right;\">\n",
       "      <th></th>\n",
       "      <th>index</th>\n",
       "      <th>Movie</th>\n",
       "      <th>Year</th>\n",
       "      <th>Certificate</th>\n",
       "      <th>Genre</th>\n",
       "      <th>Overview</th>\n",
       "      <th>Runtime</th>\n",
       "      <th>Rating</th>\n",
       "      <th>No.of.Ratings</th>\n",
       "    </tr>\n",
       "  </thead>\n",
       "  <tbody>\n",
       "    <tr>\n",
       "      <th>0</th>\n",
       "      <td>0</td>\n",
       "      <td>Bahubali: The Beginning</td>\n",
       "      <td>2015.0</td>\n",
       "      <td>UA</td>\n",
       "      <td>Action, Drama</td>\n",
       "      <td>In ancient India, an adventurous and darin...</td>\n",
       "      <td>159</td>\n",
       "      <td>8.1</td>\n",
       "      <td>99114</td>\n",
       "    </tr>\n",
       "    <tr>\n",
       "      <th>1</th>\n",
       "      <td>1</td>\n",
       "      <td>Baahubali 2: The Conclusion</td>\n",
       "      <td>2017.0</td>\n",
       "      <td>UA</td>\n",
       "      <td>Action, Drama</td>\n",
       "      <td>When Shiva, the son of Bahubali, learns ab...</td>\n",
       "      <td>167</td>\n",
       "      <td>8.2</td>\n",
       "      <td>71458</td>\n",
       "    </tr>\n",
       "    <tr>\n",
       "      <th>2</th>\n",
       "      <td>2</td>\n",
       "      <td>1 - Nenokkadine</td>\n",
       "      <td>2014.0</td>\n",
       "      <td>UA</td>\n",
       "      <td>Action, Thriller</td>\n",
       "      <td>A rock star must overcome his psychologica...</td>\n",
       "      <td>170</td>\n",
       "      <td>8.1</td>\n",
       "      <td>42372</td>\n",
       "    </tr>\n",
       "    <tr>\n",
       "      <th>3</th>\n",
       "      <td>3</td>\n",
       "      <td>Dhoom:3</td>\n",
       "      <td>2013.0</td>\n",
       "      <td>UA</td>\n",
       "      <td>Action, Thriller</td>\n",
       "      <td>When Sahir, a circus entertainer trained i...</td>\n",
       "      <td>172</td>\n",
       "      <td>5.4</td>\n",
       "      <td>42112</td>\n",
       "    </tr>\n",
       "    <tr>\n",
       "      <th>4</th>\n",
       "      <td>4</td>\n",
       "      <td>Ra.One</td>\n",
       "      <td>2011.0</td>\n",
       "      <td>U</td>\n",
       "      <td>Action, Adventure, Sci-Fi</td>\n",
       "      <td>When the titular antagonist of an action g...</td>\n",
       "      <td>156</td>\n",
       "      <td>4.6</td>\n",
       "      <td>37211</td>\n",
       "    </tr>\n",
       "  </tbody>\n",
       "</table>\n",
       "</div>"
      ],
      "text/plain": [
       "   index                        Movie    Year Certificate  \\\n",
       "0      0      Bahubali: The Beginning  2015.0          UA   \n",
       "1      1  Baahubali 2: The Conclusion  2017.0          UA   \n",
       "2      2              1 - Nenokkadine  2014.0          UA   \n",
       "3      3                      Dhoom:3  2013.0          UA   \n",
       "4      4                       Ra.One  2011.0           U   \n",
       "\n",
       "                                   Genre  \\\n",
       "0              Action, Drama               \n",
       "1              Action, Drama               \n",
       "2           Action, Thriller               \n",
       "3           Action, Thriller               \n",
       "4  Action, Adventure, Sci-Fi               \n",
       "\n",
       "                                            Overview  Runtime  Rating  \\\n",
       "0      In ancient India, an adventurous and darin...      159     8.1   \n",
       "1      When Shiva, the son of Bahubali, learns ab...      167     8.2   \n",
       "2      A rock star must overcome his psychologica...      170     8.1   \n",
       "3      When Sahir, a circus entertainer trained i...      172     5.4   \n",
       "4      When the titular antagonist of an action g...      156     4.6   \n",
       "\n",
       "   No.of.Ratings  \n",
       "0          99114  \n",
       "1          71458  \n",
       "2          42372  \n",
       "3          42112  \n",
       "4          37211  "
      ]
     },
     "execution_count": 3,
     "metadata": {},
     "output_type": "execute_result"
    }
   ],
   "source": [
    "movies_data.head()"
   ]
  },
  {
   "cell_type": "code",
   "execution_count": 4,
   "id": "219dffa0",
   "metadata": {},
   "outputs": [
    {
     "data": {
      "text/plain": [
       "(1400, 9)"
      ]
     },
     "execution_count": 4,
     "metadata": {},
     "output_type": "execute_result"
    }
   ],
   "source": [
    "movies_data.shape"
   ]
  },
  {
   "cell_type": "code",
   "execution_count": 5,
   "id": "0a039595",
   "metadata": {},
   "outputs": [
    {
     "data": {
      "text/plain": [
       "index              0\n",
       "Movie              0\n",
       "Year              48\n",
       "Certificate      449\n",
       "Genre             11\n",
       "Overview         179\n",
       "Runtime            0\n",
       "Rating             0\n",
       "No.of.Ratings      0\n",
       "dtype: int64"
      ]
     },
     "execution_count": 5,
     "metadata": {},
     "output_type": "execute_result"
    }
   ],
   "source": [
    "movies_data.isnull().sum()"
   ]
  },
  {
   "cell_type": "code",
   "execution_count": 6,
   "id": "d474a9d4",
   "metadata": {},
   "outputs": [],
   "source": [
    "selected_features=['Genre','Movie','Overview']"
   ]
  },
  {
   "cell_type": "code",
   "execution_count": 7,
   "id": "a709435f",
   "metadata": {},
   "outputs": [],
   "source": [
    "for feature in selected_features:\n",
    "    movies_data[feature] = movies_data[feature].fillna('')"
   ]
  },
  {
   "cell_type": "code",
   "execution_count": 10,
   "id": "2a2f2d79",
   "metadata": {},
   "outputs": [
    {
     "data": {
      "text/plain": [
       "Genre       0\n",
       "Movie       0\n",
       "Overview    0\n",
       "dtype: int64"
      ]
     },
     "execution_count": 10,
     "metadata": {},
     "output_type": "execute_result"
    }
   ],
   "source": [
    "movies_data[['Genre','Movie','Overview']].isnull().sum()"
   ]
  },
  {
   "cell_type": "code",
   "execution_count": 12,
   "id": "9ecf483d",
   "metadata": {},
   "outputs": [],
   "source": [
    "combined_features = movies_data['Genre']+' '+movies_data['Movie']+' '+movies_data['Overview']"
   ]
  },
  {
   "cell_type": "code",
   "execution_count": 13,
   "id": "6bcc027b",
   "metadata": {},
   "outputs": [
    {
     "name": "stdout",
     "output_type": "stream",
     "text": [
      "0       Action, Drama             Bahubali: The Beginn...\n",
      "1       Action, Drama             Baahubali 2: The Con...\n",
      "2       Action, Thriller             1 - Nenokkadine  ...\n",
      "3       Action, Thriller             Dhoom:3     When ...\n",
      "4       Action, Adventure, Sci-Fi             Ra.One  ...\n",
      "                              ...                        \n",
      "1395                                       Maro Monagadu \n",
      "1396    Comedy, Drama             Jakkanna     The mov...\n",
      "1397    Drama, Romance             Muvva Gopaludu     ...\n",
      "1398     Ninney Ishta Paddaanu     Hero Charan (Tarun)...\n",
      "1399    Drama             9 Nelalu     Surendra marrie...\n",
      "Length: 1400, dtype: object\n"
     ]
    }
   ],
   "source": [
    "print(combined_features)"
   ]
  },
  {
   "cell_type": "code",
   "execution_count": 14,
   "id": "7fc6b767",
   "metadata": {},
   "outputs": [],
   "source": [
    "vectorizer = TfidfVectorizer()"
   ]
  },
  {
   "cell_type": "code",
   "execution_count": 15,
   "id": "85e18523",
   "metadata": {},
   "outputs": [],
   "source": [
    "feature_vectors = vectorizer.fit_transform(combined_features)"
   ]
  },
  {
   "cell_type": "code",
   "execution_count": 16,
   "id": "29556bf2",
   "metadata": {},
   "outputs": [
    {
     "name": "stdout",
     "output_type": "stream",
     "text": [
      "  (0, 4319)\t0.1928732604944429\n",
      "  (0, 6534)\t0.2837866798340414\n",
      "  (0, 6169)\t0.15781505730416462\n",
      "  (0, 740)\t0.17609654145477932\n",
      "  (0, 2067)\t0.2606317482342353\n",
      "  (0, 4095)\t0.21325020405606415\n",
      "  (0, 1485)\t0.2745537850890944\n",
      "  (0, 2799)\t0.23195175760409958\n",
      "  (0, 696)\t0.1977467079436342\n",
      "  (0, 3479)\t0.12913506667402888\n",
      "  (0, 1447)\t0.3124666704641771\n",
      "  (0, 353)\t0.07208409715812306\n",
      "  (0, 214)\t0.2837866798340414\n",
      "  (0, 339)\t0.1064045129508743\n",
      "  (0, 2703)\t0.1818411048739418\n",
      "  (0, 352)\t0.2745537850890944\n",
      "  (0, 2690)\t0.15834279963742298\n",
      "  (0, 704)\t0.3124666704641771\n",
      "  (0, 5961)\t0.06646609204545577\n",
      "  (0, 628)\t0.29568995142451354\n",
      "  (0, 1734)\t0.06926665194621266\n",
      "  (0, 159)\t0.07411837375549563\n",
      "  (1, 3106)\t0.21598240725563547\n",
      "  (1, 3447)\t0.264545409940482\n",
      "  (1, 6221)\t0.25034164219395394\n",
      "  :\t:\n",
      "  (1399, 5796)\t0.42432975321274025\n",
      "  (1399, 3546)\t0.1686313068467555\n",
      "  (1399, 3933)\t0.19699915284442912\n",
      "  (1399, 2619)\t0.15439342894764932\n",
      "  (1399, 4140)\t0.16246677417293193\n",
      "  (1399, 3720)\t0.14283074533719903\n",
      "  (1399, 134)\t0.16438283581518223\n",
      "  (1399, 3622)\t0.14188816930726067\n",
      "  (1399, 4118)\t0.17954855957712323\n",
      "  (1399, 2514)\t0.088539020306092\n",
      "  (1399, 5212)\t0.39399830568885824\n",
      "  (1399, 122)\t0.18700974597689624\n",
      "  (1399, 6156)\t0.14283074533719903\n",
      "  (1399, 6591)\t0.12985045714368504\n",
      "  (1399, 3291)\t0.09410612851607275\n",
      "  (1399, 685)\t0.13111399469086543\n",
      "  (1399, 5207)\t0.14805270198108422\n",
      "  (1399, 1939)\t0.16438283581518223\n",
      "  (1399, 6604)\t0.07380716764434367\n",
      "  (1399, 6043)\t0.14848008666732085\n",
      "  (1399, 4069)\t0.05461860016493604\n",
      "  (1399, 353)\t0.05172212821286588\n",
      "  (1399, 339)\t0.22904363423739535\n",
      "  (1399, 2690)\t0.05680744371720292\n",
      "  (1399, 1734)\t0.04970054136877328\n"
     ]
    }
   ],
   "source": [
    "print(feature_vectors)"
   ]
  },
  {
   "cell_type": "code",
   "execution_count": 17,
   "id": "69e8a3b0",
   "metadata": {},
   "outputs": [],
   "source": [
    "similarity=cosine_similarity(feature_vectors)"
   ]
  },
  {
   "cell_type": "code",
   "execution_count": 18,
   "id": "4f44505e",
   "metadata": {},
   "outputs": [
    {
     "name": "stdout",
     "output_type": "stream",
     "text": [
      "[[1.         0.10457084 0.00618659 ... 0.02674187 0.01652326 0.04053726]\n",
      " [0.10457084 1.         0.04961868 ... 0.03508289 0.07909854 0.05722518]\n",
      " [0.00618659 0.04961868 1.         ... 0.         0.03889234 0.01153394]\n",
      " ...\n",
      " [0.02674187 0.03508289 0.         ... 1.         0.04434499 0.01276055]\n",
      " [0.01652326 0.07909854 0.03889234 ... 0.04434499 1.         0.02776065]\n",
      " [0.04053726 0.05722518 0.01153394 ... 0.01276055 0.02776065 1.        ]]\n"
     ]
    }
   ],
   "source": [
    "print(similarity)"
   ]
  },
  {
   "cell_type": "code",
   "execution_count": 19,
   "id": "98d70536",
   "metadata": {},
   "outputs": [
    {
     "name": "stdout",
     "output_type": "stream",
     "text": [
      "enter the movie name:evadu\n"
     ]
    }
   ],
   "source": [
    "movie_name=input('enter the movie name:')"
   ]
  },
  {
   "cell_type": "code",
   "execution_count": 20,
   "id": "db884bc3",
   "metadata": {},
   "outputs": [
    {
     "name": "stdout",
     "output_type": "stream",
     "text": [
      "['Bahubali: The Beginning', 'Baahubali 2: The Conclusion', '1 - Nenokkadine', 'Dhoom:3', 'Ra.One', 'Dhoom:2', 'Eega', 'Krrish 3', 'Arjun Reddy', 'Rangasthalam', 'Magadheera', 'War', 'Bharat Ane Nenu', 'Saaho', 'Theri', 'Dookudu', 'Pokiri', 'Sarkar', 'Athadu', 'The Ghazi Attack', 'Kabali', 'MSG: The Messenger of God', 'Nanban', 'Srimanthudu', 'Veer - Vivegam', 'Billa 2', 'Manam', '7 Aum Arivu', 'Bigil', 'Business Man', 'Geetha Govindam', 'Mahanati', 'Spyder', 'Nannaku Prematho', 'Dabangg 3', 'MSG 2 the Messenger', 'Manikarnika: The Queen of Jhansi', 'Race Gurram', 'Okkadu', 'Bommarillu', 'Atharintiki Daaredi', 'Khaleja', 'Yennai Arindhaal', 'Thalaivaa', 'Kaala', 'Bairavaa', 'Goodachari', 'Puli', 'Pulimurugan', 'Veeram', 'Vedam', 'Yevadu', 'Aravindha Sametha Veera Raghava', 'Billa', 'Jersey', 'Sye Raa Narasimha Reddy', 'Ala Vaikunthapurramuloo', 'Janatha Garage', 'Gabbar Singh', 'Temper', 'Game Over', 'Singam 2', 'Dhruva', 'Jalsa', 'Maharshi', 'Pelli Choopulu', 'Arya 2', 'Chekka Chivantha Vaanam', 'Naa Peru Surya Na Illu India', 'Ki & Ka', 'Seethamma Vakitlo Sirimalle Chettu', 'Singam 3', 'Agent Sai Srinivasa Athreya', 'Jai Lava Kusa', 'Arya', 'Maattrraan', 'Kochadaiiyaan', 'Thaanaa Serndha Koottam', 'OK Kanmani', 'Dear Comrade', 'Happy Days', 'Sarileru Neekevvaru', 'Julayi', 'Kshanam', 'Oopiri', 'Baadshah', '3', 'Sarrainodu', 'Kick', 'Leader', 'Anjaan', 'Khushi', 'Maya Bazaar', 'Rakhta Charitra', 'Mirchi', 'Chatrapathi', 'C/o Kancharapalem', 'Sachein', 'Murari', 'Vikramarkudu', 'Kuruthipunal', 'Brindaavanam', 'Panjaa', 'Nuvvu Naaku Nachchav', 'Gopala Gopala', 'Kaappaan', 'Aagadu', 'Masss', 'Maanagaram', 'Drushyam', 'Yamadonga', 'S/O Satyamurthy', 'Tholi Prema', 'Awe!', 'Yatra', 'Fidaa', 'Oosaravelli', 'Evaru', 'Odiyan', 'Khaidi No 150', 'NGK', 'Duvvada Jagannadham', 'Bale Bale Magadivoy', 'Shiva', 'Manmadhudu', 'Mr Perfect', 'Orange', 'Anirudh', 'Gamyam', 'Kanche', 'Naayak', 'Malliswari', 'Nuvvostanante Nenoddantana', 'Ye Maaya Chesave', 'Sagara Sangamam', 'Rudhramadevi', 'Cameraman Gangatho Rambabu', 'Majili', 'Uttama Villain', 'Arundhati', 'Agnyaathavaasi', 'Pilla Zamindar', '100% Love', 'Aa Naluguru', 'Darling', 'Aha Naa Pellanta', 'Vinaya Vidheya Rama', 'Happy', 'Ala Modalaindi', 'Prasthanam', 'Dhee', 'Iddarammayilatho', 'Simhadri', 'Taxiwaala', 'Parugu', 'Rakhta Charitra 2', 'Maryada Ramanna', 'Rachcha', 'HIT', 'Nota', 'U Turn', 'Thammudu', 'Zanjeer', 'Ezra', 'Bhaagamathie', 'Adhurs', 'Aditya 369', 'Sardaar Gabbar Singh', 'Gitanjali', 'Ninnu Kori', 'Indra', 'Vishwaroopam 2', 'Oru Adaar Love', 'Tholi Prema', 'Brochevarevarura', '7/G Rainbow Colony', 'Tagore', 'Gang Leader', 'Bujjigaadu: Made in Chennai', 'Sye', 'Yevade Subramanyam', 'Mathu Vadalara', 'Katamarayudu', 'Maari 2', 'Gautamiputra Satakarni', 'Rx 100', 'A... Aa', 'Aalavandhan', 'F2: Fun and Frustration', 'The House Next Door', 'Krishna Gaadi Veera Prema Gaadha', 'Prince', 'Sankarabharanam', 'Thoongaavanam', 'Govindudu Andari Vaadele', 'Anand', 'Raja Kumarudu', 'Baba', 'Dhammu', 'Ramayya Vastavayya', 'NTR: Kathanayakudu', 'Chirutha', 'Thaandavam', 'Athidhi', 'Kshana Kshanam', 'Penguin', 'Rudra Veena', 'Legend', 'Annamayya', 'Badrinath', 'Nenu Local', 'Oh Baby...', 'Sketch', 'Hello Guru Prema Kosame', 'Rabhasa', 'Sainikudu', 'Ishq', 'Arjun', 'Badri', 'Krishnarjuna', 'Hello', 'Saleem', 'Nijam', 'Bruce Lee: The Fighter', 'MCA Middle Class Abbayi', 'Ee Nagaraniki Emaindi', 'Nenu Sailaja', 'Gentleman', 'Student No. 1', 'Kumari 21F', 'Billa', 'Love Ke Liye Kuch Bhi Karega', 'Run Baby Run', 'Chitralahari', 'Shankar Dada MBBS', 'Teen Maar', 'Kanthaswamy', 'Komaram Puli', 'Rebel', 'iSmart Shankar', 'Anukokunda Oka Roju', 'Bheeshma', 'Karthikeya', 'Desamuduru', 'Gunde Jaari Gallanthayyinde', 'Pailwan', 'World Famous Lover', 'Theeya Velai Seiyyanum Kumaru', 'Raja The Great', 'Kadaram Kondan', 'Sammohanam', 'Simha', 'Aithe', 'Takkari Donga', 'Kadhalil Sodhappuvadhu Yeppadi', 'Pammal K. Sambandam', 'Kanchana 2', 'Saroja', 'Vel', 'Pandavulu Pandavulu Thummeda', 'Doosukeltha', 'Gundamma Katha', 'Oohalu Gusagusalade', 'Rowdy', 'Devadas', 'Sokkali Mainor', 'Dhenikaina Ready', 'Political Rowdy', 'Anukshanam', 'Stalin', 'Godavari', 'Suryam', 'Balu', 'Savyasachi', 'Nene Raju Nene Mantri', 'Varsham', 'Kaashmora', 'Run Raja Run', 'Abhiyum Naanum', 'Eedo Rakam Aado Rakam', 'Asthram', 'Ready', 'Irandam Ulagam', 'Sree', 'Aadi', 'Jhummandi Naadam', 'Pandurangadu', 'Naani', 'Game', 'Shatamanam Bhavati', 'Mass', 'Swamy Ra Ra', 'Ekkadiki Pothavu Chinnavada', 'Amazon Obhijaan', 'Chi La Sow', 'Kaathala Kaathala', 'Kanchana 3', 'Vishnu', 'Rakhi', 'Oh My Friend', 'Balupu', 'Aadavari Matalaku Ardhalu Verule', 'Prayanam', 'Antariksham 9000 kmph', 'Konchem Ishtam Konchem Kashtam', 'Jamba Lakidi Pamba', 'Kotigobba 2', 'Kaadhal', 'Current Theega', 'MalliRaava', 'Saahasam Swaasaga Saagipo', 'Premam', 'Johnny', 'King', 'Endrendrum Punnagai', 'Mugamoodi', 'NTR Mahanayakudu', 'PSV Garuda Vega', 'Kurukshetra', 'Uu Kodathara Ulikki Padathara', 'Mr. Nookayya', 'Mirapakai', 'Nenu Meeku Telusa...?', 'Satya 2', 'Pooja', 'Naan Sigappu Manithan', 'Sakthi', 'Uyyala Jampala', 'Khadgam', 'Major Chandrakanth', 'Bachchan', 'Manu', 'Hyderabad Blues', 'Bunny', 'Ragile Gundelu', 'Sri Rama Rajyam', 'Varudu', 'Rakshasudu', 'Gharshana', 'Gaganam', 'Amar Akbar Anthony', 'Kathakali', 'Krishnarjuna Yudham', 'Express Raja', 'Kuselan', 'Don', 'Kantri', 'Malli Malli Idhi Rani Roju', 'Raju Bhai', 'Ayogya', 'Gudumba Shankar', 'Potugadu', 'Vastadu Naa Raju', 'Dubai Seenu', 'Dongata', 'Sahasam', 'Dynamite', 'Alex Pandian', 'Ragada', 'Run', 'Chalo', 'Munna', 'Disco Raja', 'Krishna and His Leela', 'Yeto Vellipoyindhi Manasu', 'Praana', 'Shankardada Zindabad', 'Padi Padi Leche Manasu', 'Punya Bhoomi Naa Desam', 'Quick Gun Murugun: Misadventures of an Indian Cowboy', 'Adavilo Anna', 'Thamizh Padam', 'Ek Niranjan', 'Annavaram', 'Bindaas', 'Prema Katha Chitram', 'Jagadeka Veerudu Athiloka Sundari', 'Vismayam', 'Missamma', 'Gaddalakonda Ganesh', 'Oka Laila Kosam', 'Venky Mama', 'Kick 2', 'Gayatri', '180', 'Shourya', 'Ashta Chamma', 'Sigappu Rojakkal', 'LIE', 'Power', 'Dev', 'Pataas', 'Okkadu Migiladu', 'Majnu', 'Srinivasa Kalyanam', 'Luck Unnodu', 'Amma Nanna O Tamila Ammayi', 'Jayasurya', 'Bangaram', 'Dora', 'Don Seenu', 'Vunnadhi Okate Zindagi', 'Krishnam Vande Jagadgurum', 'Killing Veerappan', 'Gunturodu', 'Mr. Majnu', 'Not Today', 'Oy!', 'Nuvve.. Nuvve...', 'Loukyam', 'Swathi Muthyam', 'Life Is Beautiful', 'Yuvaraju', 'Chal Mohan Ranga', 'Vamsee', 'Endukante... Premanta', 'Veyyil', 'Mallesham', 'Attack', 'Mosagallaku Mosagadu', 'Kandireega', 'Raju Gari Gadhi 2', 'Superstar Kidnap', 'Pournami', 'Ninne Pelladatha', 'Shailaja Reddy Alludu', 'Jamba Lakidi Pamba', 'Jaya Janaki Nayaka', 'Akkada Ammayi Ikkada Abbayi', 'Pichhodu', 'Bobby', 'Okka Kshanam', 'Achari America Yathra', 'Sathyaa', 'Bengal Tiger', 'Ashok', 'Coolie No. 1', 'Pathala Bhairavi', 'Goutham Nanda', 'Gang Leader', 'Golmaal', 'Mahanubhavudu', '118', 'Heart Attack', 'Dictator', 'Idiot', 'Neninthe', 'Rarandoi Veduka Chudham', 'Aswathama', 'Yamajaathakudu', 'Jaanu', 'Neevevaro', 'Power Unlimited 2', 'Guru', 'Kee', 'Jagadam', 'Daruvu', 'Damarukam', 'Super', 'Krishna: The Power of Indrakeeladri', 'Chakram', 'Size Zero', 'Bhadra', 'Erra Buss', \"Lakshmi's NTR\", 'Dhoni', 'Appatlo Okadundevadu', 'Akhil', 'Daana Veera Soora Karna', 'Aadhi Bhagavan', 'Devudu Chesina Manushulu', 'Falaknuma Das', 'Raju Maharaju', 'Adhipathi', 'Peda Rayudu', 'Nela Ticket', 'Prati Roju Pandaage', 'Veera', 'Kotha Bangaru Lokam', 'Santosham', 'Venky', 'Jai Simha', 'Nuvve Kavali', 'Samba', 'Lava Kusa', 'George Reddy', 'Subramanyam for Sale', 'Bhoot Returns', 'Suswagatham', 'Dohchay', 'Andala Rakshasi', 'Raja', 'Sambo Siva Sambho', 'Okkadunnadu', 'Manmadhudu 2', 'Paisa Vasool', 'Lakshmi', 'Chantabbai', 'Anji', 'Dhada', 'Uthama Puthiran', 'Jai Chiranjeeva', 'Magalir Mattum', 'Anaganaga O Dheerudu', 'Supreme Khiladi', 'Aakali Rajyam', 'Okka Magadu', 'Phoonk 2', 'Tappu Chesi Pappu Koodu', 'Bhairava Dweepam', 'Needi Naadi Oke Katha', 'Narasimha Naidu', 'Guru', 'Chintakayala Ravi', 'Yogi', 'Yaman', 'Anando Brahma', 'Vanaja', 'Raja Vaaru Rani Gaaru', 'Gangotri', 'Golimar', 'Narasimhudu', 'Swayam Krushi', 'Mental Madhilo', 'Gaayam', 'Rayalaseema Ramanna Chowdary', 'Gokulamlo Seetha', 'Rajanna', 'Madha', 'Hushaaru', 'Settai', 'Swarnakamalam', 'Tadakha', 'Nenu Naa Rakshasi', 'Diya', 'Vikram', 'Kadhal Desam', 'Mudra', 'Naa Autograph Sweet Memories', 'Dum Dum Dum', 'Challenge', 'Kalisundam Raa', 'Pandaga Chesko', 'Lakshmi', 'Daddy', 'Seetha', 'Kalki', 'Parama Veera Chakra', 'Samarasimha Reddy', 'Andhrawala', 'Hyper', 'Kalloori', 'Veera', 'Criminal', 'Gharana Mogudu', 'Namo Venkatesa', 'Karnan', 'Annayya', 'Mesthri', 'Little Soldiers', 'Alludu Seenu', 'Yuddham Sharanam', 'Khaidi', 'Shiva Shankar', 'Bavagaru Bagunnara?', 'Nannu Dochukunduvate', 'Hello Brother', 'Naa Alludu', 'Shamantakamani', 'Thulasi', 'Keshava', 'Maja', 'Aata', 'Choodalani Vundi', 'Ranarangam', 'Mukunda', 'Allari Police', 'Kirrak Party', 'Chenna Kesava Reddy', 'Sarocharu', 'Nadunisi Naaygal', 'Nagavalli', 'Ennaku 20 Unakku 18', 'Bodyguard', 'Raju Gari Gadhi 3', 'Josh', 'Greeku Veerudu', 'Lakshmi Narasimha', 'Autonagar Surya', 'Style', 'Shivamani', 'Surya vs. Surya', 'Swathi Kiranam', 'Alluda Majaaka!', 'Kavacham', 'Chinnadana Nee Kosam', 'Hrudaya Kaleyam', 'Mama Manchu Alludu Kanchu', 'Prathinidhi', 'Meesrti', 'Khatarnak', 'Ritu', 'Sri Ramadasu', 'Jawaan', 'Maalai Nerathu Mayakkam', 'Janaki Ramudu', 'Koduku Diddina Kapuram', 'Subedar Joginder Singh', 'Anasuya', 'Postman', 'Seven', 'Jil', 'Solo', 'Andarivaadu', 'Anthahpuram', 'Samrat Ashok', 'Aapathbandavudu', 'Aaha Kalyanam', 'Allari Pidugu', 'Officer', 'Paisa', 'Yaan', 'Alluri Seetharama Raju', 'Adavi Donga', 'Madhuram', 'Vasu', 'Shiva', 'Saakshyam', 'Shadow', 'Babu Bangaram', 'Shivam', 'Rayudu', 'Lion', 'Pantham', 'Govindha Govindha', 'Nippu', 'Pasivadi Pranam', 'Chanakya', 'Kondaveeti Raja', 'Jessie', 'Ninu Veedani Needanu Nene', 'E', 'Ramayanam', 'Meeku Matrame Chepta', 'Jay Jay', 'Naaga', 'Venkatadri Express', 'Golkonda High School', 'Khaidi No. 786', 'Morning Raga', 'Hitler', 'Anjaneyulu', 'Khaidi Garu', 'Thimiru', 'Loafer', 'Collector Garu', 'Tej I Love U', 'Winner', 'Anveshana', 'Ism', 'Abhinetri', 'Allari Ramudu', 'Devadasu', 'Kodama Simham', 'April 1 Vidudala', 'Lankeshwarudu', 'Kondaveeti Donga', 'O Pitta Katha', 'Mutamestri', 'Subbu', 'Pilla Nuvvu Leni Jeevitham', 'Sri Ramulayya', 'Boss', 'Anaganaga Oka Roju', 'Raghavendra', 'Kondaveeti Simhasanam', 'Cinema Chupista Maava', 'Sri Jagadguru Adi Shankara', 'Hawaa', 'Toofan', 'Ongole Githa', 'Chukkallo Chandrudu', 'Indrudu Chandrudu', 'Sankranthi', 'Aa Okkati Adakku', 'Eeshwar', 'Ratchakan', 'Maruthu', 'Yamudiki Mogudu', 'Police Police', 'Evvarikee Cheppoddu', 'Sudigaadu', 'Rama Rama Krishna Krishna', 'Geethanjali', 'Padamati Sandhya Ragam', 'Sri Manjunatha', 'Vennela', 'Jaguar', 'Marshal', 'Master', 'Maska', 'Assembly Rowdy', 'Mehbooba', 'Sneham Kosam', 'Sindhu Bhairavi', 'Adhinayakudu', 'Lakshyam', 'Adavi Ramudu', 'Kunti Puthrudu', 'Mathangi', 'Brahma', 'Alludugaru', 'Oka Chinna Viramam', 'Nenu Lenu', 'Mrugaraaju', 'Bharani', 'Dil', 'Ullasanga Utsahanga', 'Kedi', 'Shock', 'Jyo Achyutananda', 'Mithunam', 'Palasa 1978', 'Maro Charithra', 'Pelli Pustakam', 'Boy', 'Yamaleela', 'Suryavamsam', 'Kaakki Sattai', 'Ammoru', 'Ninnu Choodalani', 'Premante Idera', 'Devadasu', 'Ninaithale Inikkum', 'Jayam', 'Mugguru', 'Ganesh', 'Arjun Reddy', 'Vangaveeti', 'Chandamama Kathalu', 'Chandamama', 'Rowdy Fellow', 'Shirdi Sai', 'Sisindri', 'Manasantha Nuvve', 'Seetharamaiah Gari Manavaralu', 'Bhale Manchi Roju', 'Devi Putrudu', 'Super Duper', 'Subhash Chandra Bose', 'Hyderabad Blues 2', 'Vijetha', 'Veera Bhoga Vasantha Rayalu', 'Tik Tik Tik', 'Detective Naarada', 'Kalyana Vaibhogame', 'Heza', 'Narthanasala', 'Nenunnanu', 'Ganesh', 'Veedevadandi Babu', 'Sirivennela', 'Routine Love Story', 'Intlo Illalu Vantaintlo Priyuralu', 'Guna 369', 'Anandam', 'Masala', 'Entha Manchivaadavuraa', 'Ruler', 'Om Namo Venkatesaya', 'Gundello Godari', 'Rowdy Gari Pellam', 'Paper Boy', 'Mister', 'Raju Gari Gadhi', 'Thodarum', 'Allari Mogudu', 'Nirnayam', 'Dharma Bhai', 'Software Sudheer', 'Bhageeratha', 'Azaad', 'Minugurulu', 'Raaja Paarvai', 'Vijayendra Varama', 'Mogudu', 'Jayam Manadera', 'Oxygen', 'Athaku Yamudu Ammayiki Mogudu', 'Sindhooram', 'Bezawada', 'Satyam', 'Avunu Valliddaru Ishtapaddaru', 'Baladoor', '2 Hours Love', 'Sakalakala Vallavan', 'MLA', 'Appula Appa Rao', 'Radha', 'Ladies Tailor', 'Abhilasha', 'Srimannarayana', 'Katha Screenplay Darsakatvam: Appalaraju', 'Chandralekha', 'Maharadhi', 'Speedunnodu', 'Subhalekha', 'Asura', 'Palnati Brahmanayudu', '@ Nartanasala', 'Nuvvu Nenu', 'Rowdy Mogudu', 'Vijetha', 'Ravoyi Chandamama', 'Dream', 'Preminchukundam Raa', 'Vasantham', 'Chanti', 'Bobbili Raja', 'Kataka', 'Dongala Mutha', 'Chitemma Mogudu', 'Subha Sankalpam', 'Maa Inti Katha', 'W/o Ram', 'James Bond', 'Padmavyuham', 'Avunu', 'Veerabhadra', 'Iddaru Mitrulu', 'Singham123', 'Anaamika', 'Sasirekha Parinayam', 'Bendu Apparao RMP', 'Rajaratha', 'Danger', 'Andari Bandhuvaya', 'Seenu', 'Janda Pai Kapiraju', 'Deyyam', 'Rowdy Alludu', 'Krishna Aur Kans', 'Seema Tapakai', 'Mahathma', 'Baanam', 'Bhai', 'Itlu Sravani Subramanyam', 'Sathyam', 'Bhale Ramudu', 'Pressure Cooker', 'Ranam', 'Aavida Maa Aavide', 'Alavuddinum Athbutha Vilakkum', 'Naa Mogudu Nanke Sontham', 'Sri Anjaneyam', 'Chiru Navvuto', 'Operation Gold Fish', 'Subrahmanyapuram', 'Baava', 'Veera Prathap', 'Courier Boy Kalyan', 'Jabardasth', 'Pellam Oorelithe', 'Hanuman Junction', 'Money', 'Ninnu Thalachi', 'Jayammu Nischayammuu Raa', 'A Film by Aravind', 'Ye Mantram Vesave', 'Bhakta Prahlada', 'Souryam', 'Blade Babji', 'Devi', 'Gulabi', 'Rajendrudru Gajendrudru', 'Lovely', 'Adhirindhi Alludu', 'Andhrudu', 'Malliswari', 'Bluff Master', 'Aatagadharaa Siva', 'Rechipo', 'Kadhal Sadugudu', 'Ra Ra Krishnayya', 'Nuvvu Vasthavani', 'Prathigna', 'Life Before Wedding', 'Silly Fellows', 'Donga Police', 'Sundara Kanda', 'Chitram Bhalare Vichitram', 'Ninne Premistha', 'Sahasa Veerudu Sagara Kanya', 'Bhookailas', 'Antham', 'Ami Thumi', 'Oka Manasu', 'Aatadista', 'Poola Rangadu', 'Kitakitalu', 'Money Money', 'Prema Katha', 'Enga Veetu Pillai', 'Missamma', 'Sitaramaraju', 'Desa dimmari', 'Sparsha', 'Case No. 666/2013', 'I Love You', 'Nayaki', 'Ee Rojullo', 'Kamma Rajyam Lo Kadapa Reddlu', 'Mugguru Monagallu', '24 Kisses', 'Next Enti?', 'Naa Bangaaru Talli', 'Anthaka Mundu Aa Tarvatha', 'Edadugula Bandham', 'Naa Nuvve', 'All the Best', 'Ranga (S.S.L.C)', 'Maanavudu Daanavudu', 'Athanokkade', 'Seema Sastry', 'Amma Cheppindi', 'Kalyanaraman', 'Sankham', 'Ride', 'Ave Kallu', 'Suryakantham', 'Bhale Dongalu', 'Kousalya Krishnamurthy', 'Andhhagadu', 'Okka Ammayi Thappa', 'Bheemli Kabadi Jattu', 'Naa Ishtam', 'Saptapadhi', 'Voter', 'Sankarabharanam', 'Chaarulatha', 'Prema Kavali', 'Ontari', 'Killer', 'Mr. Pellam', 'Ammammagarillu', 'Brand Babu', 'Bama Vijayam', 'Mitrudu', 'Mr. Medhavi', 'Dharma Chakram', 'Chettu Kinda Pleader', 'Hippi', 'Aha Naa Pellanta', 'Veta', 'Aatagallu', 'Thikka', 'Dorasani', 'Allari Bullodu', 'Peddarikam', 'Kalathur Kannamma', 'Raju Gadu', 'Guntur Talkies', 'Kshemanga Velli Labhamga Randi', 'Kotha Janta', 'Iddari Lokam Okate', 'Eduruleni Manishi', 'Mathru Devo Bhava', 'Kittu Unnadu Jagratha', 'Ice Cream', 'Nuvva Nena', 'Rama Chakkani Seetha', 'Jappanil Kalyanaraman', 'Idaya Kovil', 'Jaihind 2', 'Nuvvila', 'Srivaariki Premalekha', 'Mard Ki Zabaan 2', 'Hyderabad Nawabs', 'Veede', 'Nari Nari Naduma Murari', 'Mayalodu', 'Raja Vikramarka', 'ABCD: American-Born Confused Desi', 'Alludu Diddina Kapuram', 'Hare Ram', 'Yamagola', 'Meendum Kokila', 'M Dharmaraju M.A.', 'Prema Panjaram', 'Tenali Ramakrishna BA.BL', 'Gowtham SSC', 'Kanchana', 'Mayuri', 'Swayamvaram', 'Seetharamula Kalyanam Lankalo', 'Pavitra Bandham', 'Bala Gopaludu', 'Yuvakudu', 'Jayammu Nischayammu Raa!', 'Manchi Donga', 'Big Boss', 'Idam Jagath', 'Happy Wedding', 'Nuvvu Leka Nenu Lenu', 'Thoongathey Tambi Thoongathey', 'Yamudiki Mogudu', 'Bommana Brothers Chanadana Sisters', 'Rowdy Inspector', 'Sontham', 'Annai Oru Aalayam', 'Wanted', 'Panchakshari', 'Snehamante Idera', 'Soggadi Pellam', 'Bhale Donga', '1st Rank Raju', 'Dongodu', 'Devullu', 'Sardar Papa Rayudu', 'Srinivasa Kalyanam', 'Pourudu', 'Amrutha Ramam', 'Prematho Raa', 'Bumper Offer', 'Mangamma Gari Manavadu', 'Yudda Bhoomi', 'Rayalaseema Love Story', 'Soggadu', 'Budget Padmanabham', 'Swargam Narakam', 'Manmatha Leelai', 'Emo Gurram Egaravachu', 'Ayyare', 'Valayam', 'Babai Abbai', 'Two Town Rowdy', 'State Rowdy', 'Aradhana', 'Idhi Mamulu Prema Katha Kaadu', 'Rey', 'Prema Yuddham', 'Samudram', 'Kabaddi Kabaddi', 'Sruthilayalu', 'Rikshavodu', 'Muthyala Muggu', 'Napoleon', 'Bazaar Rowdy', 'Pelli Sandadi', 'Idi Ma Prema Katha', 'Babu Baga Busy', 'Rogue', 'Bhanumathi & Ramakrishna', 'S. P. Parasuram', 'Ala Ela', 'Kevvu Keka', 'Mantra', 'Runam', 'Choopulu Kalasina Subhavela', 'Manoharam', 'Agni', 'Appu Chesi Pappu Koodu', 'Siddu from Srikakulam', 'Nachavule', 'Yagnam', 'Mee Sreyobhilashi', 'Kadapa Redamma', 'Ghatotkachudu', 'Jagadeka Veeruni Katha', 'Kanyasulkam', 'Snehamera Jeevitham', 'Kobbari Matta', 'Dhruvanakshatram', 'Per Sollum Pillai', 'Vivaha Bhojanambu', 'Shanti Kranti', 'Sukumarudu', 'Fitting Master', 'Operation Duryodhana', 'Prema', 'Mooga Manasulu', 'Ontari Poratam', 'Tandra Paparayudu', 'Nireekshana', 'Premaabhishekam', 'Savaari', 'Surya IPS', 'Maharasan', 'Chakravarthy', 'Lover', 'Jadoogadu', 'Allari Alludu', 'Pandava Vanavasamu', 'Mechanic Alludu', 'Kondaveeti Simham', 'Malini 22', 'Bobbili Simham', 'Show', 'Varasudochhadu', 'Family Circus', 'Edurinti Mogudu Pakkinti Pellam', 'Adavi Ramudu', 'Donga', 'Aakhari Poratam', 'Rough', 'Paathshala', 'Kathi Kanta Rao', 'Pelli Chesukundam', 'Black Tiger', 'Sri Krishna Pandaveeyam', 'Nakshatram', 'Subhalagnam', 'Hai Hai Nayaka', 'Om Shanti', 'Pellaina Kothalo', 'Anukunnadi Okkati Ayyindhi Okati', 'Grahanam', 'Chinnabaabu', 'Karthavyam', 'Raakshasudu', 'Neeya', 'D for Dopidi', 'Mugguru Kodukulu', 'Balachandrudu', 'Vinodam', 'Vijay', 'Sri Shirdi Saibaba Mahathyam', 'Anthuleni Katha', 'Mithai', 'Tiger', 'Luv U Alia', 'Brother of Bommali', 'Mr. Pellikodukku', 'Broker', 'Current', 'Evadi Gola Vadide', 'Bangaru Bullodu', 'Karma', 'Murali Krishnudu', 'Varasudu', 'Seetha Rama Kalyanam', 'Rendu Rella Aaru', 'Sampoorna Ramayanam', 'Chuttalabbayi', 'Columbus', 'Raagala 24 Gantallo', 'Andala Ramudu', 'Brahma Puthrudu', 'Alibaba Aradajanu Dongalu', 'Thipparaa Meesam', 'Sitaara', 'Chettaniki Kallu Levu', 'Manasuku Nachindhi', 'Om 3D', 'Action', 'Dongala Bandi', 'Sultan', 'Love Today', 'Samanyudu', 'Sathruvu', 'Gandeevam', 'Punnami Naagu', 'Jyothi Lakshmi', 'Avakai Biryani', 'Lorry Driver', 'Padaharella Vayasu', 'Prananiki Pranam', 'Akasa Veedhilo', 'Totti Gang', 'Allari', 'Savitri', 'Peddinti Alludu', '143', 'Superman', 'Abhinandana', 'Justice Chowdhary', 'Gharana Bullodu', 'Intlo Ramayya Veedilo Krishnayya', 'Anna Thamudu', 'Krishnamma Kalipindi Iddarini', 'Nandhi', 'Sons of Ram', 'Kondapalli Raja', 'Bava Nachadu', 'Seema Simham', 'Sandade Sandadi', 'Donga Ramudu', 'Vetagadu', 'Sher', 'Kaamannana Makkalu', 'Vinayakudu', 'Dongaata', '90 ML', 'Kathanam', 'Ramudu Bheemudu', 'Patel S.I.R', 'Nagarahaavu', 'Selfie Raja', 'Wish You Happy Breakup', 'Lovers', 'Ramudochhadu', 'Radha Gopalam', 'Donga Mogudu', 'Rangula Raatnam', 'Adda', 'Kalidasu', 'Ela Cheppanu', 'Vishwanatha Nayakudu', 'Sri Madvirat Veera Brahmendra Swamy Charitra', 'Brahma', 'Madatha Kaaja', 'Dollar Dreams', 'Betting Bangarraju', 'Athili Sathibabu LKG', 'Vinara sodara veera kumara', 'Tenali Ramakrishna', 'Maharshi', 'Idi Kathakaadu', 'Agni Nakshatram', 'Bandipotu', 'Onamalu', 'Vaana', 'Jodi', 'Madhumasam', 'Bhakta Prahlada', 'Team 5', 'Sandhippoma', 'Ice Cream 2', 'Okkadine', 'Kiccha Huccha', 'Visakha Express', 'Aaviri', 'Brindavanam', 'Rudranetra', 'Kaali', 'Bobbili Puli', 'Manavoori Pandavulu', 'Next Nuvve', 'Joru', 'Ko antey koti', 'Kalyan Ram Kathi', 'Priyamyna Neeku...', 'Vamsodharakudu', 'Super Police', 'Bamma Maata Bangaru Baata', 'Mantra 2', 'Prema Ishq Kaadhal', 'Galipatam', 'Katha', 'Peddannayya', 'Lakshmi Kalyanam', 'Avunanna Kadanna', 'Bava Bava Panneeru', 'Balakrishnudu', 'Partha', 'Athade Oka Sainyam', 'Rakshana', 'Garam', 'Raja Cheyyi Vesthe', \"It's My Love Story\", 'Okariki Okaru', 'Kurradu', 'Homam', 'Raahu', 'Gulebakavali Katha', 'Nene Raju Nene Manthri', 'Osey Ramulamma', 'Trinetrudu', 'Oka Oori Katha', 'Bhale Manchi Chowka Beram', 'Bhairava Geetha', 'Naanna Nenu Naa Boyfriends', 'Basanti', 'Mansara', 'Gaayam 2', 'Village lo Vinayakudu', 'Abbaigaru', 'Ammo Okato Tariku', 'Raksha', 'Stoovertpuram Police Station', 'Srimanthudu', 'Lakshmi Raave Maa Intiki', 'Mr. Theertha', 'Ee Abbai Chala Manchodu', 'Yemaindi Ee Vela', 'Aadu Puli Attam', 'Subhakankshalu', 'Samsaaram Oka Chadarangam', 'Intinti Bhagavatham', 'Driver Ramudu', 'Saradaga Kasepu', 'Snehithuda', 'Kaasi', 'Prema Pipasi', 'Uyarntha Ullam', 'Pekata Paparao', 'Praja pratinidhi', 'Meghasandesam', 'Joker', 'Marana Mrudangam', 'Maa Bhoomi', 'Kerintha', 'Tripura', '123', 'Jaffa', 'Jai Bolo Telangana', 'Nee Sneham', 'Maro Charitra', 'Aswamedham', 'Rachayitha', 'Terror', 'Avunu Part 2', 'Kashi from Village', 'Aadu Magaadra Bujji', 'Papikondalu', 'RDX Love', 'Rajdooth', 'Classmates', 'Oka Radha Iddaru Krishnulu', 'Sri Kanaka Mahalakshmi Recording Dance Troupe', 'Sri Krishnarjuna Yudham', 'Rambantu', 'Intlo Dayyam Nakemi Bhayam', 'Amrutham Chandamama Lo', 'Nirmala Convent', 'Gruha Pravesam', 'Beach Road Chetan', 'Undiporaadhey', 'Sardar Dharmanna', 'Biwi No. 2', 'Muddula Mavayya', 'Parugo Parugu', 'Top Hero', 'Allari Priyudu', 'Jebu Donga', 'Devatha', 'Thayillamal Nannilai', 'Nandini Nursing Home', 'Nenu', 'Muddula Mogudu', 'Dhairyam', 'Pravarakyudu', 'Choosi Choodangaane', 'Burra katha', 'Mayabazaar', 'Panduranga Mahatyam', 'Ankuram', 'Manthrigari Viyyankudu', '365 Days', 'Maa Alludu Verygood', 'Nampalli Nagu', 'Sambaram', 'Kurukshetramu', 'Chanakya Chandragupta', 'Parthal Pasi Theerum', 'Krishnashtami', 'Malaikottai', 'Thakita Thakita', 'Inkosari', 'Kalusukovalani', 'Raam', 'Neeku Nenu Naaku Nuvvu', 'Golmaal Govindam', 'Taskara', 'SMS - Siva Manasulo Sruthi', 'Nammanna', 'Neeku Naaku Dash Dash', 'Sneha Geetham', 'Baachi', 'Ammo Bomma', 'Swagatam', 'Evadithe Nakenti', 'Mosagalaku Mosagaadu', 'Kalyana Ramudu', 'Chinnabbayi', 'Ugranarasimham', 'Paramanandayya Shishyula Katha', 'Adhugo', 'Seethamma Andalu Ramayya Sitralu', 'Run', 'Raaj', 'Takkari', 'Victory', 'Screenplay of an Indian Love Story', 'Chal Mohana Ranga', 'Andha Oru Nimidam', 'Maavichiguru', 'Sri Krishnarjuna Vijayam', 'Gudachari No.1', 'Billa Ranga', 'Vicky Dada', 'Kondura (The Sage from the Sea)', 'Money Money More Money', 'President Gari Pellam', 'Evaraina Eppudaina', 'Maro Monagadu', 'Jakkanna', 'Muvva Gopaludu', 'Ninney Ishta Paddaanu', '9 Nelalu']\n"
     ]
    }
   ],
   "source": [
    "list_of_all_titles=movies_data['Movie'].tolist()\n",
    "print(list_of_all_titles)"
   ]
  },
  {
   "cell_type": "code",
   "execution_count": 21,
   "id": "6df9cd5e",
   "metadata": {},
   "outputs": [
    {
     "name": "stdout",
     "output_type": "stream",
     "text": [
      "['Yevadu', 'Devadasu', 'Devadasu']\n"
     ]
    }
   ],
   "source": [
    "find_close_match=difflib.get_close_matches(movie_name,list_of_all_titles)\n",
    "print(find_close_match)"
   ]
  },
  {
   "cell_type": "code",
   "execution_count": 22,
   "id": "1a3bd3ab",
   "metadata": {},
   "outputs": [
    {
     "name": "stdout",
     "output_type": "stream",
     "text": [
      "Yevadu\n"
     ]
    }
   ],
   "source": [
    "close_match=find_close_match[0]\n",
    "print(close_match)"
   ]
  },
  {
   "cell_type": "code",
   "execution_count": 23,
   "id": "e3cb7ec8",
   "metadata": {},
   "outputs": [
    {
     "name": "stdout",
     "output_type": "stream",
     "text": [
      "51\n"
     ]
    }
   ],
   "source": [
    "index_of_the_movie = movies_data[movies_data.Movie == close_match]['index'].values[0]\n",
    "print(index_of_the_movie)"
   ]
  },
  {
   "cell_type": "code",
   "execution_count": 24,
   "id": "45358479",
   "metadata": {},
   "outputs": [
    {
     "name": "stdout",
     "output_type": "stream",
     "text": [
      "[(0, 0.03462618771941496), (1, 0.06409685539366722), (2, 0.10091084151233282), (3, 0.04558922861904379), (4, 0.01812470189482289), (5, 0.045132844694829345), (6, 0.12927758187710525), (7, 0.04874892940393154), (8, 0.06865950879318719), (9, 0.03362151379406405), (10, 0.04402928806688789), (11, 0.05561793042682699), (12, 0.044778550583374356), (13, 0.030292189416371088), (14, 0.045951989628117806), (15, 0.03809746888960599), (16, 0.07761045651516246), (17, 0.022134776548574233), (18, 0.07325064042096209), (19, 0.1028357859527238), (20, 0.06388413865863055), (21, 0.013768734400719594), (22, 0.05436147761805448), (23, 0.06741619375303393), (24, 0.1410137836050662), (25, 0.019224757904142836), (26, 0.015071429895061722), (27, 0.073337217921345), (28, 0.025625674643135286), (29, 0.12542786294806346), (30, 0.06310035556492666), (31, 0.014520104990165138), (32, 0.024812953306276125), (33, 0.08895028195417302), (34, 0.03521941190907138), (35, 0.025538965416394267), (36, 0.011297728363008915), (37, 0.03881923172191262), (38, 0.051484509642402386), (39, 0.10200456789176589), (40, 0.006805749084204123), (41, 0.00459661743848764), (42, 0.06509755781313896), (43, 0.061239739143689305), (44, 0.03471714082581367), (45, 0.021911545086534544), (46, 0.07322095463605673), (47, 0.01475723963878282), (48, 0.02558369128095401), (49, 0.08728933283837627), (50, 0.014431497337713654), (51, 1.0000000000000002), (52, 0.030297997793899686), (53, 0.04851416563771183), (54, 0.04334951351021439), (55, 0.017886961434704696), (56, 0.027157315257911385), (57, 0.06286027310133449), (58, 0.04658349687623551), (59, 0.061020108435512824), (60, 0.04406396413253633), (61, 0.024029027863509085), (62, 0.0354630871831686), (63, 0.05218836947402812), (64, 0.04960135310026288), (65, 0.012148955578547614), (66, 0.04315633709290212), (67, 0.008101011045860538), (68, 0.02727500662974285), (69, 0.02855691432556475), (70, 0.02283620298057128), (71, 0.021623511158541334), (72, 0.03614932286475184), (73, 0.047414536165021885), (74, 0.04729858105885049), (75, 0.023426475859234547), (76, 0.09435434217311614), (77, 0.034414780594896), (78, 0.021041687488606867), (79, 0.03120547456759402), (80, 0.05095199401885999), (81, 0.017857856967165384), (82, 0.058462577997434324), (83, 0.03889550944229214), (84, 0.054676678446903534), (85, 0.06350951056979674), (86, 0.02155200005805153), (87, 0.04973784859545826), (88, 0.04751253937796136), (89, 0.015408736449588924), (90, 0.018981569574383426), (91, 0.03550849486502928), (92, 0.029859662752171653), (93, 0.040477128017277236), (94, 0.11798591701108366), (95, 0.044628458778433654), (96, 0.011951625501478096), (97, 0.03915188917898393), (98, 0.035547208568031445), (99, 0.024095321892570222), (100, 0.04234328918824855), (101, 0.03456187651257852), (102, 0.06962907235727665), (103, 0.04193504963463363), (104, 0.035690791746986146), (105, 0.057013840151912486), (106, 0.024879428785991798), (107, 0.0805325390834269), (108, 0.036705686210738594), (109, 0.027023456399731412), (110, 0.06899895330600964), (111, 0.06415226959802775), (112, 0.040312049878622705), (113, 0.04331250036849501), (114, 0.018059148909167128), (115, 0.07040648602315078), (116, 0.03687181075349684), (117, 0.04878447482923441), (118, 0.010913976839068537), (119, 0.02814441327780638), (120, 0.028556416535140357), (121, 0.030148897918850465), (122, 0.07579818494277056), (123, 0.06848651567376922), (124, 0.015583869046300172), (125, 0.08280715453768744), (126, 0.013641952764699157), (127, 0.10010136872695162), (128, 0.027634375870097417), (129, 0.012277905480777743), (130, 0.07199728957951704), (131, 0.02527867885594962), (132, 0.05341709933257083), (133, 0.034686722953093496), (134, 0.006148800602639695), (135, 0.015698720448163173), (136, 0.008074072041101967), (137, 0.05803124527963396), (138, 0.05071236334248292), (139, 0.03359297323874233), (140, 0.1347784568942121), (141, 0.03565108477639254), (142, 0.047699516821090644), (143, 0.04387630968025656), (144, 0.04245426456926325), (145, 0.05997840321412665), (146, 0.10989086458736116), (147, 0.0193876677279657), (148, 0.06383582417004281), (149, 0.02958978161625324), (150, 0.051026558975152785), (151, 0.06784647585132858), (152, 0.027525489275540445), (153, 0.0324720018168554), (154, 0.009588343765011297), (155, 0.05782573626703195), (156, 0.09114784957398556), (157, 0.03501926149639331), (158, 0.041532099876370146), (159, 0.02732117273645355), (160, 0.021856722060281893), (161, 0.11734492689362705), (162, 0.031421601085733226), (163, 0.010770425756278634), (164, 0.03186372470388462), (165, 0.030602257831381166), (166, 0.020376557831407942), (167, 0.005925645478630358), (168, 0.024400845546350858), (169, 0.012383424843847843), (170, 0.02554963073125294), (171, 0.09255628088707216), (172, 0.01663233787081255), (173, 0.02671711207862141), (174, 0.01269056451082647), (175, 0.02736268383687389), (176, 0.021312999956230178), (177, 0.0405817091616505), (178, 0.10127669558178064), (179, 0.01331236700767037), (180, 0.05318541365920297), (181, 0.04246008679654423), (182, 0.06434963118372063), (183, 0.00819680403356692), (184, 0.02564893827594983), (185, 0.11487259039652102), (186, 0.03425455873747944), (187, 0.06975800557918893), (188, 0.05043011644361), (189, 0.030741495488482734), (190, 0.03109690873300307), (191, 0.06526688915770926), (192, 0.019063211258067453), (193, 0.09394517427698984), (194, 0.0781600551697609), (195, 0.019241506248291913), (196, 0.03593371978825191), (197, 0.008088490149539945), (198, 0.04636351140648156), (199, 0.027612159683800014), (200, 0.004300041471194447), (201, 0.037273611661611944), (202, 0.10751053707194858), (203, 0.08067417524251316), (204, 0.043180364167806795), (205, 0.08612303901821405), (206, 0.025756530115296026), (207, 0.056985210404932415), (208, 0.015152038845306007), (209, 0.0258488326663688), (210, 0.0393133265157558), (211, 0.005801803951059245), (212, 0.025082846810178396), (213, 0.023582060788868466), (214, 0.06870180395721844), (215, 0.04175193540032886), (216, 0.03141079306877896), (217, 0.1034046837129753), (218, 0.025132019570021626), (219, 0.0501594277048042), (220, 0.05361187406040564), (221, 0.010436482400969317), (222, 0.08379159751536142), (223, 0.026818789507929788), (224, 0.022282902665034535), (225, 0.01663259173960884), (226, 0.03237650298784109), (227, 0.05267692133182527), (228, 0.046348994140452356), (229, 0.06005818576375909), (230, 0.03006752591045918), (231, 0.024256548345030063), (232, 0.031237239625484473), (233, 0.059166892447795535), (234, 0.0), (235, 0.06971286417513611), (236, 0.027022785644643027), (237, 0.04258523896970062), (238, 0.16245636130583935), (239, 0.027719686255421403), (240, 0.04252286845201656), (241, 0.05070661237101294), (242, 0.0290783618633838), (243, 0.060189522237053796), (244, 0.09930265353784883), (245, 0.06569661047899926), (246, 0.026755515867792904), (247, 0.004463435996920292), (248, 0.02988499713266178), (249, 0.11855063138330203), (250, 0.010986505298746709), (251, 0.020764314801349982), (252, 0.04694439075243293), (253, 0.035630554826146583), (254, 0.049261125771691505), (255, 0.017830731343892063), (256, 0.07060220888986715), (257, 0.029691013088940222), (258, 0.08144314544100904), (259, 0.034584980454527445), (260, 0.022012321923578746), (261, 0.005085606129770822), (262, 0.038065565212944075), (263, 0.08202928197110182), (264, 0.037717637977089644), (265, 0.019531574921200112), (266, 0.060226575854479915), (267, 0.02508856921116827), (268, 0.03900975481294027), (269, 0.022947047128251453), (270, 0.004184500290576672), (271, 0.15301594926974002), (272, 0.05894869349622314), (273, 0.04502293918185671), (274, 0.04545411157611195), (275, 0.02773904460141385), (276, 0.0264751332135914), (277, 0.0622885378036668), (278, 0.0316695920354836), (279, 0.021555603937001906), (280, 0.08107692183762813), (281, 0.032611256560033004), (282, 0.006010988387299669), (283, 0.09829878851883535), (284, 0.07864672429478393), (285, 0.07521598942045701), (286, 0.020320531998258572), (287, 0.06270340794035388), (288, 0.033636892322462864), (289, 0.006166044073492774), (290, 0.0936120321990891), (291, 0.033669691785483305), (292, 0.05408589034300579), (293, 0.016936989148774086), (294, 0.09138805404127134), (295, 0.0076730021990829515), (296, 0.09831734409688507), (297, 0.0595961295039527), (298, 0.0958721229294852), (299, 0.024868623621667467), (300, 0.05064732227995409), (301, 0.07377111658089557), (302, 0.04650690444644764), (303, 0.027381766214271), (304, 0.06973525413275712), (305, 0.017171375200110216), (306, 0.04059079360635053), (307, 0.02912643602591542), (308, 0.01840882086486819), (309, 0.005069546933012213), (310, 0.05986743213381064), (311, 0.07925503570247461), (312, 0.02995020508118212), (313, 0.02500788187235186), (314, 0.037301754617319695), (315, 0.06420301771144889), (316, 0.02930823806046213), (317, 0.07434608122768338), (318, 0.009269123804468895), (319, 0.08281358398648973), (320, 0.03644389436215084), (321, 0.03472900476734705), (322, 0.11481306163285922), (323, 0.03218561532929873), (324, 0.07726096442369855), (325, 0.02215380384389022), (326, 0.013459574588029134), (327, 0.0110032098992901), (328, 0.013935601605300562), (329, 0.07020401808395661), (330, 0.08625712800140414), (331, 0.025467712343632185), (332, 0.04280892999125043), (333, 0.10560438900355242), (334, 0.05926350903066024), (335, 0.02814922923500152), (336, 0.06610152611477367), (337, 0.08954055379765442), (338, 0.01617870571481859), (339, 0.04077765167873933), (340, 0.09159584556175852), (341, 0.0712974571778022), (342, 0.010422406885566348), (343, 0.06402546606749276), (344, 0.004532942768821103), (345, 0.0223157438543624), (346, 0.03903667740635487), (347, 0.0036874233348909743), (348, 0.0), (349, 0.06528998372245147), (350, 0.04453833122396396), (351, 0.05627486946817721), (352, 0.03640426225543438), (353, 0.05817925953149743), (354, 0.022250248659695916), (355, 0.02811134427727391), (356, 0.03033618825748031), (357, 0.030349401686609243), (358, 0.026467995822803632), (359, 0.038373257165387864), (360, 0.05650672577164427), (361, 0.08373142131328722), (362, 0.028760741932380776), (363, 0.053444957578129164), (364, 0.013968347934160553), (365, 0.046123189665148716), (366, 0.011037824444607327), (367, 0.02227338160721364), (368, 0.014226155669077055), (369, 0.028088400404147056), (370, 0.017101997181312244), (371, 0.0055281823412228846), (372, 0.04887005389887744), (373, 0.030005346116362835), (374, 0.026774246662254197), (375, 0.02310550939940855), (376, 0.019057717035663908), (377, 0.041825117366110484), (378, 0.011316872350451108), (379, 0.07135702988110502), (380, 0.07357233450976691), (381, 0.021022035719314824), (382, 0.03676497992012504), (383, 0.03731844394168525), (384, 0.07554828117308399), (385, 0.024187705351969714), (386, 0.01717946280304468), (387, 0.07218300500144985), (388, 0.04821847509866275), (389, 0.07464000970139074), (390, 0.03095566026510519), (391, 0.04445269138738689), (392, 0.029005061901949306), (393, 0.022578049708050822), (394, 0.0037659970531889186), (395, 0.021668011717752737), (396, 0.0917263443165497), (397, 0.048127205541867335), (398, 0.032242763050401906), (399, 0.07519443377177937), (400, 0.02841668511914398), (401, 0.03127666227111347), (402, 0.09465002449273935), (403, 0.01744256990677312), (404, 0.043526166829772214), (405, 0.02666251338045358), (406, 0.0995511544353998), (407, 0.023949319509714056), (408, 0.03801817464676303), (409, 0.04193128858898451), (410, 0.14827449979148774), (411, 0.026221670006976068), (412, 0.019501783833899354), (413, 0.016887088577225175), (414, 0.029329188112149594), (415, 0.0440401453198536), (416, 0.0505963451938092), (417, 0.028932989112852085), (418, 0.1160621298462892), (419, 0.012754491179555696), (420, 0.04911952393696174), (421, 0.024443882516048954), (422, 0.04681204358746205), (423, 0.04419289080142509), (424, 0.021351194299235744), (425, 0.022986563842290662), (426, 0.025163776524941648), (427, 0.01889191626447318), (428, 0.01833310365684788), (429, 0.05472703499172352), (430, 0.005331776990631972), (431, 0.09334565290618134), (432, 0.04763924682489204), (433, 0.06414963551380978), (434, 0.03927905315841762), (435, 0.050749820921624916), (436, 0.011747792557880676), (437, 0.03539977692199791), (438, 0.04491446594104784), (439, 0.06554270548773804), (440, 0.010881583304580434), (441, 0.08934486689969506), (442, 0.07002986069992177), (443, 0.09282375954394116), (444, 0.05457021951082963), (445, 0.08040134471929491), (446, 0.059856419841798666), (447, 0.04810769713320546), (448, 0.04501751727615178), (449, 0.012620699548667298), (450, 0.00926562857018429), (451, 0.04680146081124399), (452, 0.055851484453140504), (453, 0.0659467710325936), (454, 0.06850024632434168), (455, 0.1078653638488627), (456, 0.0776850702552027), (457, 0.009352149932954211), (458, 0.038047239059571906), (459, 0.05316378980704939), (460, 0.038609989875281206), (461, 0.02112818180448693), (462, 0.03220723329679612), (463, 0.06659000430451063), (464, 0.04086715932721367), (465, 0.02926144675185871), (466, 0.03170346052604722), (467, 0.03937472214530038), (468, 0.014587903804797245), (469, 0.025267367324521964), (470, 0.02225114093147809), (471, 0.02492671437574757), (472, 0.0), (473, 0.011402579012083995), (474, 0.03210537584537215), (475, 0.09204563210259734), (476, 0.03413129465092911), (477, 0.058850931895236436), (478, 0.017050238135889937), (479, 0.07398367072760954), (480, 0.031885718732514196), (481, 0.010013583866073407), (482, 0.017996590406579433), (483, 0.10173149097479325), (484, 0.0041043330795646656), (485, 0.04237627291912008), (486, 0.023271909875647263), (487, 0.01979729176895041), (488, 0.055949748048249856), (489, 0.08156656777122821), (490, 0.007600744824083692), (491, 0.08156006140258233), (492, 0.0345717393270539), (493, 0.11886727360350566), (494, 0.04924457962403255), (495, 0.011086552149481257), (496, 0.026538008380857826), (497, 0.02177251093263239), (498, 0.029188350860840775), (499, 0.058840827476266774), (500, 0.015164198643336131), (501, 0.01706814929535546), (502, 0.037354491588782256), (503, 0.010950635691525292), (504, 0.026467187517839098), (505, 0.08822717828913312), (506, 0.042033107873036074), (507, 0.010226872996018856), (508, 0.0), (509, 0.04725220168780619), (510, 0.01244589032644686), (511, 0.036214981393238435), (512, 0.006591059852820743), (513, 0.0840212316986809), (514, 0.07539479187083545), (515, 0.10396167083095113), (516, 0.03438729397267314), (517, 0.010553501882366497), (518, 0.03598067367403082), (519, 0.015963502277541484), (520, 0.02747238749300048), (521, 0.028680512721353323), (522, 0.015334912585998997), (523, 0.02668722183308241), (524, 0.036521530819224164), (525, 0.03563112543142256), (526, 0.09897369814686251), (527, 0.03533402407794938), (528, 0.02750136900857373), (529, 0.01644520512317602), (530, 0.005202511013109899), (531, 0.03878132491087107), (532, 0.05346346063743502), (533, 0.03496390088694525), (534, 0.07156430649834745), (535, 0.05734849048269075), (536, 0.019419446046592088), (537, 0.05757238821337372), (538, 0.05307827327832643), (539, 0.04676897861584611), (540, 0.04700109149307265), (541, 0.02173342657373754), (542, 0.03801823752592524), (543, 0.03934670281841573), (544, 0.05332498324724045), (545, 0.05391458863161309), (546, 0.02122215577544545), (547, 0.0918613656113475), (548, 0.03903268399763738), (549, 0.10785378850934808), (550, 0.0597052135238435), (551, 0.01640459447097286), (552, 0.11485955979229481), (553, 0.09886868365909043), (554, 0.03453813296034349), (555, 0.012002042495184191), (556, 0.018923768729672642), (557, 0.03193128771085644), (558, 0.13959202562144113), (559, 0.01786590217599985), (560, 0.06211869630031384), (561, 0.15996628829213658), (562, 0.024715896755823218), (563, 0.0), (564, 0.02644635576183943), (565, 0.09712121066935073), (566, 0.06645446771153983), (567, 0.04198698924858079), (568, 0.006015306501414496), (569, 0.01141229978867487), (570, 0.07861387398471276), (571, 0.023704133877200155), (572, 0.040410978496661774), (573, 0.07854287877152737), (574, 0.11668344704147865), (575, 0.05721982728477495), (576, 0.029461991000561336), (577, 0.012773760253557847), (578, 0.052565911270635673), (579, 0.023800519424702134), (580, 0.02748290156495184), (581, 0.027343616658519584), (582, 0.012753961050003117), (583, 0.014226330373805798), (584, 0.017832206136651256), (585, 0.068968865250562), (586, 0.014947233427896056), (587, 0.007612378334797496), (588, 0.05708046910887356), (589, 0.03373712431145568), (590, 0.0883178002226427), (591, 0.027970413534040728), (592, 0.004082341532023916), (593, 0.02682493272054602), (594, 0.05474055829709156), (595, 0.11291086775184228), (596, 0.0), (597, 0.022384843285577445), (598, 0.044187734453624464), (599, 0.014844799505475435), (600, 0.06245348156589749), (601, 0.025320499286724637), (602, 0.015818749155451922), (603, 0.0235586687529955), (604, 0.0), (605, 0.0), (606, 0.006536673286493261), (607, 0.025515840067797432), (608, 0.03417199520158015), (609, 0.018258992246617145), (610, 0.04518608423577715), (611, 0.022512903067280682), (612, 0.020940113244188752), (613, 0.04538632828025642), (614, 0.02396146545106971), (615, 0.02856033116240673), (616, 0.015621473573817778), (617, 0.05932426258454895), (618, 0.033244347895049604), (619, 0.020880992186515845), (620, 0.019370959589475045), (621, 0.08630422054321692), (622, 0.018177090550210977), (623, 0.011600118700070019), (624, 0.0), (625, 0.10225426126083687), (626, 0.036538492375493774), (627, 0.018268627578175968), (628, 0.03513794928373298), (629, 0.019329074602431696), (630, 0.05820587637044011), (631, 0.015259737863541468), (632, 0.03031549901587015), (633, 0.044573542944323766), (634, 0.02226492069600551), (635, 0.05672332970305931), (636, 0.08590788981302135), (637, 0.10001868595082675), (638, 0.013163935274060025), (639, 0.02330636436825877), (640, 0.05227436825525432), (641, 0.05505559275536444), (642, 0.02573428369179967), (643, 0.0526193211241069), (644, 0.01579212696160944), (645, 0.014844799505475435), (646, 0.028347996360812516), (647, 0.007983875725337423), (648, 0.044886607836639184), (649, 0.010681778941064859), (650, 0.05742500686908738), (651, 0.04754753500989546), (652, 0.020755982409905692), (653, 0.043712743556031775), (654, 0.05192652448295333), (655, 0.005146101630378608), (656, 0.09037041373604017), (657, 0.05974942132470497), (658, 0.04013355410248238), (659, 0.01941857107789343), (660, 0.03650801124399475), (661, 0.013028353465691757), (662, 0.025088528219579857), (663, 0.03398197886614472), (664, 0.05359752157361087), (665, 0.03954776435488855), (666, 0.05846948662627291), (667, 0.02932284215834179), (668, 0.010961546234987019), (669, 0.0), (670, 0.026241037375203273), (671, 0.012258795123754761), (672, 0.018916855898556476), (673, 0.010037054679271644), (674, 0.07436199217997794), (675, 0.011134624780128565), (676, 0.05529054103926968), (677, 0.01844245090654839), (678, 0.01131139254451765), (679, 0.1292257883591863), (680, 0.014397361779820508), (681, 0.02678871028554354), (682, 0.026931029538657787), (683, 0.014656055597048072), (684, 0.0), (685, 0.01524979957238327), (686, 0.070951707246492), (687, 0.03586449897467141), (688, 0.04988988383565651), (689, 0.010772392996315132), (690, 0.01255922621718393), (691, 0.045083111870517986), (692, 0.08858031502542575), (693, 0.0), (694, 0.012399898582551017), (695, 0.0), (696, 0.0), (697, 0.049787585420052696), (698, 0.024727459659962828), (699, 0.030715348509375344), (700, 0.027680317299441384), (701, 0.06446098902418886), (702, 0.01649497617549411), (703, 0.03583891317952521), (704, 0.018989009824234414), (705, 0.03348170321299816), (706, 0.017153720704899823), (707, 0.025055576887508393), (708, 0.0), (709, 0.020348879458246406), (710, 0.017203562150079506), (711, 0.03772831426368166), (712, 0.0775586801387351), (713, 0.0414113753656688), (714, 0.06643173867870954), (715, 0.057818354628691206), (716, 0.014192212582152664), (717, 0.03171678268221395), (718, 0.025938883376208297), (719, 0.09314596125025326), (720, 0.015310429896135146), (721, 0.0372099700130287), (722, 0.05505124982781947), (723, 0.026697452618080916), (724, 0.015682197564225155), (725, 0.016986407371516417), (726, 0.10791430258380372), (727, 0.10458717085974326), (728, 0.08186683053432545), (729, 0.022349347961561482), (730, 0.013645736045866198), (731, 0.011035455177470132), (732, 0.02187030659840093), (733, 0.033544928908658816), (734, 0.02693383627117982), (735, 0.0), (736, 0.0), (737, 0.06557700622299714), (738, 0.020419146867596983), (739, 0.004823535541276004), (740, 0.07007802789113884), (741, 0.02659957137137615), (742, 0.0), (743, 0.03236562164006248), (744, 0.06419253380334039), (745, 0.013671496563905643), (746, 0.05620205366080951), (747, 0.036394084715918026), (748, 0.02433398415819326), (749, 0.030943184010477184), (750, 0.02185564897434209), (751, 0.018665052191042815), (752, 0.055824084235776596), (753, 0.01621119986005684), (754, 0.030616772027140398), (755, 0.0627738039140665), (756, 0.03678078600438256), (757, 0.0), (758, 0.014844799505475435), (759, 0.10101852247002484), (760, 0.0), (761, 0.011040348470853962), (762, 0.019303457556050847), (763, 0.05533544992269647), (764, 0.03430691588754821), (765, 0.028579830163717408), (766, 0.030800041783039377), (767, 0.07772504793849025), (768, 0.04452823916989031), (769, 0.028845455786279138), (770, 0.026590643136022184), (771, 0.03988848934372402), (772, 0.05042926192268456), (773, 0.06963576655906664), (774, 0.018099830823722976), (775, 0.055996875224330646), (776, 0.0), (777, 0.013985292201737682), (778, 0.026515972519947417), (779, 0.011217565361927048), (780, 0.020862679062055446), (781, 0.015265292303345415), (782, 0.014584878598216337), (783, 0.017148617559254967), (784, 0.1580204733031559), (785, 0.024181751070005576), (786, 0.03259740281554224), (787, 0.10429879200859704), (788, 0.07772145527217189), (789, 0.05997124132470907), (790, 0.07131786277467965), (791, 0.043653671711567386), (792, 0.0), (793, 0.04222697895250619), (794, 0.02128384897612554), (795, 0.1399509354170897), (796, 0.04361016624403981), (797, 0.0), (798, 0.013823637399204123), (799, 0.025396120682952723), (800, 0.08460582778250958), (801, 0.08321975631829373), (802, 0.038073219341675416), (803, 0.041681429890839033), (804, 0.04952133211402329), (805, 0.09144696331970098), (806, 0.0), (807, 0.022354499688851844), (808, 0.04615609465220777), (809, 0.08473038691360395), (810, 0.0), (811, 0.0), (812, 0.03742612296606177), (813, 0.0), (814, 0.009554700304583757), (815, 0.005386397383902724), (816, 0.006638118945382315), (817, 0.0029545588826320004), (818, 0.11999716047692423), (819, 0.06099150945473251), (820, 0.02788384459942089), (821, 0.05464420017001989), (822, 0.10404542694565969), (823, 0.0), (824, 0.027631826848603384), (825, 0.07152103696087149), (826, 0.1432900615669084), (827, 0.025184720759135977), (828, 0.06429387888016433), (829, 0.016582478651139987), (830, 0.01904655637840082), (831, 0.024220981407649483), (832, 0.002860676265203679), (833, 0.0), (834, 0.017836583517427278), (835, 0.0163846896909586), (836, 0.04068363874132776), (837, 0.1302901846552796), (838, 0.046070330861533684), (839, 0.05415275834692583), (840, 0.007155403395283125), (841, 0.02487000429513811), (842, 0.050138362799429195), (843, 0.010825993391342804), (844, 0.03667570382587485), (845, 0.07512103739323855), (846, 0.0188019316323681), (847, 0.026498249750836846), (848, 0.013820475064675226), (849, 0.048160172088792065), (850, 0.026414804334810013), (851, 0.06015959720908006), (852, 0.0150853137244517), (853, 0.0062834167528428506), (854, 0.013900826761995753), (855, 0.047084142836988606), (856, 0.04475937176600746), (857, 0.01601262661412095), (858, 0.07756378769107891), (859, 0.018327430710477238), (860, 0.026958152285312766), (861, 0.037705103977864675), (862, 0.014220158853948022), (863, 0.07403137669892407), (864, 0.01404815928530085), (865, 0.024797455624878312), (866, 0.06787577190384239), (867, 0.02489256980608618), (868, 0.03001695646298011), (869, 0.031647765347500245), (870, 0.05941642635408061), (871, 0.0037797993453401357), (872, 0.01891023216951628), (873, 0.13182378536268446), (874, 0.015295336896397024), (875, 0.0), (876, 0.0), (877, 0.07879114800756282), (878, 0.01275579272967607), (879, 0.04320558054280101), (880, 0.03052952199024034), (881, 0.01171780041070912), (882, 0.055487961710723635), (883, 0.02113484660855544), (884, 0.013769635360866322), (885, 0.0), (886, 0.042297806069886645), (887, 0.03698137348226692), (888, 0.014535016093728875), (889, 0.0), (890, 0.010524668741267059), (891, 0.036061228471306855), (892, 0.00854013532549506), (893, 0.005519272425594804), (894, 0.033618747550786615), (895, 0.022446450422605693), (896, 0.004661866336747014), (897, 0.0709340158252351), (898, 0.0481315540074416), (899, 0.0), (900, 0.0176141424907675), (901, 0.013292261740422966), (902, 0.06741081279248459), (903, 0.06657240831844176), (904, 0.01390752801886822), (905, 0.02208407361514812), (906, 0.03534807358847471), (907, 0.02269517900457475), (908, 0.05160349331909665), (909, 0.038480274917216686), (910, 0.04298899578949421), (911, 0.023605943954688798), (912, 0.05567735241047156), (913, 0.01013590029996163), (914, 0.021092397837125357), (915, 0.004027287987333296), (916, 0.01589846080000335), (917, 0.0), (918, 0.015504100593888077), (919, 0.0), (920, 0.027621336315080958), (921, 0.0), (922, 0.01451108700601064), (923, 0.1407773712123949), (924, 0.03829507092668777), (925, 0.04462505785831948), (926, 0.07122868816350322), (927, 0.04055544997845492), (928, 0.025987886346140746), (929, 0.007112404380234221), (930, 0.01210042301478295), (931, 0.03450989472579318), (932, 0.08586521666015971), (933, 0.022507507344430997), (934, 0.0), (935, 0.08770613254380152), (936, 0.027992410438684924), (937, 0.08871499690288784), (938, 0.054487225278379924), (939, 0.02224023029916728), (940, 0.04772725089399997), (941, 0.07331152612191254), (942, 0.011931252048658374), (943, 0.05230582216957439), (944, 0.023615781764607668), (945, 0.03814083175688025), (946, 0.01496946846980469), (947, 0.03780103114015844), (948, 0.0), (949, 0.051861136512348416), (950, 0.016143066799949767), (951, 0.022635340902592543), (952, 0.03831162003544049), (953, 0.04730399310886581), (954, 0.03834696668139877), (955, 0.05081065576835762), (956, 0.00448238183665293), (957, 0.030335134442079303), (958, 0.013985292201737682), (959, 0.024751768387342745), (960, 0.06796120531151227), (961, 0.044530160352722954), (962, 0.015024229358147234), (963, 0.029518549120773018), (964, 0.004617540000745901), (965, 0.05547046462982113), (966, 0.006568584823604109), (967, 0.04107446503357019), (968, 0.022154648780339566), (969, 0.025177072562345304), (970, 0.018902661194632547), (971, 0.020867131474707756), (972, 0.029667668549779008), (973, 0.041709735308862225), (974, 0.017821336637674566), (975, 0.0), (976, 0.09543945839887807), (977, 0.006170060283255974), (978, 0.035568301274034556), (979, 0.010939372036724647), (980, 0.02675846308692763), (981, 0.024837507781730373), (982, 0.028448433769718916), (983, 0.10983068717111585), (984, 0.047052430572240095), (985, 0.03028485559547091), (986, 0.04705702984506269), (987, 0.040495343208509366), (988, 0.0), (989, 0.061255773655959425), (990, 0.030001736784022598), (991, 0.0), (992, 0.00977823009731019), (993, 0.0642059208641762), (994, 0.035810492093958916), (995, 0.0), (996, 0.0), (997, 0.02167604086357823), (998, 0.08705285456026941), (999, 0.06682936389177968), (1000, 0.09991686708285118), (1001, 0.03643607823697016), (1002, 0.027188844160133768), (1003, 0.0), (1004, 0.038575909085744174), (1005, 0.04533934255625464), (1006, 0.00938771644621063), (1007, 0.023321509972078183), (1008, 0.01563852653927244), (1009, 0.039655032504292816), (1010, 0.04375775211332491), (1011, 0.017173719504567943), (1012, 0.020087846609224268), (1013, 0.0), (1014, 0.012375746923849308), (1015, 0.0691769467470588), (1016, 0.009894508433836989), (1017, 0.010845190797642056), (1018, 0.13384366455160512), (1019, 0.0), (1020, 0.028445553991968686), (1021, 0.009880624006551045), (1022, 0.0), (1023, 0.005674646449574102), (1024, 0.00395864723503648), (1025, 0.08882270223310104), (1026, 0.01685996568923435), (1027, 0.018642331481580447), (1028, 0.0), (1029, 0.0), (1030, 0.04927171776552951), (1031, 0.013363537718328997), (1032, 0.07504380636942296), (1033, 0.0575999624380109), (1034, 0.0), (1035, 0.012609225485957058), (1036, 0.03449850858269804), (1037, 0.04586300521752256), (1038, 0.017224351631056147), (1039, 0.02684751408030496), (1040, 0.0), (1041, 0.03952250433164845), (1042, 0.020055507647230762), (1043, 0.0), (1044, 0.01451108700601064), (1045, 0.011708596088953246), (1046, 0.014972071556457802), (1047, 0.015297084198997708), (1048, 0.06998262222137638), (1049, 0.01375354918588289), (1050, 0.056822001451948635), (1051, 0.13436794889227904), (1052, 0.0061761867458047705), (1053, 0.060663904026421474), (1054, 0.03465813040838514), (1055, 0.02656716607710201), (1056, 0.04230389212333837), (1057, 0.0), (1058, 0.01586553152194546), (1059, 0.018448229260997154), (1060, 0.0), (1061, 0.03448831710555331), (1062, 0.0), (1063, 0.03393065165271654), (1064, 0.028543177681953573), (1065, 0.0), (1066, 0.010920614065200715), (1067, 0.03757826718084985), (1068, 0.020784384023920844), (1069, 0.004919144540937179), (1070, 0.032911808673095476), (1071, 0.043799566191471885), (1072, 0.01451108700601064), (1073, 0.030483392575987985), (1074, 0.0), (1075, 0.010019725377123114), (1076, 0.12860939281219846), (1077, 0.056918944190504084), (1078, 0.009720476246170198), (1079, 0.049410872073548905), (1080, 0.00947764087024702), (1081, 0.01122525408649553), (1082, 0.009470984115759199), (1083, 0.020294960245079454), (1084, 0.04145125391514693), (1085, 0.04374503063918884), (1086, 0.012115482220636681), (1087, 0.006596009349604312), (1088, 0.10152125235593937), (1089, 0.02120212009770773), (1090, 0.05221937090432244), (1091, 0.0), (1092, 0.007522074314683446), (1093, 0.05125405797142535), (1094, 0.12485744163222837), (1095, 0.01880476799226031), (1096, 0.0), (1097, 0.058373677110686126), (1098, 0.08381372472782382), (1099, 0.0), (1100, 0.02345991491507677), (1101, 0.0212281203368242), (1102, 0.04794589833581432), (1103, 0.023145388760474745), (1104, 0.0665690836635016), (1105, 0.06425310314357288), (1106, 0.0), (1107, 0.0), (1108, 0.0), (1109, 0.013017834089803561), (1110, 0.008459563589352834), (1111, 0.0), (1112, 0.0), (1113, 0.08627106249413244), (1114, 0.017582843476085776), (1115, 0.015459173115448168), (1116, 0.0), (1117, 0.0), (1118, 0.032864194741169736), (1119, 0.02191109297069338), (1120, 0.017890170497654095), (1121, 0.03298136432779376), (1122, 0.010981283077774092), (1123, 0.0), (1124, 0.009198107189563626), (1125, 0.01765536977592581), (1126, 0.0160557715599731), (1127, 0.010088931919283062), (1128, 0.030499805178307124), (1129, 0.05432839614117425), (1130, 0.02832565230983246), (1131, 0.03664651138375484), (1132, 0.013075446059696925), (1133, 0.0), (1134, 0.038655226287327406), (1135, 0.018562237118195345), (1136, 0.06478011546634972), (1137, 0.024415738487803682), (1138, 0.013574493007195624), (1139, 0.01451108700601064), (1140, 0.03286040306709752), (1141, 0.0), (1142, 0.020049767888982245), (1143, 0.03652275237370599), (1144, 0.02862234118389287), (1145, 0.024966197328711293), (1146, 0.0), (1147, 0.03771756048960359), (1148, 0.0), (1149, 0.03266001130618596), (1150, 0.016797565097178436), (1151, 0.10850495689478666), (1152, 0.01995701293691558), (1153, 0.18142802602191135), (1154, 0.029740315980827707), (1155, 0.0), (1156, 0.0), (1157, 0.0), (1158, 0.07539866148097428), (1159, 0.01705382266852883), (1160, 0.09940130535399157), (1161, 0.04349054311517208), (1162, 0.021084198075973126), (1163, 0.020827927970925), (1164, 0.03452076894074052), (1165, 0.008027574726966405), (1166, 0.010367843739186571), (1167, 0.0), (1168, 0.012004292759340267), (1169, 0.01883670187449174), (1170, 0.02449928804424433), (1171, 0.0), (1172, 0.05414307800937146), (1173, 0.03321346872876059), (1174, 0.006100767751378174), (1175, 0.021464445992994113), (1176, 0.0), (1177, 0.0), (1178, 0.011134624780128565), (1179, 0.033230435260712544), (1180, 0.04755776254347211), (1181, 0.028237339972913045), (1182, 0.012171622169206656), (1183, 0.03266891709920873), (1184, 0.011693410894842979), (1185, 0.0), (1186, 0.013617611716973036), (1187, 0.03314093276640552), (1188, 0.02787518960891404), (1189, 0.031300525093317315), (1190, 0.006294259777552498), (1191, 0.019687772167627265), (1192, 0.026409147964178252), (1193, 0.03469407944437208), (1194, 0.004872654591581806), (1195, 0.07412255385096353), (1196, 0.014158749526600319), (1197, 0.019673139518938107), (1198, 0.13541917351811586), (1199, 0.05736627882651765), (1200, 0.005713821860976701), (1201, 0.00810496428687707), (1202, 0.012010505447133567), (1203, 0.05126507837068939), (1204, 0.027310045711537334), (1205, 0.01390752801886822), (1206, 0.0), (1207, 0.030368779072288493), (1208, 0.021346366009799445), (1209, 0.025702890929372387), (1210, 0.02611746632589948), (1211, 0.0197634674688142), (1212, 0.0), (1213, 0.0), (1214, 0.014983251378840516), (1215, 0.006295918094806688), (1216, 0.028561426966766248), (1217, 0.0), (1218, 0.0), (1219, 0.019949189130642073), (1220, 0.0), (1221, 0.07856215244077816), (1222, 0.017994154968964136), (1223, 0.00491650059282339), (1224, 0.011789060000467914), (1225, 0.053734742774259714), (1226, 0.04785928323835796), (1227, 0.01312976776437095), (1228, 0.009402170279200907), (1229, 0.0), (1230, 0.03642493081538439), (1231, 0.05627913961202227), (1232, 0.02721311730813447), (1233, 0.06798159149966478), (1234, 0.01524979957238327), (1235, 0.05491033495126031), (1236, 0.006777775817423809), (1237, 0.03441482013967801), (1238, 0.02304833897426382), (1239, 0.0), (1240, 0.039971495687111204), (1241, 0.04511589026976655), (1242, 0.0), (1243, 0.05240690265644939), (1244, 0.01079784174505842), (1245, 0.033546414996466156), (1246, 0.05126467189434903), (1247, 0.01427580274604218), (1248, 0.04153464831108683), (1249, 0.0), (1250, 0.012973680582335586), (1251, 0.04340064105465906), (1252, 0.0592141465868946), (1253, 0.09586844029089024), (1254, 0.014200478981769531), (1255, 0.009327448187941768), (1256, 0.0), (1257, 0.06763272549062894), (1258, 0.08713720947428016), (1259, 0.022331062895901106), (1260, 0.0), (1261, 0.05649770186428827), (1262, 0.008320423658969756), (1263, 0.01287691535408557), (1264, 0.02084952487553004), (1265, 0.0), (1266, 0.010514605140942502), (1267, 0.056566754790164236), (1268, 0.04760351989664665), (1269, 0.07012411441075433), (1270, 0.020976597088991585), (1271, 0.018934369552759518), (1272, 0.010415333744876965), (1273, 0.005278271061512543), (1274, 0.04678378181408192), (1275, 0.032662057658846375), (1276, 0.0), (1277, 0.016321193748338052), (1278, 0.07242323223620688), (1279, 0.02068469204363796), (1280, 0.014219722007780006), (1281, 0.08641008505371041), (1282, 0.049634430241886206), (1283, 0.0), (1284, 0.0), (1285, 0.030493924765906098), (1286, 0.0), (1287, 0.03220048767630421), (1288, 0.0), (1289, 0.08057033238062279), (1290, 0.0), (1291, 0.0), (1292, 0.0), (1293, 0.05829286187934028), (1294, 0.010278056371156228), (1295, 0.0), (1296, 0.01033464476839218), (1297, 0.03722936989430077), (1298, 0.016701358786999198), (1299, 0.010639502418572292), (1300, 0.02888660313611329), (1301, 0.04985143531401772), (1302, 0.00763092958951138), (1303, 0.006812809974448231), (1304, 0.03187613824354902), (1305, 0.0), (1306, 0.0), (1307, 0.005402398851048692), (1308, 0.007719127698489061), (1309, 0.038205697017250094), (1310, 0.07947103138429487), (1311, 0.013068969325097919), (1312, 0.05650530522642892), (1313, 0.03121239371116733), (1314, 0.0), (1315, 0.004024789464796562), (1316, 0.04649102841562693), (1317, 0.022093020279348757), (1318, 0.0), (1319, 0.0), (1320, 0.03951477654943928), (1321, 0.0), (1322, 0.0), (1323, 0.01773542705884864), (1324, 0.009339584246313905), (1325, 0.0), (1326, 0.030697440980153652), (1327, 0.03898640483870662), (1328, 0.0), (1329, 0.0392384918016862), (1330, 0.09786052513375511), (1331, 0.0), (1332, 0.0), (1333, 0.0), (1334, 0.012313300252681288), (1335, 0.0), (1336, 0.03185166631095053), (1337, 0.02569021581837518), (1338, 0.008225361458210168), (1339, 0.0), (1340, 0.0), (1341, 0.01652115065234183), (1342, 0.047291888587149375), (1343, 0.014206500887875811), (1344, 0.03004670189544918), (1345, 0.10780039701336265), (1346, 0.01181675550992339), (1347, 0.010309325113494562), (1348, 0.0), (1349, 0.0), (1350, 0.0), (1351, 0.0), (1352, 0.01749193284233804), (1353, 0.004837670151545723), (1354, 0.046461769695432156), (1355, 0.015867643836157904), (1356, 0.0377184095180038), (1357, 0.0), (1358, 0.0), (1359, 0.0), (1360, 0.0), (1361, 0.0), (1362, 0.0), (1363, 0.028063190356231095), (1364, 0.04532364731287582), (1365, 0.01451108700601064), (1366, 0.018501580099861043), (1367, 0.0), (1368, 0.014844799505475435), (1369, 0.06371646199336045), (1370, 0.0), (1371, 0.07880819564869804), (1372, 0.014536278654172854), (1373, 0.0), (1374, 0.01390752801886822), (1375, 0.0), (1376, 0.030561755163187425), (1377, 0.012086985277178778), (1378, 0.04455644437988795), (1379, 0.031109866011891234), (1380, 0.062475626421732086), (1381, 0.0), (1382, 0.008063532588143917), (1383, 0.08831345625417343), (1384, 0.01238577435437408), (1385, 0.03640211710203373), (1386, 0.01090340586392473), (1387, 0.009487368049917877), (1388, 0.04586422721578344), (1389, 0.017950383021928515), (1390, 0.08287683993697784), (1391, 0.02569380421459142), (1392, 0.02389210732902954), (1393, 0.0), (1394, 0.0), (1395, 0.0), (1396, 0.02471390541623819), (1397, 0.013330641495503885), (1398, 0.058202227037935005), (1399, 0.02673658227522655)]\n"
     ]
    }
   ],
   "source": [
    "similarity_score = list(enumerate(similarity[index_of_the_movie]))\n",
    "print(similarity_score)"
   ]
  },
  {
   "cell_type": "code",
   "execution_count": 25,
   "id": "30a81885",
   "metadata": {},
   "outputs": [
    {
     "data": {
      "text/plain": [
       "1400"
      ]
     },
     "execution_count": 25,
     "metadata": {},
     "output_type": "execute_result"
    }
   ],
   "source": [
    "len(similarity_score)"
   ]
  },
  {
   "cell_type": "code",
   "execution_count": 28,
   "id": "0c8e6857",
   "metadata": {},
   "outputs": [
    {
     "name": "stdout",
     "output_type": "stream",
     "text": [
      "[(51, 1.0000000000000002), (1153, 0.18142802602191135), (238, 0.16245636130583935), (561, 0.15996628829213658), (784, 0.1580204733031559), (271, 0.15301594926974002), (410, 0.14827449979148774), (826, 0.1432900615669084), (24, 0.1410137836050662), (923, 0.1407773712123949), (795, 0.1399509354170897), (558, 0.13959202562144113), (1198, 0.13541917351811586), (140, 0.1347784568942121), (1051, 0.13436794889227904), (1018, 0.13384366455160512), (873, 0.13182378536268446), (837, 0.1302901846552796), (6, 0.12927758187710525), (679, 0.1292257883591863), (1076, 0.12860939281219846), (29, 0.12542786294806346), (1094, 0.12485744163222837), (818, 0.11999716047692423), (493, 0.11886727360350566), (249, 0.11855063138330203), (94, 0.11798591701108366), (161, 0.11734492689362705), (574, 0.11668344704147865), (418, 0.1160621298462892), (185, 0.11487259039652102), (552, 0.11485955979229481), (322, 0.11481306163285922), (595, 0.11291086775184228), (146, 0.10989086458736116), (983, 0.10983068717111585), (1151, 0.10850495689478666), (726, 0.10791430258380372), (455, 0.1078653638488627), (549, 0.10785378850934808), (1345, 0.10780039701336265), (202, 0.10751053707194858), (333, 0.10560438900355242), (727, 0.10458717085974326), (787, 0.10429879200859704), (822, 0.10404542694565969), (515, 0.10396167083095113), (217, 0.1034046837129753), (19, 0.1028357859527238), (625, 0.10225426126083687), (39, 0.10200456789176589), (483, 0.10173149097479325), (1088, 0.10152125235593937), (178, 0.10127669558178064), (759, 0.10101852247002484), (2, 0.10091084151233282), (127, 0.10010136872695162), (637, 0.10001868595082675), (1000, 0.09991686708285118), (406, 0.0995511544353998), (1160, 0.09940130535399157), (244, 0.09930265353784883), (526, 0.09897369814686251), (553, 0.09886868365909043), (296, 0.09831734409688507), (283, 0.09829878851883535), (1330, 0.09786052513375511), (565, 0.09712121066935073), (298, 0.0958721229294852), (1253, 0.09586844029089024), (976, 0.09543945839887807), (402, 0.09465002449273935), (76, 0.09435434217311614), (193, 0.09394517427698984), (290, 0.0936120321990891), (431, 0.09334565290618134), (719, 0.09314596125025326), (443, 0.09282375954394116), (171, 0.09255628088707216), (475, 0.09204563210259734), (547, 0.0918613656113475), (396, 0.0917263443165497), (340, 0.09159584556175852), (805, 0.09144696331970098), (294, 0.09138805404127134), (156, 0.09114784957398556), (656, 0.09037041373604017), (337, 0.08954055379765442), (441, 0.08934486689969506), (33, 0.08895028195417302), (1025, 0.08882270223310104), (937, 0.08871499690288784), (692, 0.08858031502542575), (590, 0.0883178002226427), (1383, 0.08831345625417343), (505, 0.08822717828913312), (935, 0.08770613254380152), (49, 0.08728933283837627), (1258, 0.08713720947428016), (998, 0.08705285456026941), (1281, 0.08641008505371041), (621, 0.08630422054321692), (1113, 0.08627106249413244), (330, 0.08625712800140414), (205, 0.08612303901821405), (636, 0.08590788981302135), (932, 0.08586521666015971), (809, 0.08473038691360395), (800, 0.08460582778250958), (513, 0.0840212316986809), (1098, 0.08381372472782382), (222, 0.08379159751536142), (361, 0.08373142131328722), (801, 0.08321975631829373), (1390, 0.08287683993697784), (319, 0.08281358398648973), (125, 0.08280715453768744), (263, 0.08202928197110182), (728, 0.08186683053432545), (489, 0.08156656777122821), (491, 0.08156006140258233), (258, 0.08144314544100904), (280, 0.08107692183762813), (203, 0.08067417524251316), (1289, 0.08057033238062279), (107, 0.0805325390834269), (445, 0.08040134471929491), (1310, 0.07947103138429487), (311, 0.07925503570247461), (1371, 0.07880819564869804), (877, 0.07879114800756282), (284, 0.07864672429478393), (570, 0.07861387398471276), (1221, 0.07856215244077816), (573, 0.07854287877152737), (194, 0.0781600551697609), (767, 0.07772504793849025), (788, 0.07772145527217189), (456, 0.0776850702552027), (16, 0.07761045651516246), (858, 0.07756378769107891), (712, 0.0775586801387351), (324, 0.07726096442369855), (122, 0.07579818494277056), (384, 0.07554828117308399), (1158, 0.07539866148097428), (514, 0.07539479187083545), (285, 0.07521598942045701), (399, 0.07519443377177937), (845, 0.07512103739323855), (1032, 0.07504380636942296), (389, 0.07464000970139074), (674, 0.07436199217997794), (317, 0.07434608122768338), (1195, 0.07412255385096353), (863, 0.07403137669892407), (479, 0.07398367072760954), (301, 0.07377111658089557), (380, 0.07357233450976691), (27, 0.073337217921345), (941, 0.07331152612191254), (18, 0.07325064042096209), (46, 0.07322095463605673), (1278, 0.07242323223620688), (387, 0.07218300500144985), (130, 0.07199728957951704), (534, 0.07156430649834745), (825, 0.07152103696087149), (379, 0.07135702988110502), (790, 0.07131786277467965), (341, 0.0712974571778022), (926, 0.07122868816350322), (686, 0.070951707246492), (897, 0.0709340158252351), (256, 0.07060220888986715), (115, 0.07040648602315078), (329, 0.07020401808395661), (1269, 0.07012411441075433), (740, 0.07007802789113884), (442, 0.07002986069992177), (1048, 0.06998262222137638), (187, 0.06975800557918893), (304, 0.06973525413275712), (235, 0.06971286417513611), (773, 0.06963576655906664), (102, 0.06962907235727665), (1015, 0.0691769467470588), (110, 0.06899895330600964), (585, 0.068968865250562), (214, 0.06870180395721844), (8, 0.06865950879318719), (454, 0.06850024632434168), (123, 0.06848651567376922), (1233, 0.06798159149966478), (960, 0.06796120531151227), (866, 0.06787577190384239), (151, 0.06784647585132858), (1257, 0.06763272549062894), (23, 0.06741619375303393), (902, 0.06741081279248459), (999, 0.06682936389177968), (463, 0.06659000430451063), (903, 0.06657240831844176), (1104, 0.0665690836635016), (566, 0.06645446771153983), (714, 0.06643173867870954), (336, 0.06610152611477367), (453, 0.0659467710325936), (245, 0.06569661047899926), (737, 0.06557700622299714), (439, 0.06554270548773804), (349, 0.06528998372245147), (191, 0.06526688915770926), (42, 0.06509755781313896), (1136, 0.06478011546634972), (701, 0.06446098902418886), (182, 0.06434963118372063), (828, 0.06429387888016433), (1105, 0.06425310314357288), (993, 0.0642059208641762), (315, 0.06420301771144889), (744, 0.06419253380334039), (111, 0.06415226959802775), (433, 0.06414963551380978), (1, 0.06409685539366722), (343, 0.06402546606749276), (20, 0.06388413865863055), (148, 0.06383582417004281), (1369, 0.06371646199336045), (85, 0.06350951056979674), (30, 0.06310035556492666), (57, 0.06286027310133449), (755, 0.0627738039140665), (287, 0.06270340794035388), (1380, 0.062475626421732086), (600, 0.06245348156589749), (277, 0.0622885378036668), (560, 0.06211869630031384), (989, 0.061255773655959425), (43, 0.061239739143689305), (59, 0.061020108435512824), (819, 0.06099150945473251), (1053, 0.060663904026421474), (266, 0.060226575854479915), (243, 0.060189522237053796), (851, 0.06015959720908006), (229, 0.06005818576375909), (145, 0.05997840321412665), (789, 0.05997124132470907), (310, 0.05986743213381064), (446, 0.059856419841798666), (657, 0.05974942132470497), (550, 0.0597052135238435), (297, 0.0595961295039527), (870, 0.05941642635408061), (617, 0.05932426258454895), (334, 0.05926350903066024), (1252, 0.0592141465868946), (233, 0.059166892447795535), (272, 0.05894869349622314), (477, 0.058850931895236436), (499, 0.058840827476266774), (666, 0.05846948662627291), (82, 0.058462577997434324), (1097, 0.058373677110686126), (1293, 0.05829286187934028), (630, 0.05820587637044011), (1398, 0.058202227037935005), (353, 0.05817925953149743), (137, 0.05803124527963396), (155, 0.05782573626703195), (715, 0.057818354628691206), (1033, 0.0575999624380109), (537, 0.05757238821337372), (650, 0.05742500686908738), (1199, 0.05736627882651765), (535, 0.05734849048269075), (575, 0.05721982728477495), (588, 0.05708046910887356), (105, 0.057013840151912486), (207, 0.056985210404932415), (1077, 0.056918944190504084), (1050, 0.056822001451948635), (635, 0.05672332970305931), (1267, 0.056566754790164236), (360, 0.05650672577164427), (1312, 0.05650530522642892), (1261, 0.05649770186428827), (1231, 0.05627913961202227), (351, 0.05627486946817721), (746, 0.05620205366080951), (775, 0.055996875224330646), (488, 0.055949748048249856), (452, 0.055851484453140504), (752, 0.055824084235776596), (912, 0.05567735241047156), (11, 0.05561793042682699), (882, 0.055487961710723635), (965, 0.05547046462982113), (763, 0.05533544992269647), (676, 0.05529054103926968), (641, 0.05505559275536444), (722, 0.05505124982781947), (1235, 0.05491033495126031), (594, 0.05474055829709156), (429, 0.05472703499172352), (84, 0.054676678446903534), (821, 0.05464420017001989), (444, 0.05457021951082963), (938, 0.054487225278379924), (22, 0.05436147761805448), (1129, 0.05432839614117425), (839, 0.05415275834692583), (1172, 0.05414307800937146), (292, 0.05408589034300579), (545, 0.05391458863161309), (1225, 0.053734742774259714), (220, 0.05361187406040564), (664, 0.05359752157361087), (532, 0.05346346063743502), (363, 0.053444957578129164), (132, 0.05341709933257083), (544, 0.05332498324724045), (180, 0.05318541365920297), (459, 0.05316378980704939), (538, 0.05307827327832643), (227, 0.05267692133182527), (643, 0.0526193211241069), (578, 0.052565911270635673), (1243, 0.05240690265644939), (943, 0.05230582216957439), (640, 0.05227436825525432), (1090, 0.05221937090432244), (63, 0.05218836947402812), (654, 0.05192652448295333), (949, 0.051861136512348416), (908, 0.05160349331909665), (38, 0.051484509642402386), (1203, 0.05126507837068939), (1246, 0.05126467189434903), (1093, 0.05125405797142535), (150, 0.051026558975152785), (80, 0.05095199401885999), (955, 0.05081065576835762), (435, 0.050749820921624916), (138, 0.05071236334248292), (241, 0.05070661237101294), (300, 0.05064732227995409), (416, 0.0505963451938092), (188, 0.05043011644361), (772, 0.05042926192268456), (219, 0.0501594277048042), (842, 0.050138362799429195), (688, 0.04988988383565651), (1301, 0.04985143531401772), (697, 0.049787585420052696), (87, 0.04973784859545826), (1282, 0.049634430241886206), (64, 0.04960135310026288), (804, 0.04952133211402329), (1079, 0.049410872073548905), (1030, 0.04927171776552951), (254, 0.049261125771691505), (494, 0.04924457962403255), (420, 0.04911952393696174), (372, 0.04887005389887744), (117, 0.04878447482923441), (7, 0.04874892940393154), (53, 0.04851416563771183), (388, 0.04821847509866275), (849, 0.048160172088792065), (898, 0.0481315540074416), (397, 0.048127205541867335), (447, 0.04810769713320546), (1102, 0.04794589833581432), (1226, 0.04785928323835796), (940, 0.04772725089399997), (142, 0.047699516821090644), (432, 0.04763924682489204), (1268, 0.04760351989664665), (1180, 0.04755776254347211), (651, 0.04754753500989546), (88, 0.04751253937796136), (73, 0.047414536165021885), (953, 0.04730399310886581), (74, 0.04729858105885049), (1342, 0.047291888587149375), (509, 0.04725220168780619), (855, 0.047084142836988606), (986, 0.04705702984506269), (984, 0.047052430572240095), (540, 0.04700109149307265), (252, 0.04694439075243293), (422, 0.04681204358746205), (451, 0.04680146081124399), (1274, 0.04678378181408192), (539, 0.04676897861584611), (58, 0.04658349687623551), (302, 0.04650690444644764), (1316, 0.04649102841562693), (1354, 0.046461769695432156), (198, 0.04636351140648156), (228, 0.046348994140452356), (808, 0.04615609465220777), (365, 0.046123189665148716), (838, 0.046070330861533684), (14, 0.045951989628117806), (1388, 0.04586422721578344), (1037, 0.04586300521752256), (3, 0.04558922861904379), (274, 0.04545411157611195), (613, 0.04538632828025642), (1005, 0.04533934255625464), (1364, 0.04532364731287582), (610, 0.04518608423577715), (5, 0.045132844694829345), (1241, 0.04511589026976655), (691, 0.045083111870517986), (273, 0.04502293918185671), (448, 0.04501751727615178), (438, 0.04491446594104784), (648, 0.044886607836639184), (12, 0.044778550583374356), (856, 0.04475937176600746), (95, 0.044628458778433654), (925, 0.04462505785831948), (633, 0.044573542944323766), (1378, 0.04455644437988795), (350, 0.04453833122396396), (961, 0.044530160352722954), (768, 0.04452823916989031), (391, 0.04445269138738689), (423, 0.04419289080142509), (598, 0.044187734453624464), (60, 0.04406396413253633), (415, 0.0440401453198536), (10, 0.04402928806688789), (143, 0.04387630968025656), (1071, 0.043799566191471885), (1010, 0.04375775211332491), (1085, 0.04374503063918884), (653, 0.043712743556031775), (791, 0.043653671711567386), (796, 0.04361016624403981), (404, 0.043526166829772214), (1161, 0.04349054311517208), (1251, 0.04340064105465906), (54, 0.04334951351021439), (113, 0.04331250036849501), (879, 0.04320558054280101), (204, 0.043180364167806795), (66, 0.04315633709290212), (910, 0.04298899578949421), (332, 0.04280892999125043), (237, 0.04258523896970062), (240, 0.04252286845201656), (181, 0.04246008679654423), (144, 0.04245426456926325), (485, 0.04237627291912008), (100, 0.04234328918824855), (1056, 0.04230389212333837), (886, 0.042297806069886645), (793, 0.04222697895250619), (506, 0.042033107873036074), (567, 0.04198698924858079), (103, 0.04193504963463363), (409, 0.04193128858898451), (377, 0.041825117366110484), (215, 0.04175193540032886), (973, 0.041709735308862225), (803, 0.041681429890839033), (1248, 0.04153464831108683), (158, 0.041532099876370146), (1084, 0.04145125391514693), (713, 0.0414113753656688), (967, 0.04107446503357019), (464, 0.04086715932721367), (339, 0.04077765167873933), (836, 0.04068363874132776), (306, 0.04059079360635053), (177, 0.0405817091616505), (927, 0.04055544997845492), (987, 0.040495343208509366), (93, 0.040477128017277236), (572, 0.040410978496661774), (112, 0.040312049878622705), (658, 0.04013355410248238), (1240, 0.039971495687111204), (771, 0.03988848934372402), (1009, 0.039655032504292816), (665, 0.03954776435488855), (1041, 0.03952250433164845), (1320, 0.03951477654943928), (467, 0.03937472214530038), (543, 0.03934670281841573), (210, 0.0393133265157558), (434, 0.03927905315841762), (1329, 0.0392384918016862), (97, 0.03915188917898393), (346, 0.03903667740635487), (548, 0.03903268399763738), (268, 0.03900975481294027), (1327, 0.03898640483870662), (83, 0.03889550944229214), (37, 0.03881923172191262), (531, 0.03878132491087107), (1134, 0.038655226287327406), (460, 0.038609989875281206), (1004, 0.038575909085744174), (909, 0.038480274917216686), (359, 0.038373257165387864), (954, 0.03834696668139877), (952, 0.03831162003544049), (924, 0.03829507092668777), (1309, 0.038205697017250094), (945, 0.03814083175688025), (15, 0.03809746888960599), (802, 0.038073219341675416), (262, 0.038065565212944075), (458, 0.038047239059571906), (542, 0.03801823752592524), (408, 0.03801817464676303), (947, 0.03780103114015844), (711, 0.03772831426368166), (1356, 0.0377184095180038), (264, 0.037717637977089644), (1147, 0.03771756048960359), (861, 0.037705103977864675), (1067, 0.03757826718084985), (812, 0.03742612296606177), (502, 0.037354491588782256), (383, 0.03731844394168525), (314, 0.037301754617319695), (201, 0.037273611661611944), (1297, 0.03722936989430077), (721, 0.0372099700130287), (887, 0.03698137348226692), (116, 0.03687181075349684), (756, 0.03678078600438256), (382, 0.03676497992012504), (108, 0.036705686210738594), (844, 0.03667570382587485), (1131, 0.03664651138375484), (626, 0.036538492375493774), (1143, 0.03652275237370599), (524, 0.036521530819224164), (660, 0.03650801124399475), (320, 0.03644389436215084), (1001, 0.03643607823697016), (1230, 0.03642493081538439), (352, 0.03640426225543438), (1385, 0.03640211710203373), (747, 0.036394084715918026), (511, 0.036214981393238435), (72, 0.03614932286475184), (891, 0.036061228471306855), (518, 0.03598067367403082), (196, 0.03593371978825191), (687, 0.03586449897467141), (703, 0.03583891317952521), (994, 0.035810492093958916), (104, 0.035690791746986146), (141, 0.03565108477639254), (525, 0.03563112543142256), (253, 0.035630554826146583), (978, 0.035568301274034556), (98, 0.035547208568031445), (91, 0.03550849486502928), (62, 0.0354630871831686), (437, 0.03539977692199791), (906, 0.03534807358847471), (527, 0.03533402407794938), (34, 0.03521941190907138), (628, 0.03513794928373298), (157, 0.03501926149639331), (533, 0.03496390088694525), (321, 0.03472900476734705), (44, 0.03471714082581367), (1193, 0.03469407944437208), (133, 0.034686722953093496), (1054, 0.03465813040838514), (0, 0.03462618771941496), (259, 0.034584980454527445), (492, 0.0345717393270539), (101, 0.03456187651257852), (554, 0.03453813296034349), (1164, 0.03452076894074052), (931, 0.03450989472579318), (1036, 0.03449850858269804), (1061, 0.03448831710555331), (1237, 0.03441482013967801), (77, 0.034414780594896), (516, 0.03438729397267314), (764, 0.03430691588754821), (186, 0.03425455873747944), (608, 0.03417199520158015), (476, 0.03413129465092911), (663, 0.03398197886614472), (1063, 0.03393065165271654), (589, 0.03373712431145568), (291, 0.033669691785483305), (288, 0.033636892322462864), (9, 0.03362151379406405), (894, 0.033618747550786615), (139, 0.03359297323874233), (1245, 0.033546414996466156), (733, 0.033544928908658816), (705, 0.03348170321299816), (618, 0.033244347895049604), (1179, 0.033230435260712544), (1173, 0.03321346872876059), (1187, 0.03314093276640552), (1121, 0.03298136432779376), (1070, 0.032911808673095476), (1118, 0.032864194741169736), (1140, 0.03286040306709752), (1183, 0.03266891709920873), (1275, 0.032662057658846375), (1149, 0.03266001130618596), (281, 0.032611256560033004), (786, 0.03259740281554224), (153, 0.0324720018168554), (226, 0.03237650298784109), (743, 0.03236562164006248), (398, 0.032242763050401906), (462, 0.03220723329679612), (1287, 0.03220048767630421), (323, 0.03218561532929873), (474, 0.03210537584537215), (557, 0.03193128771085644), (480, 0.031885718732514196), (1304, 0.03187613824354902), (164, 0.03186372470388462), (1336, 0.03185166631095053), (717, 0.03171678268221395), (466, 0.03170346052604722), (278, 0.0316695920354836), (869, 0.031647765347500245), (162, 0.031421601085733226), (216, 0.03141079306877896), (1189, 0.031300525093317315), (401, 0.03127666227111347), (232, 0.031237239625484473), (1313, 0.03121239371116733), (79, 0.03120547456759402), (1379, 0.031109866011891234), (190, 0.03109690873300307), (390, 0.03095566026510519), (749, 0.030943184010477184), (766, 0.030800041783039377), (189, 0.030741495488482734), (699, 0.030715348509375344), (1326, 0.030697440980153652), (754, 0.030616772027140398), (165, 0.030602257831381166), (1376, 0.030561755163187425), (880, 0.03052952199024034), (1128, 0.030499805178307124), (1285, 0.030493924765906098), (1073, 0.030483392575987985), (1207, 0.030368779072288493), (357, 0.030349401686609243), (356, 0.03033618825748031), (957, 0.030335134442079303), (632, 0.03031549901587015), (52, 0.030297997793899686), (13, 0.030292189416371088), (985, 0.03028485559547091), (121, 0.030148897918850465), (230, 0.03006752591045918), (1344, 0.03004670189544918), (868, 0.03001695646298011), (373, 0.030005346116362835), (990, 0.030001736784022598), (312, 0.02995020508118212), (248, 0.02988499713266178), (92, 0.029859662752171653), (1154, 0.029740315980827707), (257, 0.029691013088940222), (972, 0.029667668549779008), (149, 0.02958978161625324), (963, 0.029518549120773018), (576, 0.029461991000561336), (414, 0.029329188112149594), (667, 0.02932284215834179), (316, 0.02930823806046213), (465, 0.02926144675185871), (498, 0.029188350860840775), (307, 0.02912643602591542), (242, 0.0290783618633838), (392, 0.029005061901949306), (417, 0.028932989112852085), (1300, 0.02888660313611329), (769, 0.028845455786279138), (362, 0.028760741932380776), (521, 0.028680512721353323), (1144, 0.02862234118389287), (765, 0.028579830163717408), (1216, 0.028561426966766248), (615, 0.02856033116240673), (69, 0.02855691432556475), (120, 0.028556416535140357), (1064, 0.028543177681953573), (982, 0.028448433769718916), (1020, 0.028445553991968686), (400, 0.02841668511914398), (646, 0.028347996360812516), (1130, 0.02832565230983246), (1181, 0.028237339972913045), (335, 0.02814922923500152), (119, 0.02814441327780638), (355, 0.02811134427727391), (369, 0.028088400404147056), (1363, 0.028063190356231095), (936, 0.027992410438684924), (591, 0.027970413534040728), (820, 0.02788384459942089), (1188, 0.02787518960891404), (275, 0.02773904460141385), (239, 0.027719686255421403), (700, 0.027680317299441384), (128, 0.027634375870097417), (824, 0.027631826848603384), (920, 0.027621336315080958), (199, 0.027612159683800014), (152, 0.027525489275540445), (528, 0.02750136900857373), (580, 0.02748290156495184), (520, 0.02747238749300048), (303, 0.027381766214271), (175, 0.02736268383687389), (581, 0.027343616658519584), (159, 0.02732117273645355), (1204, 0.027310045711537334), (68, 0.02727500662974285), (1232, 0.02721311730813447), (1002, 0.027188844160133768), (56, 0.027157315257911385), (109, 0.027023456399731412), (236, 0.027022785644643027), (860, 0.026958152285312766), (734, 0.02693383627117982), (682, 0.026931029538657787), (1039, 0.02684751408030496), (593, 0.02682493272054602), (223, 0.026818789507929788), (681, 0.02678871028554354), (374, 0.026774246662254197), (980, 0.02675846308692763), (246, 0.026755515867792904), (1399, 0.02673658227522655), (173, 0.02671711207862141), (723, 0.026697452618080916), (523, 0.02668722183308241), (405, 0.02666251338045358), (741, 0.02659957137137615), (770, 0.026590643136022184), (1055, 0.02656716607710201), (496, 0.026538008380857826), (778, 0.026515972519947417), (847, 0.026498249750836846), (276, 0.0264751332135914), (358, 0.026467995822803632), (504, 0.026467187517839098), (564, 0.02644635576183943), (850, 0.026414804334810013), (1192, 0.026409147964178252), (670, 0.026241037375203273), (411, 0.026221670006976068), (1210, 0.02611746632589948), (928, 0.025987886346140746), (718, 0.025938883376208297), (209, 0.0258488326663688), (206, 0.025756530115296026), (642, 0.02573428369179967), (1209, 0.025702890929372387), (1391, 0.02569380421459142), (1337, 0.02569021581837518), (184, 0.02564893827594983), (28, 0.025625674643135286), (48, 0.02558369128095401), (170, 0.02554963073125294), (35, 0.025538965416394267), (607, 0.025515840067797432), (331, 0.025467712343632185), (799, 0.025396120682952723), (601, 0.025320499286724637), (131, 0.02527867885594962), (469, 0.025267367324521964), (827, 0.025184720759135977), (969, 0.025177072562345304), (426, 0.025163776524941648), (218, 0.025132019570021626), (267, 0.02508856921116827), (662, 0.025088528219579857), (212, 0.025082846810178396), (707, 0.025055576887508393), (313, 0.02500788187235186), (1145, 0.024966197328711293), (471, 0.02492671437574757), (867, 0.02489256980608618), (106, 0.024879428785991798), (841, 0.02487000429513811), (299, 0.024868623621667467), (981, 0.024837507781730373), (32, 0.024812953306276125), (865, 0.024797455624878312), (959, 0.024751768387342745), (698, 0.024727459659962828), (562, 0.024715896755823218), (1396, 0.02471390541623819), (1170, 0.02449928804424433), (421, 0.024443882516048954), (1137, 0.024415738487803682), (168, 0.024400845546350858), (748, 0.02433398415819326), (231, 0.024256548345030063), (831, 0.024220981407649483), (385, 0.024187705351969714), (785, 0.024181751070005576), (99, 0.024095321892570222), (61, 0.024029027863509085), (614, 0.02396146545106971), (407, 0.023949319509714056), (1392, 0.02389210732902954), (579, 0.023800519424702134), (571, 0.023704133877200155), (944, 0.023615781764607668), (911, 0.023605943954688798), (213, 0.023582060788868466), (603, 0.0235586687529955), (1100, 0.02345991491507677), (75, 0.023426475859234547), (1007, 0.023321509972078183), (639, 0.02330636436825877), (486, 0.023271909875647263), (1103, 0.023145388760474745), (375, 0.02310550939940855), (1238, 0.02304833897426382), (425, 0.022986563842290662), (269, 0.022947047128251453), (70, 0.02283620298057128), (907, 0.02269517900457475), (951, 0.022635340902592543), (393, 0.022578049708050822), (611, 0.022512903067280682), (933, 0.022507507344430997), (895, 0.022446450422605693), (597, 0.022384843285577445), (807, 0.022354499688851844), (729, 0.022349347961561482), (1259, 0.022331062895901106), (345, 0.0223157438543624), (224, 0.022282902665034535), (367, 0.02227338160721364), (634, 0.02226492069600551), (470, 0.02225114093147809), (354, 0.022250248659695916), (939, 0.02224023029916728), (968, 0.022154648780339566), (325, 0.02215380384389022), (17, 0.022134776548574233), (1317, 0.022093020279348757), (905, 0.02208407361514812), (260, 0.022012321923578746), (45, 0.021911545086534544), (1119, 0.02191109297069338), (732, 0.02187030659840093), (160, 0.021856722060281893), (750, 0.02185564897434209), (497, 0.02177251093263239), (541, 0.02173342657373754), (997, 0.02167604086357823), (395, 0.021668011717752737), (71, 0.021623511158541334), (279, 0.021555603937001906), (86, 0.02155200005805153), (1175, 0.021464445992994113), (424, 0.021351194299235744), (1208, 0.021346366009799445), (176, 0.021312999956230178), (794, 0.02128384897612554), (1101, 0.0212281203368242), (546, 0.02122215577544545), (1089, 0.02120212009770773), (883, 0.02113484660855544), (461, 0.02112818180448693), (914, 0.021092397837125357), (1162, 0.021084198075973126), (78, 0.021041687488606867), (381, 0.021022035719314824), (1270, 0.020976597088991585), (612, 0.020940113244188752), (619, 0.020880992186515845), (971, 0.020867131474707756), (780, 0.020862679062055446), (1264, 0.02084952487553004), (1163, 0.020827927970925), (1068, 0.020784384023920844), (251, 0.020764314801349982), (652, 0.020755982409905692), (1279, 0.02068469204363796), (738, 0.020419146867596983), (166, 0.020376557831407942), (709, 0.020348879458246406), (286, 0.020320531998258572), (1083, 0.020294960245079454), (1012, 0.020087846609224268), (1042, 0.020055507647230762), (1142, 0.020049767888982245), (1152, 0.01995701293691558), (1219, 0.019949189130642073), (487, 0.01979729176895041), (1211, 0.0197634674688142), (1191, 0.019687772167627265), (1197, 0.019673139518938107), (265, 0.019531574921200112), (412, 0.019501783833899354), (536, 0.019419446046592088), (659, 0.01941857107789343), (147, 0.0193876677279657), (620, 0.019370959589475045), (629, 0.019329074602431696), (762, 0.019303457556050847), (195, 0.019241506248291913), (25, 0.019224757904142836), (192, 0.019063211258067453), (376, 0.019057717035663908), (830, 0.01904655637840082), (704, 0.018989009824234414), (90, 0.018981569574383426), (1271, 0.018934369552759518), (556, 0.018923768729672642), (672, 0.018916855898556476), (872, 0.01891023216951628), (970, 0.018902661194632547), (427, 0.01889191626447318), (1169, 0.01883670187449174), (1095, 0.01880476799226031), (846, 0.0188019316323681), (751, 0.018665052191042815), (1027, 0.018642331481580447), (1135, 0.018562237118195345), (1366, 0.018501580099861043), (1059, 0.018448229260997154), (677, 0.01844245090654839), (308, 0.01840882086486819), (428, 0.01833310365684788), (859, 0.018327430710477238), (627, 0.018268627578175968), (609, 0.018258992246617145), (622, 0.018177090550210977), (4, 0.01812470189482289), (774, 0.018099830823722976), (114, 0.018059148909167128), (482, 0.017996590406579433), (1222, 0.017994154968964136), (1389, 0.017950383021928515), (1120, 0.017890170497654095), (55, 0.017886961434704696), (559, 0.01786590217599985), (81, 0.017857856967165384), (834, 0.017836583517427278), (584, 0.017832206136651256), (255, 0.017830731343892063), (974, 0.017821336637674566), (1323, 0.01773542705884864), (1125, 0.01765536977592581), (900, 0.0176141424907675), (1114, 0.017582843476085776), (1352, 0.01749193284233804), (403, 0.01744256990677312), (1038, 0.017224351631056147), (710, 0.017203562150079506), (386, 0.01717946280304468), (1011, 0.017173719504567943), (305, 0.017171375200110216), (706, 0.017153720704899823), (783, 0.017148617559254967), (370, 0.017101997181312244), (501, 0.01706814929535546), (1159, 0.01705382266852883), (478, 0.017050238135889937), (725, 0.016986407371516417), (293, 0.016936989148774086), (413, 0.016887088577225175), (1026, 0.01685996568923435), (1150, 0.016797565097178436), (1298, 0.016701358786999198), (225, 0.01663259173960884), (172, 0.01663233787081255), (829, 0.016582478651139987), (1341, 0.01652115065234183), (702, 0.01649497617549411), (529, 0.01644520512317602), (551, 0.01640459447097286), (835, 0.0163846896909586), (1277, 0.016321193748338052), (753, 0.01621119986005684), (338, 0.01617870571481859), (950, 0.016143066799949767), (1126, 0.0160557715599731), (857, 0.01601262661412095), (519, 0.015963502277541484), (916, 0.01589846080000335), (1355, 0.015867643836157904), (1058, 0.01586553152194546), (602, 0.015818749155451922), (644, 0.01579212696160944), (135, 0.015698720448163173), (724, 0.015682197564225155), (1008, 0.01563852653927244), (616, 0.015621473573817778), (124, 0.015583869046300172), (918, 0.015504100593888077), (1115, 0.015459173115448168), (89, 0.015408736449588924), (522, 0.015334912585998997), (720, 0.015310429896135146), (1047, 0.015297084198997708), (874, 0.015295336896397024), (781, 0.015265292303345415), (631, 0.015259737863541468), (685, 0.01524979957238327), (1234, 0.01524979957238327), (500, 0.015164198643336131), (208, 0.015152038845306007), (852, 0.0150853137244517), (26, 0.015071429895061722), (962, 0.015024229358147234), (1214, 0.014983251378840516), (1046, 0.014972071556457802), (946, 0.01496946846980469), (586, 0.014947233427896056), (599, 0.014844799505475435), (645, 0.014844799505475435), (758, 0.014844799505475435), (1368, 0.014844799505475435), (47, 0.01475723963878282), (683, 0.014656055597048072), (468, 0.014587903804797245), (782, 0.014584878598216337), (1372, 0.014536278654172854), (888, 0.014535016093728875), (31, 0.014520104990165138), (922, 0.01451108700601064), (1044, 0.01451108700601064), (1072, 0.01451108700601064), (1139, 0.01451108700601064), (1365, 0.01451108700601064), (50, 0.014431497337713654), (680, 0.014397361779820508), (1247, 0.01427580274604218), (583, 0.014226330373805798), (368, 0.014226155669077055), (862, 0.014220158853948022), (1280, 0.014219722007780006), (1343, 0.014206500887875811), (1254, 0.014200478981769531), (716, 0.014192212582152664), (1196, 0.014158749526600319), (864, 0.01404815928530085), (777, 0.013985292201737682), (958, 0.013985292201737682), (364, 0.013968347934160553), (328, 0.013935601605300562), (904, 0.01390752801886822), (1205, 0.01390752801886822), (1374, 0.01390752801886822), (854, 0.013900826761995753), (798, 0.013823637399204123), (848, 0.013820475064675226), (884, 0.013769635360866322), (21, 0.013768734400719594), (1049, 0.01375354918588289), (745, 0.013671496563905643), (730, 0.013645736045866198), (126, 0.013641952764699157), (1186, 0.013617611716973036), (1138, 0.013574493007195624), (326, 0.013459574588029134), (1031, 0.013363537718328997), (1397, 0.013330641495503885), (179, 0.01331236700767037), (901, 0.013292261740422966), (638, 0.013163935274060025), (1227, 0.01312976776437095), (1132, 0.013075446059696925), (1311, 0.013068969325097919), (661, 0.013028353465691757), (1109, 0.013017834089803561), (1250, 0.012973680582335586), (1263, 0.01287691535408557), (577, 0.012773760253557847), (878, 0.01275579272967607), (419, 0.012754491179555696), (582, 0.012753961050003117), (174, 0.01269056451082647), (449, 0.012620699548667298), (1035, 0.012609225485957058), (690, 0.01255922621718393), (510, 0.01244589032644686), (694, 0.012399898582551017), (1384, 0.01238577435437408), (169, 0.012383424843847843), (1014, 0.012375746923849308), (1334, 0.012313300252681288), (129, 0.012277905480777743), (671, 0.012258795123754761), (1182, 0.012171622169206656), (65, 0.012148955578547614), (1086, 0.012115482220636681), (930, 0.01210042301478295), (1377, 0.012086985277178778), (1202, 0.012010505447133567), (1168, 0.012004292759340267), (555, 0.012002042495184191), (96, 0.011951625501478096), (942, 0.011931252048658374), (1346, 0.01181675550992339), (1224, 0.011789060000467914), (436, 0.011747792557880676), (881, 0.01171780041070912), (1045, 0.011708596088953246), (1184, 0.011693410894842979), (623, 0.011600118700070019), (569, 0.01141229978867487), (473, 0.011402579012083995), (378, 0.011316872350451108), (678, 0.01131139254451765), (36, 0.011297728363008915), (1081, 0.01122525408649553), (779, 0.011217565361927048), (675, 0.011134624780128565), (1178, 0.011134624780128565), (495, 0.011086552149481257), (761, 0.011040348470853962), (366, 0.011037824444607327), (731, 0.011035455177470132), (327, 0.0110032098992901), (250, 0.010986505298746709), (1122, 0.010981283077774092), (668, 0.010961546234987019), (503, 0.010950635691525292), (979, 0.010939372036724647), (1066, 0.010920614065200715), (118, 0.010913976839068537), (1386, 0.01090340586392473), (440, 0.010881583304580434), (1017, 0.010845190797642056), (843, 0.010825993391342804), (1244, 0.01079784174505842), (689, 0.010772392996315132), (163, 0.010770425756278634), (649, 0.010681778941064859), (1299, 0.010639502418572292), (517, 0.010553501882366497), (890, 0.010524668741267059), (1266, 0.010514605140942502), (221, 0.010436482400969317), (342, 0.010422406885566348), (1272, 0.010415333744876965), (1166, 0.010367843739186571), (1296, 0.01033464476839218), (1347, 0.010309325113494562), (1294, 0.010278056371156228), (507, 0.010226872996018856), (913, 0.01013590029996163), (1127, 0.010088931919283062), (673, 0.010037054679271644), (1075, 0.010019725377123114), (481, 0.010013583866073407), (1016, 0.009894508433836989), (1021, 0.009880624006551045), (992, 0.00977823009731019), (1078, 0.009720476246170198), (154, 0.009588343765011297), (814, 0.009554700304583757), (1387, 0.009487368049917877), (1080, 0.00947764087024702), (1082, 0.009470984115759199), (1228, 0.009402170279200907), (1006, 0.00938771644621063), (457, 0.009352149932954211), (1324, 0.009339584246313905), (1255, 0.009327448187941768), (318, 0.009269123804468895), (450, 0.00926562857018429), (1124, 0.009198107189563626), (892, 0.00854013532549506), (1110, 0.008459563589352834), (1262, 0.008320423658969756), (1338, 0.008225361458210168), (183, 0.00819680403356692), (1201, 0.00810496428687707), (67, 0.008101011045860538), (197, 0.008088490149539945), (136, 0.008074072041101967), (1382, 0.008063532588143917), (1165, 0.008027574726966405), (647, 0.007983875725337423), (1308, 0.007719127698489061), (295, 0.0076730021990829515), (1302, 0.00763092958951138), (587, 0.007612378334797496), (490, 0.007600744824083692), (1092, 0.007522074314683446), (840, 0.007155403395283125), (929, 0.007112404380234221), (1303, 0.006812809974448231), (40, 0.006805749084204123), (1236, 0.006777775817423809), (816, 0.006638118945382315), (1087, 0.006596009349604312), (512, 0.006591059852820743), (966, 0.006568584823604109), (606, 0.006536673286493261), (1215, 0.006295918094806688), (1190, 0.006294259777552498), (853, 0.0062834167528428506), (1052, 0.0061761867458047705), (977, 0.006170060283255974), (289, 0.006166044073492774), (134, 0.006148800602639695), (1174, 0.006100767751378174), (568, 0.006015306501414496), (282, 0.006010988387299669), (167, 0.005925645478630358), (211, 0.005801803951059245), (1200, 0.005713821860976701), (1023, 0.005674646449574102), (371, 0.0055281823412228846), (893, 0.005519272425594804), (1307, 0.005402398851048692), (815, 0.005386397383902724), (430, 0.005331776990631972), (1273, 0.005278271061512543), (530, 0.005202511013109899), (655, 0.005146101630378608), (261, 0.005085606129770822), (309, 0.005069546933012213), (1069, 0.004919144540937179), (1223, 0.00491650059282339), (1194, 0.004872654591581806), (1353, 0.004837670151545723), (739, 0.004823535541276004), (896, 0.004661866336747014), (964, 0.004617540000745901), (41, 0.00459661743848764), (344, 0.004532942768821103), (956, 0.00448238183665293), (247, 0.004463435996920292), (200, 0.004300041471194447), (270, 0.004184500290576672), (484, 0.0041043330795646656), (592, 0.004082341532023916), (915, 0.004027287987333296), (1315, 0.004024789464796562), (1024, 0.00395864723503648), (871, 0.0037797993453401357), (394, 0.0037659970531889186), (347, 0.0036874233348909743), (817, 0.0029545588826320004), (832, 0.002860676265203679), (234, 0.0), (348, 0.0), (472, 0.0), (508, 0.0), (563, 0.0), (596, 0.0), (604, 0.0), (605, 0.0), (624, 0.0), (669, 0.0), (684, 0.0), (693, 0.0), (695, 0.0), (696, 0.0), (708, 0.0), (735, 0.0), (736, 0.0), (742, 0.0), (757, 0.0), (760, 0.0), (776, 0.0), (792, 0.0), (797, 0.0), (806, 0.0), (810, 0.0), (811, 0.0), (813, 0.0), (823, 0.0), (833, 0.0), (875, 0.0), (876, 0.0), (885, 0.0), (889, 0.0), (899, 0.0), (917, 0.0), (919, 0.0), (921, 0.0), (934, 0.0), (948, 0.0), (975, 0.0), (988, 0.0), (991, 0.0), (995, 0.0), (996, 0.0), (1003, 0.0), (1013, 0.0), (1019, 0.0), (1022, 0.0), (1028, 0.0), (1029, 0.0), (1034, 0.0), (1040, 0.0), (1043, 0.0), (1057, 0.0), (1060, 0.0), (1062, 0.0), (1065, 0.0), (1074, 0.0), (1091, 0.0), (1096, 0.0), (1099, 0.0), (1106, 0.0), (1107, 0.0), (1108, 0.0), (1111, 0.0), (1112, 0.0), (1116, 0.0), (1117, 0.0), (1123, 0.0), (1133, 0.0), (1141, 0.0), (1146, 0.0), (1148, 0.0), (1155, 0.0), (1156, 0.0), (1157, 0.0), (1167, 0.0), (1171, 0.0), (1176, 0.0), (1177, 0.0), (1185, 0.0), (1206, 0.0), (1212, 0.0), (1213, 0.0), (1217, 0.0), (1218, 0.0), (1220, 0.0), (1229, 0.0), (1239, 0.0), (1242, 0.0), (1249, 0.0), (1256, 0.0), (1260, 0.0), (1265, 0.0), (1276, 0.0), (1283, 0.0), (1284, 0.0), (1286, 0.0), (1288, 0.0), (1290, 0.0), (1291, 0.0), (1292, 0.0), (1295, 0.0), (1305, 0.0), (1306, 0.0), (1314, 0.0), (1318, 0.0), (1319, 0.0), (1321, 0.0), (1322, 0.0), (1325, 0.0), (1328, 0.0), (1331, 0.0), (1332, 0.0), (1333, 0.0), (1335, 0.0), (1339, 0.0), (1340, 0.0), (1348, 0.0), (1349, 0.0), (1350, 0.0), (1351, 0.0), (1357, 0.0), (1358, 0.0), (1359, 0.0), (1360, 0.0), (1361, 0.0), (1362, 0.0), (1367, 0.0), (1370, 0.0), (1373, 0.0), (1375, 0.0), (1381, 0.0), (1393, 0.0), (1394, 0.0), (1395, 0.0)]\n"
     ]
    }
   ],
   "source": [
    "sorted_similar_movies=sorted(similarity_score, key=lambda x:x[1],reverse=True)\n",
    "print(sorted_similar_movies)"
   ]
  },
  {
   "cell_type": "code",
   "execution_count": 29,
   "id": "5253817b",
   "metadata": {},
   "outputs": [
    {
     "name": "stdout",
     "output_type": "stream",
     "text": [
      "Movies suggested for you : \n",
      "\n",
      "1 . Yevadu\n",
      "2 . Om 3D\n",
      "3 . Rebel\n",
      "4 . Yuddham Sharanam\n",
      "5 . Vijayendra Varama\n",
      "6 . Suryam\n",
      "7 . Swathi Muthyam\n",
      "8 . Padmavyuham\n",
      "9 . Veer - Vivegam\n"
     ]
    }
   ],
   "source": [
    "# print the name of similar movies based on the index\n",
    "\n",
    "print('Movies suggested for you : \\n')\n",
    "\n",
    "i = 1\n",
    "\n",
    "for movie in sorted_similar_movies:\n",
    "  index = movie[0]\n",
    "  title_from_index = movies_data[movies_data.index==index]['Movie'].values[0]\n",
    "  if (i<10):\n",
    "    print(i, '.',title_from_index)\n",
    "    i+=1"
   ]
  },
  {
   "cell_type": "code",
   "execution_count": 30,
   "id": "a8bf323c",
   "metadata": {},
   "outputs": [
    {
     "name": "stdout",
     "output_type": "stream",
     "text": [
      " Enter your favourite movie name : yevadu\n",
      "Movies suggested for you : \n",
      "\n",
      "1 . Yevadu\n",
      "2 . Om 3D\n",
      "3 . Rebel\n",
      "4 . Yuddham Sharanam\n",
      "5 . Vijayendra Varama\n",
      "6 . Suryam\n",
      "7 . Swathi Muthyam\n",
      "8 . Padmavyuham\n",
      "9 . Veer - Vivegam\n"
     ]
    }
   ],
   "source": [
    "movie_name = input(' Enter your favourite movie name : ')\n",
    "\n",
    "list_of_all_titles = movies_data['Movie'].tolist()\n",
    "\n",
    "find_close_match = difflib.get_close_matches(movie_name, list_of_all_titles)\n",
    "\n",
    "close_match = find_close_match[0]\n",
    "\n",
    "index_of_the_movie = movies_data[movies_data.Movie == close_match]['index'].values[0]\n",
    "\n",
    "similarity_score = list(enumerate(similarity[index_of_the_movie]))\n",
    "\n",
    "sorted_similar_movies = sorted(similarity_score, key = lambda x:x[1], reverse = True) \n",
    "\n",
    "print('Movies suggested for you : \\n')\n",
    "\n",
    "i = 1\n",
    "\n",
    "for movie in sorted_similar_movies:\n",
    "  index = movie[0]\n",
    "  title_from_index = movies_data[movies_data.index==index]['Movie'].values[0]\n",
    "  if (i<10):\n",
    "    print(i, '.',title_from_index)\n",
    "    i+=1"
   ]
  },
  {
   "cell_type": "code",
   "execution_count": null,
   "id": "49afd340",
   "metadata": {},
   "outputs": [],
   "source": []
  },
  {
   "cell_type": "code",
   "execution_count": null,
   "id": "1daed008",
   "metadata": {},
   "outputs": [],
   "source": []
  }
 ],
 "metadata": {
  "kernelspec": {
   "display_name": "Python 3 (ipykernel)",
   "language": "python",
   "name": "python3"
  },
  "language_info": {
   "codemirror_mode": {
    "name": "ipython",
    "version": 3
   },
   "file_extension": ".py",
   "mimetype": "text/x-python",
   "name": "python",
   "nbconvert_exporter": "python",
   "pygments_lexer": "ipython3",
   "version": "3.9.7"
  }
 },
 "nbformat": 4,
 "nbformat_minor": 5
}
