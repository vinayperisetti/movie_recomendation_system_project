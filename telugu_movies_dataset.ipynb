{
 "cells": [
  {
   "cell_type": "code",
   "execution_count": 26,
   "id": "f25f24c1",
   "metadata": {},
   "outputs": [],
   "source": [
    "import numpy as np\n",
    "import pandas as pd\n",
    "import difflib\n",
    "from sklearn.feature_extraction.text import TfidfVectorizer\n",
    "from sklearn.metrics.pairwise import cosine_similarity"
   ]
  },
  {
   "cell_type": "code",
   "execution_count": 27,
   "id": "7ee15aff",
   "metadata": {},
   "outputs": [],
   "source": [
    "movies_data=pd.read_csv(\"Movies_1930_1999.csv\")"
   ]
  },
  {
   "cell_type": "code",
   "execution_count": 28,
   "id": "2546de01",
   "metadata": {},
   "outputs": [
    {
     "data": {
      "text/html": [
       "<div>\n",
       "<style scoped>\n",
       "    .dataframe tbody tr th:only-of-type {\n",
       "        vertical-align: middle;\n",
       "    }\n",
       "\n",
       "    .dataframe tbody tr th {\n",
       "        vertical-align: top;\n",
       "    }\n",
       "\n",
       "    .dataframe thead th {\n",
       "        text-align: right;\n",
       "    }\n",
       "</style>\n",
       "<table border=\"1\" class=\"dataframe\">\n",
       "  <thead>\n",
       "    <tr style=\"text-align: right;\">\n",
       "      <th></th>\n",
       "      <th>Title</th>\n",
       "      <th>Director</th>\n",
       "      <th>Production</th>\n",
       "      <th>Music Composer</th>\n",
       "      <th>Cast</th>\n",
       "      <th>Genre</th>\n",
       "      <th>Release Date</th>\n",
       "      <th>Year</th>\n",
       "      <th>index</th>\n",
       "    </tr>\n",
       "  </thead>\n",
       "  <tbody>\n",
       "    <tr>\n",
       "      <th>0</th>\n",
       "      <td>Barrister Parvateesarrn</td>\n",
       "      <td>R. Prakash</td>\n",
       "      <td>Motion Pictures Combines</td>\n",
       "      <td>NaN</td>\n",
       "      <td>Lanka Satyam,</td>\n",
       "      <td>Comedy</td>\n",
       "      <td>1940</td>\n",
       "      <td>1940</td>\n",
       "      <td>0</td>\n",
       "    </tr>\n",
       "    <tr>\n",
       "      <th>1</th>\n",
       "      <td>Bhoja Kalidasu</td>\n",
       "      <td>H. V. Babu</td>\n",
       "      <td>Jaya Films</td>\n",
       "      <td>NaN</td>\n",
       "      <td>Adhanki Srirama Murthy, Parepalli Subba Rao,</td>\n",
       "      <td>Mythology</td>\n",
       "      <td>1940</td>\n",
       "      <td>1940</td>\n",
       "      <td>1</td>\n",
       "    </tr>\n",
       "    <tr>\n",
       "      <th>2</th>\n",
       "      <td>Bhookailas</td>\n",
       "      <td>Sundar Rao Nadkarni</td>\n",
       "      <td>Saraswathi Cine Films</td>\n",
       "      <td>NaN</td>\n",
       "      <td>M. V. Subbiah Naidu</td>\n",
       "      <td>Devotional</td>\n",
       "      <td>1940</td>\n",
       "      <td>1940</td>\n",
       "      <td>2</td>\n",
       "    </tr>\n",
       "    <tr>\n",
       "      <th>3</th>\n",
       "      <td>Bondam Pelli</td>\n",
       "      <td>H. M. Reddy</td>\n",
       "      <td>Madras United Artistes Corporation</td>\n",
       "      <td>NaN</td>\n",
       "      <td>L. V. Prasad</td>\n",
       "      <td>Comedy</td>\n",
       "      <td>1940</td>\n",
       "      <td>1940</td>\n",
       "      <td>3</td>\n",
       "    </tr>\n",
       "    <tr>\n",
       "      <th>4</th>\n",
       "      <td>Chaduvukunna Bharya</td>\n",
       "      <td>H. M. Reddy</td>\n",
       "      <td>Madras United Artistes Corporation</td>\n",
       "      <td>NaN</td>\n",
       "      <td>Lanka Satyam,</td>\n",
       "      <td>Comedy</td>\n",
       "      <td>1940</td>\n",
       "      <td>1940</td>\n",
       "      <td>4</td>\n",
       "    </tr>\n",
       "  </tbody>\n",
       "</table>\n",
       "</div>"
      ],
      "text/plain": [
       "                     Title             Director  \\\n",
       "0  Barrister Parvateesarrn           R. Prakash   \n",
       "1           Bhoja Kalidasu           H. V. Babu   \n",
       "2               Bhookailas  Sundar Rao Nadkarni   \n",
       "3             Bondam Pelli          H. M. Reddy   \n",
       "4      Chaduvukunna Bharya          H. M. Reddy   \n",
       "\n",
       "                           Production Music Composer  \\\n",
       "0            Motion Pictures Combines            NaN   \n",
       "1                          Jaya Films            NaN   \n",
       "2               Saraswathi Cine Films            NaN   \n",
       "3  Madras United Artistes Corporation            NaN   \n",
       "4  Madras United Artistes Corporation            NaN   \n",
       "\n",
       "                                            Cast       Genre Release Date  \\\n",
       "0                                 Lanka Satyam,       Comedy         1940   \n",
       "1  Adhanki Srirama Murthy, Parepalli Subba Rao,    Mythology         1940   \n",
       "2                            M. V. Subbiah Naidu  Devotional         1940   \n",
       "3                                   L. V. Prasad      Comedy         1940   \n",
       "4                                 Lanka Satyam,       Comedy         1940   \n",
       "\n",
       "   Year  index  \n",
       "0  1940      0  \n",
       "1  1940      1  \n",
       "2  1940      2  \n",
       "3  1940      3  \n",
       "4  1940      4  "
      ]
     },
     "execution_count": 28,
     "metadata": {},
     "output_type": "execute_result"
    }
   ],
   "source": [
    "movies_data.head()"
   ]
  },
  {
   "cell_type": "code",
   "execution_count": 29,
   "id": "b0f8c0a2",
   "metadata": {},
   "outputs": [
    {
     "data": {
      "text/plain": [
       "(2407, 9)"
      ]
     },
     "execution_count": 29,
     "metadata": {},
     "output_type": "execute_result"
    }
   ],
   "source": [
    "movies_data.shape"
   ]
  },
  {
   "cell_type": "code",
   "execution_count": 30,
   "id": "72868e84",
   "metadata": {},
   "outputs": [
    {
     "data": {
      "text/plain": [
       "Title                0\n",
       "Director           107\n",
       "Production        1820\n",
       "Music Composer    1113\n",
       "Cast               125\n",
       "Genre             1325\n",
       "Release Date      1654\n",
       "Year                 0\n",
       "index                0\n",
       "dtype: int64"
      ]
     },
     "execution_count": 30,
     "metadata": {},
     "output_type": "execute_result"
    }
   ],
   "source": [
    "movies_data.isnull().sum()"
   ]
  },
  {
   "cell_type": "code",
   "execution_count": 31,
   "id": "840de826",
   "metadata": {},
   "outputs": [],
   "source": [
    "selected_features=['Genre','Cast','Director']"
   ]
  },
  {
   "cell_type": "code",
   "execution_count": 32,
   "id": "49b34aa7",
   "metadata": {},
   "outputs": [],
   "source": [
    "for feature in selected_features:\n",
    "    movies_data[feature] = movies_data[feature].fillna('')"
   ]
  },
  {
   "cell_type": "code",
   "execution_count": 33,
   "id": "6de49ba6",
   "metadata": {},
   "outputs": [
    {
     "data": {
      "text/plain": [
       "Genre       0\n",
       "Cast        0\n",
       "Director    0\n",
       "dtype: int64"
      ]
     },
     "execution_count": 33,
     "metadata": {},
     "output_type": "execute_result"
    }
   ],
   "source": [
    "movies_data[['Genre','Cast','Director']].isnull().sum()"
   ]
  },
  {
   "cell_type": "code",
   "execution_count": 34,
   "id": "5b80d6e4",
   "metadata": {},
   "outputs": [],
   "source": [
    "combined_features = movies_data['Genre']+' '+movies_data['Cast']+' '+movies_data['Director']"
   ]
  },
  {
   "cell_type": "code",
   "execution_count": 35,
   "id": "647c9c22",
   "metadata": {},
   "outputs": [
    {
     "name": "stdout",
     "output_type": "stream",
     "text": [
      "0                        Comedy Lanka Satyam,  R. Prakash\n",
      "1       Mythology Adhanki Srirama Murthy, Parepalli Su...\n",
      "2       Devotional M. V. Subbiah Naidu Sundar Rao Nadk...\n",
      "3                         Comedy L. V. Prasad H. M. Reddy\n",
      "4                       Comedy Lanka Satyam,  H. M. Reddy\n",
      "                              ...                        \n",
      "2402              Daggubati Venkatesh Dasari Narayana Rao\n",
      "2403                Kamal Haasan Singeetham Srinivasa Rao\n",
      "2404              Akkineni Nagarjuna A. Kodandarami Reddy\n",
      "2405                          Akkineni Nagarjuna B. Gopal\n",
      "2406                        Rajasekhar Raviraja Pinisetty\n",
      "Length: 2407, dtype: object\n"
     ]
    }
   ],
   "source": [
    "print(combined_features)"
   ]
  },
  {
   "cell_type": "code",
   "execution_count": 36,
   "id": "9230ba39",
   "metadata": {},
   "outputs": [],
   "source": [
    "vectorizer = TfidfVectorizer()"
   ]
  },
  {
   "cell_type": "code",
   "execution_count": 37,
   "id": "8de9ed2c",
   "metadata": {},
   "outputs": [],
   "source": [
    "feature_vectors = vectorizer.fit_transform(combined_features)"
   ]
  },
  {
   "cell_type": "code",
   "execution_count": 38,
   "id": "3448cc01",
   "metadata": {},
   "outputs": [
    {
     "name": "stdout",
     "output_type": "stream",
     "text": [
      "  (0, 779)\t0.4210050780404691\n",
      "  (0, 982)\t0.5220195965573573\n",
      "  (0, 556)\t0.6094505840583225\n",
      "  (0, 229)\t0.42287143514926867\n",
      "  (1, 100)\t0.22987431939544295\n",
      "  (1, 906)\t0.12675498668718282\n",
      "  (1, 1087)\t0.3026079469083603\n",
      "  (1, 746)\t0.46593533555293787\n",
      "  (1, 644)\t0.3422908322891551\n",
      "  (1, 1082)\t0.42377083465728244\n",
      "  (1, 30)\t0.4764349717462194\n",
      "  (1, 654)\t0.314147493552533\n",
      "  (2, 656)\t0.5040188310682322\n",
      "  (2, 1116)\t0.47876838835906205\n",
      "  (2, 669)\t0.41035202872694276\n",
      "  (2, 1091)\t0.5040188310682322\n",
      "  (2, 252)\t0.2844138327142286\n",
      "  (2, 906)\t0.11589154604964524\n",
      "  (3, 923)\t0.5010430438441351\n",
      "  (3, 780)\t0.5064194978971416\n",
      "  (3, 229)\t0.7017799942752794\n",
      "  (4, 923)\t0.3158141149287459\n",
      "  (4, 982)\t0.5460544364531796\n",
      "  (4, 556)\t0.6375109237636878\n",
      "  (4, 229)\t0.442341292808554\n",
      "  :\t:\n",
      "  (2400, 76)\t0.6222183710112662\n",
      "  (2400, 1296)\t0.7828437256413865\n",
      "  (2401, 181)\t0.6376873858016956\n",
      "  (2401, 1229)\t0.5033685910987484\n",
      "  (2401, 1068)\t0.583073631271952\n",
      "  (2402, 1257)\t0.5297328914136584\n",
      "  (2402, 234)\t0.5369387224437704\n",
      "  (2402, 238)\t0.46927859616744944\n",
      "  (2402, 688)\t0.4139103870701011\n",
      "  (2402, 906)\t0.19883576828519528\n",
      "  (2403, 352)\t0.5017608559262313\n",
      "  (2403, 455)\t0.4735556617043426\n",
      "  (2403, 1032)\t0.5371919738514339\n",
      "  (2403, 1077)\t0.45712292641531554\n",
      "  (2403, 906)\t0.16261762543782357\n",
      "  (2404, 662)\t0.5838259709416574\n",
      "  (2404, 508)\t0.534049765490326\n",
      "  (2404, 45)\t0.450911790619074\n",
      "  (2404, 923)\t0.41305767238299657\n",
      "  (2405, 331)\t0.6620089148237108\n",
      "  (2405, 662)\t0.5931762182280171\n",
      "  (2405, 45)\t0.45813335484620715\n",
      "  (2406, 764)\t0.5691265078206446\n",
      "  (2406, 920)\t0.6216966131256029\n",
      "  (2406, 840)\t0.5381341276336525\n"
     ]
    }
   ],
   "source": [
    "print(feature_vectors)"
   ]
  },
  {
   "cell_type": "code",
   "execution_count": 39,
   "id": "d69ea606",
   "metadata": {},
   "outputs": [],
   "source": [
    "similarity=cosine_similarity(feature_vectors)"
   ]
  },
  {
   "cell_type": "code",
   "execution_count": 40,
   "id": "cd4dc62c",
   "metadata": {},
   "outputs": [
    {
     "name": "stdout",
     "output_type": "stream",
     "text": [
      "[[1.         0.         0.         ... 0.         0.         0.        ]\n",
      " [0.         1.         0.01468983 ... 0.         0.         0.        ]\n",
      " [0.         0.01468983 1.         ... 0.         0.         0.        ]\n",
      " ...\n",
      " [0.         0.         0.         ... 1.         0.55288941 0.        ]\n",
      " [0.         0.         0.         ... 0.55288941 1.         0.        ]\n",
      " [0.         0.         0.         ... 0.         0.         1.        ]]\n"
     ]
    }
   ],
   "source": [
    "print(similarity)"
   ]
  },
  {
   "cell_type": "code",
   "execution_count": 42,
   "id": "c1518f4c",
   "metadata": {},
   "outputs": [
    {
     "name": "stdout",
     "output_type": "stream",
     "text": [
      "enter the movie name:tholi prema\n"
     ]
    }
   ],
   "source": [
    "movie_name=input('enter the movie name:')"
   ]
  },
  {
   "cell_type": "code",
   "execution_count": 43,
   "id": "5984a0b2",
   "metadata": {},
   "outputs": [
    {
     "name": "stdout",
     "output_type": "stream",
     "text": [
      "['Barrister Parvateesarrn', 'Bhoja Kalidasu', 'Bhookailas', 'Bondam Pelli', 'Chaduvukunna Bharya', 'Chandika', 'Illalu', 'Jeevana Jyothi', 'Kalachakram', 'Mahiravana', 'Malathi Madhavam', 'Meerabai', 'Sumangali', 'Viswa Mohini', 'Apavadu', 'Bhaktimala', 'Chandrahasa', 'Choodamani', 'Dakshayagnam', 'Devatha', 'Dharma Patni', 'Mahatma Gandhi', 'Parvati Kalyanam', 'Talli Prema', 'Tara Sasankam', 'Tarumaru', 'Tenali Ramakrishna', 'Babruvahana', 'Bala Nagamma', 'Bhakta Potana', 'Bhakta Prahlada', 'Deena Bandhu', 'Gharana Donga', 'Jeevana Mukthi', 'Patni', 'Satyabhama', 'Satyame Jayam', 'Shanta Bala Nagamma', 'Sumati', 'Bhagyalakshmi', 'Bhakta Kabiru', 'Chenchu Lakshmi', 'Garuda Garvabhangam', 'Krishna Leela', 'Krishna Prema', 'Panthulamma', 'Pathi Bhakti', 'Bhishma', 'Circus King', 'Oka Roju Raju', 'Samsara Naradhi', 'Seeta Rama Jananam', 'Tahsildar', 'Maya Machhindra', 'Mayalokam', 'Paduka Pattabhishekam', 'Swarga Seema', 'Valmiki', 'Aadarsham', 'Aakali', 'Athinti Kapuram', 'Chinna Kodalu', 'Chinnamma Katha', 'Daasi', 'Dharma Devatha', 'Kanchana', 'Manavathi', 'Maradalu Pelli', 'Mugguru Kodukulu', 'Palletooru', 'Peda Raithu', 'Pelli Chesi Choodu', 'Praja Seva', 'Prema', 'Priyuralu', 'Rajeswari', 'Sahasam', 'Sankranti', 'Santhi', 'Savati Poru', 'Singari', 'Suvarna Mala', 'Tingu Ranga', 'Aada Bidda', 'Anarkali', 'Antha Inthe', 'Ante Kaavali', 'Ardhangi', 'Athanu Evaru', 'Bangaru Papa', 'Beedhala Aasthi', 'Cherapakura Chedevu', 'Donga Ramudu', 'Jayasimha', 'Kanyadhanam', 'Kanyashulkam', 'Missamma', 'Pasupu Kumkuma', 'Pathiye Prathyaksha Dhaivamu', 'Rojulu Marayi', 'Santhanam', 'Santosham', 'Sri Jagannatha Mahatyamu', 'Sri Krishna Thulabaram', 'Vadina', 'Vadina Gari Gajulu', 'Vijaya Gauri', 'Alibaba 40 Dongalu', 'Amara Deepam', 'Amarajeevi', 'Ashtaaishwaryalu', 'Balasanyasamma Katha', 'Bhakta Markandeya', 'Bhale Ramudu', 'C.I.D.', 'Charana Daasi', 'Chintamani', 'Chiranjeevulu', 'Edi Nijam', 'Harishchandra', 'Ilavelpu', 'Jayam Manade', 'Kanakatara', 'Melukolupu', 'Muddu Bidda', 'Naga Devatha', 'Naga Panchami', 'Nagula Chavithi', 'Penki Pellam', 'Rakta Kanneru', 'Sadarama', 'Sahasa Veerudu', 'Sonta Ooru', 'Sri Gauri Mahatyam', 'Tenali Ramakrishna', 'Uma Sundari', 'Vidhi Vilasamu', 'Akka Chellelu', 'Allauddin Adhbhuta Deepam', 'Bhagya Rekha', 'Bhale Ammayilu', 'Bhale Baava', 'Dhampathyam', 'Dongallo Dora', 'Evari Abbayi', 'Gandharva Kanya', 'Kutumba Gowravam', 'M.L.A.', 'Mayabazar', 'Nala Damayanthi', 'Panduranga Mahatyam', 'Parasakthi', 'Peddarikalu', 'Preme Daivam', 'Rajaputhri Rahasyamu', 'Rani Rangamma', 'Ratnagiri Rahasyam', 'Repu Needhe', 'Sankalpam', 'Sarangadhara', 'Sati Anasuya', 'Sati Savitri', 'Suvarna Sundari', 'Swayamprabha', 'Thalavanchani Veerudu', 'Thodi Kodallu', 'Town Bus', 'Vadhante Dabbu', 'Varudu Kavali', 'Veera Kankanam', 'Vegu Chukka', 'Vinayaka Chaviti', 'Aada Pettanam', 'Anna Thammudu', 'Atha Okinti Kodale', 'Badi Panthulu', 'Bhookailas', 'Bhuloka Ramba', 'Bommala Pelli', 'Chenchu Lakshmi', 'Dongalunnaru Jagratha', 'Etthuku Pai Etthu', 'Ganga Gouri Samvadam', 'Inti Guttu', 'Karthavarayuni Katha', 'Kondaveeti Donga', 'Manchi Manasuku Manchi Rojulu', 'Mundhadugu', 'Parvathi Kalyanam', 'Pathi Bakthi', 'Raja Nandini', 'Sabhash Pillaa', 'Sobha', 'Sri Krishna Garadi', 'Sri Krishna Maya', 'Sree Ramanjaneya Yuddham', 'Uttama Illaalu', 'Veera Kadgamu', 'Veera Pratap', 'Vijaya Kota Veerudu', 'Aalu Magalu', 'Anaganaga Oka Raju', 'Appu Chesi Pappu Koodu', 'Bala Nagamma', 'Banda Ramudu', 'Bhagya Devatha', 'Bhaktha Ambareesha', 'Daiva Balam', 'Illarikam', 'Jayabheri', 'Jaya Vijaya', 'Karmika Vijayam', 'Koothuru Kaapuram', 'Krishna Leelalu', 'Maa Inti Mahalakshmi', 'Mangalya Balam', 'Manorama', 'Pelli Meeda Pelli', 'Pellinaati Pramanalu', 'Pelli Sandadi', 'Raja Malaya Simha', 'Rechukka Pagatichukka', 'Sabhash Ramudu', 'Sati Sukanya', 'Sati Tulasi', 'Sipayi Koothuru', 'Vachina Kodalu Nachindi', 'Veera Bhaskarudu', 'Veera Pandya Katta Brahmana', 'Abhimanam', 'Anna Chellelu', 'Annapurna', 'Bhakta Raghunath', 'Bhakta Sabari', 'Bhatti Vikramarka', 'Chivaraku Migiledi', 'Deepavali', 'Devanthakudu', 'Dharmame Jayam', 'Kanna Koothuru', 'Jagannatakam', 'Jalsa Rayudu', 'Kadeddulu Ekaram Nela', 'Kanakadurga Pooja Mahima', 'Kula Daivam', 'Kumkuma Rekha', 'Maa Babu', 'Magavari Mayalu', 'Mahakavi Kalidasu', 'Mamaku Tagga Alludu', 'Mangalyam', 'Nammina Bantu', 'Nithya Kalyanam Paccha Thoranam', 'Pelli Kanuka', 'Pillalu Techina Challani Rajyam', 'Raja Makutam', 'Ramasundari', 'Rani Ratnaprabha', 'Renukadevi Mahatyam', 'Runanubandham', 'Sahasra Siracheda Apoorva Chinthamani', 'Samajam', 'Shanthi Nivasam', 'Sri Krishna Rayabaram', 'Sri Venkateswara Mahatyam', 'Vimala', 'Aasha Jeevulu', 'Aatma Bandhuvu', 'Appaginthalu', 'Aradhana', 'Bhishma', 'Chitti Tammudu', 'Dakshayagnam', 'Gaali Medalu', 'Gulebakavali Katha', 'Gundamma Katha', 'Kalimilemulu', 'Khaidi Kannayya', 'Kula Gotralu', 'Madana Kamaraju Katha', 'Mahamantri Timmarusu', 'Manchi Manasulu', 'Mohini Rukmangada', 'Nagarjuna', 'Nuvva? Nena?', 'Padandi Munduku', 'Nichaya Thamboolam', 'Rakta Sambandham', 'Siri Sampadalu', 'Swarna Gowri', 'Swarna Manjari', 'Tiger Ramudu', 'Samrat Pruthviraj (Rani Samyukta)', 'Aapta Mitrulu', 'Anubandhalu', 'Anuragam', 'Bandipotu', 'Bangaru Thimmaraju', 'Chaduvukunna Ammayilu', 'Constable Koothuru', 'Deva Sundari', 'Edureeta', 'Eedu Jodu', 'Guruvunu Minchina Sishyudu', 'Irugu Porugu', 'Lakshadhikari', 'Lava Kusa', 'Manchi Chedu', 'Naga Devata (Dub)', 'Nartanasala', 'Paruvu-Prathishta', 'Pempudu Koothuru', 'Punarjanma', 'Savati Koduku', 'Somavara Vratha Mahathyam', 'Sri Krishnarjuna Yuddhamu', 'Thalli Biddalu', 'Thirupathamma Katha', 'Thobuttuvulu', 'Valmiki', 'Vishnu Maya', 'Aada Brathuku', 'Aatma Gowravam', 'Antastulu', 'C.I.D.', 'Chaduvukonna Bharya', 'Chandrahasa', 'Devata', 'Dorikithe Dongalu', 'Gudi Gantalu', 'Jwala Dweepa Rahasyam', 'Keelu Bommalu', 'Mangamma Sapatham', 'Manushulu Mamathalu', 'Naadi Aada Janme', 'Pakkalo Ballem', 'Pandava Vanavasam', 'Prachanda Bhairavi', 'Prameelarjuneeyam', 'Pratignapalana', 'Preminchi Choodu', 'Sati Sakkubai', 'Satya Harishchandra', 'Sri Simhachala Kshetra Mahima', 'Sumangali', 'Thene Manasulu', 'Thodu Needa', 'Uyyala Jampala', 'Veelunama', 'Veerabhimanyu', 'Visala Hrudayalu', 'Zamindar', 'Aame Evaru?', 'Aastiparulu', 'Adugu Jaadalu', 'Aggi Barata', 'Bhakta Potana', 'Bhimanjaneya Yuddham', 'Chilaka Gorinka', 'Dr. Anand', 'Hantakulostunnaru Jagratha', 'Kanne Manasulu', 'Leta Manasulu', 'Loguttu Perumallukeruka', 'Manase Mandiram', 'Mangalasutram', 'Monagallaku Monagadu', 'Navaratri', 'Palnati Yuddham', 'Paramanandayya Sishyula Katha', 'Pidugu Ramudu', 'Potti Pleader', 'Rangula Ratnam', 'Sangeeta Lakshmi', 'Shakuntala', 'Sri Krishna Pandaveeyam', 'Shrimati', 'Sri Krishna Tulabharam', 'Srikakula Andhra Maha Vishnu Katha', 'Aada Paduchu', 'Ave Kallu', 'Bhakta Prahlada', 'Bhama Vijayam', 'Bhuvana Sundari Katha', 'Chadarangam', 'Chikkadu Dorakadu', 'Dwapayana Kaivalyam', 'Devuni Gelichina Manavudu', 'Gruhalakshmi', 'Gudachari 116', 'Iddaru Monagallu', 'Kambojaraju Katha', 'Kanchu Kota', 'Konte Pilla', 'Maa Vadina', 'Nindu Manasulu', 'Nirdoshi', 'Pedda Akkayya', 'Poola Rangadu', 'Prana Mithrulu', 'Private Master', 'Punyavathi', 'Rahasyam', 'Sakshi', 'Sati Sumathi', 'Sri Krishnavataram', 'Sri Sri Sri Maryada Ramanna', 'Stree Janma', 'Sudigundalu', 'Ummadi Kutumbam', 'Vasantha Sena', 'Veera Pooja', 'Aggi Meeda Guggilam', 'Amayakudu', 'Attagaru Kotha Kodalu', 'Baghdad Gaja Donga', 'Bandhavyalu', 'Bandipotu Dongalu', 'Bangaru Gaajulu', 'Bangaru Pichika', 'Bangaru Sankellu', 'Bhagya Chakramu', 'Bhale Master', 'Bhale Monagadu', 'Bharya', 'Brahmachari', 'Chinnari Papalu', 'Circar Express', 'Devadichina Bharta', 'Devakanya', 'Evaru Monagadu', 'Govula Gopanna', 'Kalisochina Adrushtam', 'Kumkuma Barani', 'Lakshmi Nivasam', 'Manasamsaram', 'Manchi Kutumbam', 'Nadamanthrapu Siri', 'Neerkimi Neervedhaptha Charithra', 'Nene Monaganni', 'Nenante Nene', 'Niluvu Dopidi', 'Nindu Samsaram', 'Ninne Pelladata', 'Paala Manasulu', 'Panthaalu Pattimpulu', 'Papa Kosam', 'Pedaraasi Peddamma Katha', 'Pelliroju', 'Raja Yogam', 'Ramu', 'Rana Bheri', 'Sati Arundhati', 'Sudigundaalu', 'Sukha Dukhalu', 'Thalli Prema', 'Tikka Sankaraiah', 'Uma Chandi Gowri Shankarula Katha', 'Undamma Bottu Pedata', 'Veeranjaneya', 'Aadarsa Kutumbam', 'Aatmiyulu', 'Adrushtavanthulu', 'Aggi Pidugu', 'Aggi Veerudu', 'Ardharathiri', 'Bandhipotu Bhimanna', 'Bangaru Panjaram', 'Bhale Mastaru', 'Bhale Rangadu', 'Bhale Thammudu', 'Buddhimantudu', 'Ekaveera', 'Gandaragandudu', 'Gandikota Rahasyam', 'Gopaludu Bhoopaludu', 'Kadaladu Vadaladu', 'Kathanayakudu', 'Mamaku Tagga Kodalu', 'Manchi Mithrulu', 'Manishichina Maguva', 'Manushulu Marali', 'Mathru Devata', 'Mooga Nomu', 'Natakala Rayudu', 'Nindu Hrudayalu', 'Poovanam', 'Raja Simha', 'Sabash Satyam', 'Saptaswaralu', 'Sattekalapu Satteya', 'Shri Rama Katha', 'Sipayi Chinnayya', 'Takkaridonga Chakkanichukka', 'Ukkupidugu', 'Varakatnam', 'Vichitra Kutumbam', 'Akhandudu', 'Akka Chellelu', 'Ali Baba 40 Dongalu', 'Amma Kosam', 'Balaraju Katha', 'Chitti Chellelu', 'Desamante Manushuloyi', 'Dharma Daata', 'Drohi', 'Jai Jawan', 'Kathanayika Molla', 'Kodalu Diddina Kapuram', 'Lakshmi Kataksham', 'Maa Manchi Akkayya', 'Maa Nanna Nirdhoshi', 'Malli Pelli', 'Marina Manishi', 'Maro Prapancham', 'Mayani Mamata', 'Merupu Veerudu', 'Oke Kutumbham', 'Pelli Koothuru', 'Pelli Sambandham', 'Pettandarulu', 'Sambarala Rambabu', 'Thaali Bottu', 'Thalla? Pellama?', 'Vidhi Vilasam', 'Vijayam Manade', 'Adrusta Jathakudu', 'Amaayakuraalu', 'Anuradha', 'Bangaru Kutumbam', 'Bangaru Talli', 'Bhagyavantudu', 'Bhale Papa', 'Bomma Borusa', 'Chelleli Kapuram', 'Chinnanati Snehitulu', 'Dasara Bullodu', 'Iddaru Ammayilu', 'Jeevitha Chakram', 'Kalyana Mandapam', 'Manasu Mangalyam', 'Mattilo Manikyam', 'Mosagallaku Mosagadu', 'Naa Thammudu ', 'Nenu Manishine ', 'Nindu Dampathulu', 'Pagabattina Paduchu', 'Pavitra Bandham', 'Pavitra Hrudayalu', 'Pethamdaarlu ', 'Prema Nagar', 'Raitu Bidda', 'Raitu Kutumbam ', 'Rajakota Rahasyam', 'Ramalayam', 'Rangeli Raja', 'Sampoorna Ramayanam', 'Sati Ansuya ', 'Sri Krishna Satya', 'Sri Krishna Vijayamu', 'Srimanthudu', 'Sisindri Chittibabu', 'Suputhrudu', 'Tahsildar Gari Ammayi', 'Varalakshmi Vratam', 'Vichithra Kutumbam', 'Vikramarka Vijayam', 'Akka Thamudu', 'Antha Mana Manchike', 'Badi Panthulu', 'Bala Bharatam', 'Bala Mitrula Katha', 'Bandipotu', 'Beedala Patlu', 'Bhale Mosagadu', 'Bharya Biddalu', 'Datta Putrudu', 'Guduputani', 'Hantakulu Devantakulu', 'Illu Illalu', 'Inspector Bharya', 'Kalam Marindi', 'Koduku Kodalu', 'Kula Gowravam', 'Manavudu Danavudu', 'Manchi Rojulu Vachchaayi', 'Mathru Murthy?', 'Md Bin Tuglak', 'Neeti-Nijayiti', 'Pandanti Kapuram', 'Papam Pasivadu', 'Raitu Kutumbam', 'Raj Mahal', 'Sabhash Baby?', 'Sabhash Vadina', 'Sri Krishnanjaneya Yuddham', 'Vichitra Bandham', 'Vinta Dampatulu', 'Vooriki Vupakari', 'Abhimanavantulu', 'Andala Ramudu', 'Bangaru Babu', 'Bhakta Tukaram', 'Dabbuki Lokam Dasoham', 'Desoddharakulu', 'Devudu Chesina Manushulu', 'Dhanama? Daivama?', 'Doctor Babu', 'Errakota Veerudu', 'Gandhi Puttina Desam', 'Ganga Manga', 'Geeta', 'Geetaanjali', 'Inti Dongalu', 'Jeevana Tarangalu', 'Kanna Koduku', 'Lokam Marali', 'Mamatha', 'Manchi Vallaki Manchivadu', 'Manchivadu', 'Marapurani Manishi', 'Mayadari Malligadu', 'Meghamala', 'Memu Manushulame', 'Neramu Siksha', 'Paropakari', 'Palletoori Bava', 'Pasi Hrudayalu', 'Poola Mala', 'Puttinillu Mettinillu', 'Samsaram Sagaram', 'Sarada', 'Srivaru Maavaru', 'Snehabandam', 'Sthri Chandra Kala', 'Tallikodukulu', 'Tata Manavadu', 'Vaade Veedu', 'Visali', 'Yesu Prabhu', 'Akka Thamudu', 'Antha Mana Manchike', 'Badi Panthulu', 'Bala Bharatam', 'Bala Mitrula Katha', 'Bandipotu', 'Beedala Patlu', 'Bhale Mosagadu', 'Bharya Biddalu', 'Datta Putrudu', 'Guduputani', 'Hantakulu Devantakulu', 'Illu Illalu', 'Inspector Bharya', 'Kalam Marindi', 'Koduku Kodalu', 'Kula Gowravam', 'Manavudu Danavudu', 'Manchi Rojulu Vachchaayi', 'Mathru Murthy?', 'Md Bin Tuglak', 'Neeti-Nijayiti', 'Pandanti Kapuram', 'Papam Pasivadu', 'Raitu Kutumbam', 'Raj Mahal', 'Sabhash Baby?', 'Sabhash Vadina', 'Sri Krishnanjaneya Yuddham', 'Vichitra Bandham', 'Vinta Dampatulu', 'Vooriki Vupakari', 'Aadhani Adrustam', 'Abhimanavathi', 'Ammayila Sapatham', 'Ammayilu Jagratha', 'Andaru Manchivare', 'Annadammula Anubandham', 'Annadammula Katha', 'Anuragalu', 'Babu', 'Balipeetam', 'Bhagasthulu', 'Bharatamlo Oka Ammayi', 'Bharathi', 'Bullemma Sapatham', 'Chaduvu Samskaram', 'Challani Thalli', 'Cheekati Velugulu', 'Chinninati Kalalu', 'Chittamma Chilakamma', 'Cinema Vaibhavam', 'Devude Digivaste', 'Devudu Chesina Pelli', 'Devudulanti Manishi', 'Eduruleni Manishi', 'Ee Kalam Dampathulu', 'Gajula Kishtayya', 'Gunavanthudu', 'Jebu Donga', 'Jeevana Jyothi', 'Kathanayakuni Katha', 'Kothakapuram', 'Lakshmana Rekha', 'Maa Inti Devudu', 'Maa Voori Ganga', 'Mallela Manasulu', 'Maya Maschindra', 'Moguda? Pellama?', 'Mutyala Muggu', 'Naaku Swatantram Vachindi', 'Pandati Samsaram', 'Parivartana', 'Pichodi Pelli', 'Pooja', 'Puttinti Gowravam', 'Raktha Sambandham', 'Ramayya Thandri', 'Ramuni Minchina Ramudu', 'Samsaram', 'Santhanam Soubhagyam', 'Soubhagyavathi', 'Sri Chamundeswari Mahima', 'Sri Ramanjaneya Yuddham', 'Swargam Narakam', 'Teerpu', 'Thota Ramudu', 'Vaikuntapali', 'Vayasochina Pilla', 'Yashoda Krishna', 'Zamindarugari Ammayi', 'America Ammayi', 'Aradhana', 'Anthuleni Katha', 'Bangaru Manishi', 'Bhakta Kannappa', 'Iddaru Iddare', 'Jyothi', 'Maa Daivam', 'Mahakavi Kshetrayya', 'Magaadu', 'Mahatmudu', 'Manchiki Maro Peru', 'Manushulanta Okkate', 'Monagadu', 'Muthyala Pallaki', 'Naa Pere Bhagavan', 'Neram Nadi Kadu Akalidi', 'Oorummadi Brathukulu', 'Pichi Maaraju', 'Pogarubothu', 'Prema Bandham', 'Raju Vedale', 'Secretary', 'Siri Siri Muvva', 'Sita Kalyanam', 'Soggadu', 'Thoorpu Padamara', 'Vemulawada Bheemakavi', 'Vintha Illu Santha Gola', 'Yavvanam Katesindi', 'Aalu Magalu', 'Aame Katha', 'Aatmiyudu', 'Adavi Ramudu', 'Amara Deepam', 'Bangaru Bommalu', 'Bhale Alludu', 'Chakradhari', 'Chanakya Chandragupta', 'Chilakamma Cheppindi', 'Chillarakottu Chittemma', 'Daana Veera Soora Karna', 'Devathalara Deevinchandi', 'Edureeta', 'Eetharam Manishi', 'Gadusu Pillodu', 'Jeevana Teeralu', 'Jeevitha Nouka', 'Kalpanaa', 'Kanya Kumari', 'Khaidi Kalidasu', 'Kurukshetram', 'Maa Iddari Katha', 'Panthulamma', 'Premalekhalu', 'Raja Ramesh', 'Seetha Rama Vanavasam', 'Sneham', 'Tharam Marindi', 'Tholireyi Gadichindi', 'Yamagola', 'Agent Gopi', 'Angadi Bomma', 'Annadammula Savaal', 'Athani Kante Ghanudu', 'Bommarillu', 'Chal Mohana Ranga', 'Chali Cheemalu', 'Cheppindi Chestha', 'Chilipi Krishnudu', 'Chiranjeevi Rambabu', 'Devadasu Malli Puttadu', 'Dongala Dopidi', 'Dongala Veta', 'Doo Doo Basavanna', 'Enki Naidu Bava', 'Gamattu Gudachari', 'Gorantha Deepam', 'Indradhanassu', 'Jaganmohini', 'Kalanthakulu', 'Karunamayudu', 'Katakataala Rudraiah', 'KD No:1', 'Khaidi No. 77', 'Kondura', 'Kumara Raja', 'Lawyer Viswanath', 'Mallepoovu', 'Mana Voori Pandavulu', 'Manchi Babai', 'Maro Charitra', 'Melu Kolupu', 'Muggure Mugguru', 'Naalaaga Endaro', 'Nayudu Bava', 'Nindu Manishi', 'Oka Oori Katha', 'Padaharella Vayasu', 'Patnavasam', 'Pottelu Punnamma', 'Pranam Khareedu', 'Prema Chesina Pelli', 'Radha Krishna', 'Rajaputra Rahasyam', 'Rama Krishnulu', 'Ramachilaka', 'Rickshaw Raji', 'Rowdy Rangamma', 'Sahasavanthudu', 'Sati Savitri', 'Seetamalakshmi', 'Simha Baludu', 'Simha Garjana', 'Sivaranjani', 'Sommokadidi Sokokadidi', 'Sri Rama Pattabhishekam', 'Sri Rama Raksha', 'Sri Renukadevi Mahatyam', 'Surya Chandrulu', 'Vayasu Pilichindi', 'Vichitra Jeevitham', 'Yuga Purushudu', 'Akbar Salim Anarkali', 'Andadu Aagadu', 'Andamaina Anubhavam', 'Andaman Ammayi', 'Annai Oru Aalayam', 'Bangaru Chellelu', 'Burripalem Bullodu', 'Dharma Yuddham', 'Driver Ramudu', 'Gorintaku', 'Guppedu Manasu', 'Hema Hemeelu', 'I Love You', 'Iddaru Asadhyule', 'Idi Katha Kaadu', 'Judagadu', 'Kalyani', 'Kaliyuga Mahabharatam', 'Karthika Deepam', 'Korikale Gurralaite', 'Kothala Raayudu', 'Kotta Alludu', 'Kukka Katuku Cheppu Debba', 'Maavari Manchitanam', 'Mande Gundelu', 'Muddula Koduku', 'Naa Illu Naa Vallu', 'Nagna Sathyam', 'Needa', 'Nimajjanam', 'Nindu Noorellu', 'Pancha Bhoothalu', 'Punadhirallu', 'Rama Banam', 'Rangoon Rowdy', 'Ravanude Ramudayithe?', 'Shri Rama Bantu', 'Sri Madvirata Parvam', 'Sri Tirupati Venkateswara Kalyanam', 'Sri Vinayaka Vijayamu', 'Srungara Ramudu', 'Tayaramma Bangarayya', 'Tiger', 'Toorpu Velle Railu', 'Vetagaadu', 'Yugandhar', 'Aarani Mantalu', 'Aatagadu', 'Adadhee Gadapa Datithe', 'Adrushtavanthudu', 'Agni Samskaram', 'Alayam', 'Alludu Pattina Bharatam', 'Bebbuli', 'Bhale Krishnudu', 'Buchi Babu', 'Challenge Ramudu', 'Chandipriya', 'Chesina Baasalu', 'Chuttalunnaru Jagratha', 'Circus Ramudu', 'Dharma Chakram', 'Gaja Donga', 'Gandhara Golam', 'Gayyali Gangamma', 'Guru', 'Harischandrudu', 'Jathara', 'Kaali', 'Kaksha', 'Kaliyuga Ravanasurudu', 'Kiladi Krishnudu', 'Kodallu Vastunnaru Jagratha', 'Kotha Jeevithalu', 'Kottapeta Rowdy', 'Love in Singapore', 'Maa Bhoomi', 'Mahalakshmi', 'Manavude Mahaneeyudu', 'Mayadari Krishnudu', 'Mogudu Kaavali', 'Moodu Mulla Bandham', 'Mosagadu', 'Nakili Manishi', 'Nayakudu Vinayakudu', 'Pilla Zamindar', 'Prema Kanuka', 'Prema Tarangalu', 'Punnami Naagu', 'Rakta Bandham', 'Ram Robert Rahim', 'Ramudu Parasuramudu', 'Rowdy Ramudu Konte Krishnudu', 'Sankarabharanam', 'Sannayi Appanna', 'Sarada Ramudu', 'Sardar Papa Rayudu', 'Sirimalle Navvindi', 'Sita Ramulu', 'Srivari Muchatlu', 'Subhodayam', 'Superman', 'Thathayya Premaleelalu', 'Tholi Kodi Koosindi', 'Yamudu', 'Yedanthasthula Meda', 'Yuvatharam Kadilindi', 'Vamsa Vruksham', 'Aatmabalam', 'Adavi Donga', 'Agni Parvatam', 'Anveshana', 'Babayi-Abbayi', 'Bangaru Chilaka', 'Bhale Thammudu', 'Bharyabhartala Bandham', 'Bullet', 'Chattamtho Poratam', 'Chiranjeevi', 'Dampatyam', 'Darja Donga', 'Devalayam', 'Donga', 'Dongala Vetagadu', 'Illale Devata', 'Jwala', 'Kattula Kondaiah', 'Kongu Mudi', 'Kotha Pelli Koothuru', 'Maa Pallelo Gopaludu', 'Maha Manishi', 'Maha Sangramam', 'Maharaju', 'Manthra Dandam', 'Mogudu Pellalu', 'Muchataga Mugguru', 'Nyayam Meere Cheppali', 'Oka Radha Iddaru Krishnulu', 'Pachani Kapuram', 'Palnati Simham', 'Pattabhishekam', 'Pratighatana', 'Preminchu Pelladu', 'Puli', 'Ragile Gundelu', 'Rakta Sindhuram', 'Sri Datta Darsanam', 'Siksha', 'Sravanthi', 'Srivari Shobanam', 'Surya Chandra', 'Tirugubatu', 'Vajrayudham', 'Vande Mataram', 'Vijetha', 'Yuvataram Pilicindi', 'Aatma Bandhuvulu', 'Ajeyudu', 'Allari Krishnaiah', 'Aradhana', 'America Abbayi', 'Agni Putrudu', 'Aha Naa-Pellanta!', 'Aranya Kanda', 'Bhale Mogudu', 'Bhanumati Gari Mogudu', 'Bharatamlo Arjunudu', 'Bhargava Ramudu', 'Brahma Nayudu', 'Chakravarthy', 'Chinnari Devatha', 'Collector Gari Abbai', 'Dabbevariki Chedu', 'Dammit Katha Addam Thirigindi', 'Dharmapatni', 'Donga Garu Swagatham', 'Donga Mogudu', 'Gandhinagar Rendava Veedhi', 'Gundamma Gari Krishnulu', 'Jebu Donga', 'Kaboye Alludu', 'Kirai Dada', 'Lawyer Suhasini', 'Lawyer Bharathi Devi', 'Maa Ooru', 'Maa Voori Magadu', 'Madana Gopaludu', 'Maharshi', 'Majnu', 'Makutamleni Maharaju', 'Manmadha Leela Kamaraju Gola', 'Muddayi', 'Muddu Bidda', 'Muvva Gopaludu', 'Naku Pellam Kavali', 'Pasivadi Pranam', 'Prema Samrat', 'President Gari Abbai', 'Pushpaka Vimanam', 'Ramu', 'Sahasa Samrat', 'Samsaram Oka Chadarangam', 'Sankeertana', 'Sankharavam', 'Sardar Dharmanna', 'Sardar Krishnama Naidu', 'Shankar Guru', 'Srimathi Oka Bahumathi', 'Srinivasa Kalyanam', 'Sruthilayalu', 'Swayamkrushi', 'Thandri Kodukula Challenge', 'Thene Manasulu', 'Trimurtulu', 'Vijetha Vikram', 'Viswanatha Nayakudu', 'Aahuti', 'Aakhari Poratam', 'Abhinandana', 'Agni Keratalu', 'Antima Teerpu', 'Asthulu Anthasthulu', 'Aswaddhama', 'Bava Marudula Saval', 'Bazaar Rowdy', 'Bhama Kalapam', 'Bharatamlo Bala Chandrudu', 'Bharya Bhartala Bhagotham', 'Brahma Puthrudu', 'Chikkadu Dorakadu', 'Chinababu', 'Chinnodu Peddodu', 'Choopulu Kalasina Subhavela', 'Chuttalabbayi', 'Daasi', 'Donga Kollu', 'Donga Pelli', 'Donga Ramudu', 'Illu Illalu Pillalu', 'Inspector Pratap', 'Jamadagni', 'Janaki Ramudu', 'Jeevana Ganga', 'Jeevana Jyothi', 'Jhansi Rani', 'Kallu', 'Khaidi No. 786', 'Maa Inti Maharaju', 'Maharshi', 'Manchi Donga', 'Marana Mrudangam', 'Mugguru Kodukulu', 'Murali Krishnudu', 'Pelli Chesi Choodu', 'Prana Snehithulu', 'Raktabhishekam', 'Raktha Tilakam', 'Ramudu Bheemudu', 'Rao Gari Illu', 'Rowdy No.1', 'Rudraveena', 'Sahasam Cheyara Dimbhaka', 'Samsaram', 'Sri Kanaka Mahalakshmi Recording Dance Troupe', 'Station Master', 'Swarnakamalam', 'Thodallullu', 'Tiragabadda Telugubidda', 'Trinetrudu', 'Varasudochadu', 'Vivaha Bhojanambu', 'Yamudiki Mogudu', 'Yuddha Bhoomi', '20va Shatabdam', 'Aayudham', 'Adadhi', 'Abhisarika', 'Adavi Diviteelu', 'Aggiramudu', 'Agni Sakshi', 'Alajadi', 'Alludugaru', 'Anjali', 'Ankitham', 'Ankusam', 'Anna Thammudu', 'Balachandrudu', 'Bamma Maata Bangaru Baata', 'Bobbili Raja', 'Chaitanya', 'Chevilo Puvvu', 'Chinnari Muddula Papa', 'Dagudumuthala Dampathyam', 'Guru Sishyulu', 'Idem Pellam Baboi', 'Iddaru Iddare', 'Inspector Rudra', 'Jagadeka Veerudu Athiloka Sundari', 'Jayammu Nischayammu Raa', 'Kadapa Redamma', 'Kartavyam', 'Kodama Simham', 'Kokila', 'Kondaveeti Donga', 'Lorry Driver', 'Magaadu', 'Mahajananiki Maradalu Pilla', 'Mama Alludu', 'Manasu Mamata', 'Master Kapuram', 'Matti Manushulu', 'Mrugathrushna', 'Muddula Menalludu', 'Nari Nari Naduma Murari', 'Navayugam', 'Neti Siddhartha', 'Police Bharya', 'Prananiki Pranam', 'Prema Khaidi', 'Prema Yuddham', 'Prema Zindabad', 'Qaidi Dada', 'Raja Vikramarka', 'Rambha Rambabu', 'Rao Gari Intlo Rowdy', 'Samrajyam', 'Sathruvu', 'Udhyamam', 'Yamadharma Raju', 'Yauvana Poratham', 'Yuvabharatham', 'Aada Pilla', 'Aagraham', 'Aditya 369', 'Alludu Diddina Kapuram', 'Amma', 'Amma Kadupu Challaga', 'Amma Rajinama', 'Appula Appa Rao', 'April 1 Vidudala', 'Assembly Rowdy', 'Ashwini', 'Athiradhudu', 'Athma Bandham', 'Attintlo Adde Mogudu', 'Bharat Bandh', 'Bhargava', 'Brahmarshi Vishwamitra', 'Chanti', 'Chitram Bhalare Vichitram', 'Coolie No. 1', 'Edu Kondalaswamy', 'Edurinti Mogudu Pakkinti Pellam', 'Gang Leader', 'Iddaru Pellala Muddula Police', 'Indra Bhavanam', 'Jaitra Yatra', 'Kalikalam', 'Karthavyam', 'Keechu Raallu', 'Kobbari Bondam', 'Kshana Kshanam', 'Madhura Nagarilo', 'Mamagaru', 'Minor Raja', 'Naa Ille Naa Swargam', 'Naa Pellam Naa Ishtam', 'Nagastharam ', 'Nayakuralu', 'Nirnayam', 'Niyantha', 'Pandirimancham', 'Parama Sivudu', 'Parishkaram', 'Peddintalludu', 'Pelli Pustakam', \"People's Encounter\", 'Prardhana', 'Prema Entha Madhuram', 'Prema Thapassu', 'Ramudu Kadu Rakshasudu', 'Rowdy Alludu', 'Rowdy Gaari Pellam', 'Sarpayagam', 'Seetharamayya Gari Manavaralu', 'Shanti Kranti', 'Siva Shakthi', 'Sri Edukondala Swaami', 'Stuartpuram Police Station', 'Surya IPS', 'Talli Tandrulu', 'Teneteega', 'Vichitra Prema', 'Yerra Mandaram', 'Yugantam', 'Aa Okkati Adakku', 'Aapadbandhavudu', 'Adharsham', 'Adrushtam', 'Agreement', 'Ahankari', 'Akka Mogudu', 'Alexander', 'Allari Mogudu', 'Allari Pilla', 'Ankuram', 'Antham', 'Appula Appa Rao', 'Asadhyulu', 'Aswamedham', 'Atta Sommu Alludu Danam', 'Ayyayyo Brahamayya', 'Babai Hotel', 'Balarama Krishnulu', 'Bangaru Mama', 'Bhadram Koduko', 'Bhale Khaideelu', 'Brundavanam', 'Chakravyuham', 'Champion', 'Chanti', 'Chillara Mogudu Allari Koduku', 'Chinarayudu', 'Chitram Bhalare Vichitram', 'Chittemma Mogudu', 'Collectorgari Alludu', 'College Bullodu', 'Dabbu Bhale Jabbu', 'Dharma Kshetram', 'Doctor Ambedkar', 'Donga Police', 'Doshi', 'Gang War', 'Gharana Mogudu', 'Golmaal Govindam', 'Gowramma', 'Jaganaddam and Sons', 'Joker Mama Super Alludu', 'Kala Rathrilo Kanne Pilla', 'Killer', 'Lathi', 'Madhavayya Gari Manavadu', 'Mother India', ' Mogudu Pellala Dongata', 'Moratodu Naa Mogudu', 'Naga Kanya', 'Naga Bala', 'Nani', 'Parvatalu Panakalu', 'Pattudala', 'Peddarikam', 'Pellam Chatu Mogudu', 'Pellam Chebithe Vinali', 'Pellante Noorella Panta', 'Pellaniki Premalekha Priyuraliki Subhalekha', 'Pelli Neeku Sukham Naaku', 'Police Brothers', 'Pranadaata', 'Prema Drohi', 'Prema Shikharam', 'Prema Vijeta', 'President Gari Pellam', 'Priyathama', 'Public Rowdy', 'Raguluthunna Bharatham', 'Rakta Tarpanam', 'Rowdy Inspector', 'Sahasam', 'Samrat Ashoka', 'Seetapathi Chalo Tirupathi', 'Seetharatnam Gari Abbayi', 'Subba Rayudi Pelli', 'Sundarakanda', 'Swati Kiranam', 'Teja', 'Valu Jada Tolu Beltu', 'Yagnam', 'Aagraham', 'Aadarsham', 'Aasayam', 'Abbaigaru', 'Akka Pettanam Chelleli Kapuram', 'Allari Alludu', 'Allari Priyudu', 'Amma Koduku', 'Bangaru Bullodu', 'Bava Bavamaridi', 'Chirunavvula Varamistava', 'Chittemma Mogudu', 'Detective Narada', 'Evandi Aavida Vachindi', 'Gaayam', 'Jamba Lakidi Pamba', 'Joker', 'Kannayya Kittayya', 'Kondapalli Raja', 'Kongu Chatu Krishnudu', 'Kunti Putrudu', 'Mahanadi', 'Major Chandrakanth', 'Manavarali Pelli', 'Matru Devo Bhava', 'Mayalodu', 'Mechanic Alludu', 'Money', 'Mister Pellam', 'Mutha Mestri', 'Nippu Ravva', 'One By Two', 'Parugo Parugu', 'Paruvu Pratishta', 'Pekata Papa Rao', 'Pillalu Diddina Kapuram', 'Prema Pusthakam', 'Rajendrudu Gajendrudu', 'Rajeswari Kalyanam', 'Rakshana', 'Ratha Sarathi', 'Rendilla Poojari', 'Rowdy Annayya', 'Srinatha Kavi Sarvabhowmudu', 'Tholi Muddhu', 'Topi Raja Sweety Roja', 'Varasudu', 'Aame', 'Aavesham', 'Alibaba Aradajanu Dongalu', 'Allari Premikudu', 'Allarodu', 'Ammayi Kapuram', 'Angarakshakudu', 'Anna', 'Bangaru Kutumbam', 'Bhairava Dweepam', 'Bhale Pellam', 'Bobbili Simham', 'Brahmachari Mogudu', 'Captain', 'Criminal', 'Gandeevam', 'Gangmaster', 'Gharana Alludu', 'Govinda Govinda', 'Hello Brother', 'Jailor Gaari Abbayi', 'Kooturu', 'Lucky Chance', 'M Dharmaraju M.A.', 'Madam', 'Maga Rayudu', 'Muddula Priyudu', 'Mugguru Monagallu', 'Number One', 'Palnati Pourusham', 'Pelli Koduku', 'Pokkiri Raja', 'Punyabhoomi Naa Desam', 'S. P. Parasuram', 'Shubhalagnam', 'Super Police', 'Teerpu', 'Top Hero', 'Vaddu Bava Thappu', 'Yamaleela', 'Aadaalla Majaka', 'Aayanaki Iddaru', 'Adavi Dora', 'Alluda Majaka', 'Amma Donga', 'Ammoru', 'Aunty', 'Ayanaku Iddaru', 'Bhale Bullodu', 'Big Boss', 'Chilakapachcha Kaapuram', 'Criminal', 'Ghatotkachudu', 'Gharana Bullodu', 'God Father', 'Ketu Duplicate', 'Lingababu Love Story', 'Maato Pettukoku', 'Maya Bazaar', 'Money Money', 'Mounam', 'Mummy Mee Aayanochadu', 'Nirantharam', 'Pedarayudu', 'Pelli Sandadi', 'Pokiri Raja', 'Punya Bhoomi Naa Desam', 'Raja Simham', 'Rikshavodu', 'Sankalpam', 'Sisindri', 'Sogasu Chuda Taramaa?', 'Stri', 'Subha Sankalpam', 'Subhamastu', 'Taj Mahal', 'Vajram', 'Adirindi Alludu', 'Akka! Bagunnava?', 'Akkada Ammayi Ikkada Abbayi', 'Akkum Bakkum', 'Amma Ammani Choodalanivundi', 'Amma Durgamma', 'Bala Ramayanam', 'Bombay Priyudu', 'Chinnabbayi', 'Deyyam', 'Dharma Chakram', 'Drohi', 'Family', 'Gulabi', 'Gunshot', 'Intlo Illalu Vantintlo Priyuralu', 'Jabilamma Pelli', 'Ladies Doctor', 'Little Soldiers', 'Maa Aavida Collector', 'Maavichiguru', 'Merupu', 'Mrugam', 'Ninne Pelladata', 'Ooha', 'Pavitra Bandham', 'Pittala Dora', 'Rambantu', 'Ramudochadu', 'Rayudugaru Nayudugaru', 'Sahasa Veerudu Sagara Kanya', 'Sarada Bullodu', 'Sri Krishnarjuna Vijayam', 'Srikaram', 'Vamsanikokkadu', 'Vinodam', 'Aahvaanam', 'Aaro Pranam', 'Abbaigari Pelli', 'Anaganaga Oka Roju', 'Annamayya', 'Chilakkottudu', 'Chinnabbayi', 'Collector Garu', 'Devudu', 'Dongaata', 'Egire Paavurama', 'Gokulamlo Seeta', 'Hitler', 'Jai Bajarangabhali', 'Kurralla Rajyam', 'Maa Nannaku Pelli', 'Mama Bagunnava', 'Master', 'Muddula Mogudu', 'Oka Chinna Maata', 'Omkaram', 'Osey Ramulamma', 'Peddannayya', 'Pelli', 'Pelli Chesukundam', 'Pelli Pandiri', 'Preminchukundam Raa', 'Priya O Priya', 'Priyaragalu', 'Sindhooram', 'Subhakankshalu', 'Surya Putrulu', 'Suswagatham', 'Taraka Ramudu', 'Thaali', 'Veedevadandi Babu', 'Ugadi', 'Aahaa..!', 'Aavida Maa Aavide', 'Abhishekam', 'All Rounder', 'Andaru Herole', 'Antahpuram', 'Auto Driver', 'Ayanagaru', 'Bavagaru Bagunnara?', 'Chandralekha', 'Choodalani Vundi', 'Daddy Daddy', 'Deergha Sumangali Bhava', 'Ganesh', 'Gillikajjalu', 'Kante Koothurne Kanu', 'Kanyadanam', 'Love Story 1999', 'Maavidaakulu', 'Mee Aayana Jagratha', 'Navvulata', 'Nenu Premisthunnanu', 'Ooyala', 'Pandaga', 'Paradesi', 'Pavitra Prema', 'Pelli Kanuka', 'Pelli Peetalu', 'Premante Idera', 'Prema Pallaki', 'Rana', 'Raayudu', 'Sivayya', 'Sri Sita Ramula Kalyanam Chootamu Raarandi', 'Srimathi Vellostha', 'Subhavartha', 'Sultan', 'Suprabhatam', 'Suryavamsam', 'Suryudu', 'Tholi Prema', 'Ulta Palta', 'W/o V. Vara Prasad', 'Aavide Shyamala', 'Alludugaaru Vachcharu', 'Ammo Polisollu', 'Anaganaga Oka Ammai', 'Asala Sandadi', 'Bobbili Vamsam', 'Chala Bagundi', 'Chinni Chinni Aasa', 'Devi', 'Dollar Dreams', 'English Pellam East Godavari Mogudu ', 'Harischandraa', 'Hello Yama', 'Iddaru Mitrulu', 'Kaama', 'Krishna Babu', 'Maa Balaji', 'Manasichi Choodu', 'Manasulo Maata', 'Manavudu Danavudu', 'Manikyam', 'Maya', 'Mechanic Mavayya', 'Naa Hrudayamlo Nidurinche Cheli', 'Nee Kosam', 'Neti Gandhi', 'Panchadara Chilaka', 'Pilla Nachindi', 'Pedda Manushulu', 'Prema Katha', 'Premaku Velayera', 'Preminche Manasu', 'Preyasi Raave', 'Raja', 'Raja Kumarudu', 'Rajasthan', 'Ramasakkanodu', 'Ravoyi Chandamama', 'Sambayya', 'Samarasimha Reddy', 'Samudram', 'Seenu', 'Seetharama Raju', 'Sneham Kosam', 'Speed Dancer', 'Sri Ramulayya', 'Sultan', 'Swapnalokam', 'Swayamvaram', 'Thammudu', 'Telangana', 'Veedu Samanyudu Kadhu', 'Velugu Needalu', 'Vichitram', 'Yamajathakudu', 'Kalidas', 'Bhakta Prahlada', 'Rama Paduka Pattabhishekam', 'Shakuntala', 'Chintamani', 'Prithvi Putra', 'Prajvala Alapana', 'Ramadasu', 'Sati Savitri', 'Sathi Savitri\\n', 'Athulya Sahavasam', 'Ahalya', 'Lava Kusa', 'Sita Kalyanam', 'Bhakta Kuchela', 'Harishchandra', 'Sati Anasuya', 'Sati Sakkubai', 'Sri Krishna Leelalu', 'Sri Krishna Tulabharam', 'Rani Premalata', 'Dhruva (Also Known as Dhruva Vijayamu)', 'Draupadi Maanasamrakshana', 'Draupadi Vastrapaharanam', 'Kabir', 'Lanka Dahanam', 'Mayabazar (Also Known as Sasirekha Parinayam)', 'Premavijayam', 'Premilarjuneyam', 'Sampoorna Ramayanam', 'Sati Tulasi', 'Sulochana', 'Veerabhimanyu', 'Balayogini', 'Dasavataramulu', 'Kanakatara', 'Mohini Rukmangada', 'Nara Narayana', 'Rukmini Kalyanam', 'Sarangadhara', 'Vijayadashami', 'Vipra Narayana', 'Bhakta Jayadeva', 'Bhakta Markandeya', 'Chal Mohana Ranga', 'Chitranaleeyam', 'Gruhalakshmi', 'Gulebakavali', 'Kacha Devayani', 'Kasula Peru', 'Krishna Jarasandha', 'Mala Pilla', 'Mohini Basmasura', 'Narada Samsaram', 'Satyanarayana Vratam', 'Thukaram', 'Amma', 'Jayaprada', 'Mahananda', 'Malli Pelli', 'Panduranga Vittal', 'Pasupathastram', 'Mathru Bhoomi', 'Radha Krishna', 'Raithu Bidda', 'Sri Venkateswara Mahatyam (Also Known as \"Balaji\")', 'Vande Mataram', 'Vara Vikrayam', 'Aada Janma', 'Aakasa Raju', 'Agni Pareeksha', 'Chandravanka', 'Deeksha', 'Jeevitha Nouka', 'Malliswari', 'Mangala', 'Mantra Dandam', 'Marmayogi', 'Maya Pilla', 'Mayalamari', 'Nirdoshi', 'Pelli Kuthuru', 'Penkipilla', 'Perantalu', 'Rupavathi', 'Sarvadikari', 'Soudamini', 'Stree Sahasam', 'Tilottama', 'Aadarsham', 'Aakali', 'Athinti Kapuram', 'Chinna Kodalu', 'Chinnamma Katha', 'Daasi', 'Dharma Devatha', 'Kanchana', 'Manavathi', 'Maradalu Pelli', 'Mugguru Kodukulu', 'Palletooru', 'Peda Raithu', 'Pelli Chesi Choodu', 'Praja Seva', 'Prema', 'Priyuralu', 'Rajeswari', 'Sahasam', 'Sankranti', 'Santhi', 'Savati Poru', 'Singari', 'Suvarna Mala', 'Tingu Ranga', 'Apeksha', 'Amarakavi', 'Ammalakkalu', 'Bratuku Teruvu', 'Chivaruku Miguledhi Emi Unadhi', 'Kitukendo Cheppave Chalaki Bullemma', 'Devadasu', 'Gumastha', 'Inspector', 'Jaganmohini', 'Kanna Talli', 'Kodarikam', 'Lakshmi', 'Manjari', 'Naa Chellelu', 'Naa Illu', 'Okka Talli Pillalu', 'Pakka Inti Ammayi', 'Paradesi', 'Paropakaram', 'Pempudu Koduku', 'Pichi Pullayya', 'Prapancham', 'Pratigna ', 'Prema Lekhalu', 'Puttillu', 'Rohini', 'Thandri', 'Vayyari Bhama', 'Achintya Apeksha Ratnavali', 'Aggi Ramudu', 'Amara Sandhesam', 'Annadata', 'Anta Manavalle', 'Baalanandam', 'Bangaru Bhoomi', 'Chakrapani', 'Chandraharam', 'Iddaru Pellalu', 'Jatakaphalam', 'Jyothi', 'Kalahasti Mahatyam', 'Maa Gopi', 'Manohara', 'Menarikam', 'Nirupedalu', 'Palle Paduchu', 'Parivartana', 'Peddamanushulu', 'Praja Rajyam', 'Raji Na Pranam', 'Raju Peda', 'Raja Guruvu', 'Rechukka', 'Sangham', 'Sati Sakkubai', 'Todu Dongalu', 'Vaddante Dabbu', 'Vipra Narayana', 'Batasari', 'Bava Maradallu', 'Bhakta Jayadeva', 'Bharya Bhartalu', 'Bikari Ramudu', 'Evaru Donga', 'Gullo Pelli', 'Iddaru Mitrulu', 'Indrajeet (Sati Sulochana)', 'Intiki Deepam Illale', 'Jagadeka Veeruni Katha', 'Jebu Donga', 'Kalasi Vunte Kaladu Sukham', 'Kanna Koduku', 'Kannyaka Parameswari Mahatmyam', 'Korada Veerudu', 'Krishna Kuchela', 'Krishna Prema', 'Pelli Kaani Pillalu', 'Pendli Pilupu', 'Rushyasrunga', 'Sabhash Raja', 'Santha', 'Sati Sulochana', 'Seetharama Kalyanam', 'Shanta', 'Taxi Ramudu', 'Thandrulu Kodukulu', 'Usha Parinayam', 'Vagdanam', 'Varalakshmi Vratham', 'Velugu Needalu', 'Aathma Balam', 'Amara Shilpi Jakkanna', 'Babruvahana', 'Bangaru Thimmaraju', 'Bobbili Yuddham', 'Dagudu Moothalu', 'Desa Drohulu', 'Doctor Chakravarty', 'Kalavari Kodalu', 'Manchi Manishi', 'Marmayogi', 'Mooga Manasulu', 'Murali Krishna', 'Pativrata', 'Pooja Phalam', 'Peetala Meeda Pelli', 'Ramadasu', 'Ramudu Bheemudu', 'Sabhash Suri', 'Sri Satyanarayana Mahathyam', 'Sri Tirupatamma Katha', 'Vaarasatwam', 'Vivaha Bandham', 'Aadavaallu Meeku Joharlu', 'Aakali Rajyam', 'Addala Meda', 'Aggi Ravva', 'Agni Poolu', 'Alludugaru Zindabad', 'Amavasya Chandrudu', 'Antham Kadidi Aarambam', 'Asha Jyoti', 'Babulugaadi Debba', 'Bala Nagamma', 'Bhoga Bhagyalu', 'Bhogimanthulu', 'Chattaniki Kallu Levu', 'Chinnaari Chittibaau', 'Dabbu Dabbu Dabbu', 'Devudu Mamayya', 'Guru Sishyulu', 'Illalu', 'Jeevitha Ratham', 'Kirayi Rowdylu', 'Kondaveeti Simham', 'Maha Purushudu', 'Mudda Mandaram', 'Nyayam Kavali', 'O Amma Katha', 'Oorukichchina Maata', 'Ooruki Monagadu', 'Pakkinti Ammayi', 'Parvathi Parameswarulu', 'Patalam Pandu', 'Prema Mandiram', 'Prema Natakam', 'Prema Pichchi', 'Prema Simhasanam', 'Premabhishekam', 'Priya', 'Puli Bidda', 'Radha Kalyanam', 'Ragile Jwala', 'Amavasya Chandrudu', 'Rani Kasula Rangamma', 'Sandhya Ragam', 'Saptapadi', 'Satyabhama', 'Satyam Shivam', 'Seethakoka Chilaka', 'Siddhalingeshwara Mahima', 'Srirasthu Subhamasthu', 'Swapna', 'Taxi Driver', 'Tirugu Leni Manishi', 'Todu Dongalu', 'Tyagayya', 'Viswaroopam', 'Pranaya Geetham', 'Gaja Donga', 'Prema Kanuka', 'Srivari Muchatlu', 'Bhakta Tulasidas', 'Griha Pravesam', 'Mangalasutram', 'Mugguru Maratilu', 'Narada Naradhi', 'Returning Soldier', 'Sethu Bandhanam', 'Tyagayya', 'Vanarani', 'Brahma Ratham', 'Gollabhama', 'Palnati Yuddham', 'Radhika', 'Varudhini', 'Yogi Vemana', 'Balaraju', 'Bhakta Sriyala', 'Drohi', 'Geetanjali', 'Madalasa', 'Ratnamala', 'Suvarnamala', 'Vindhyarani', 'Abhisyanta Kalapam', 'Apna Desh', 'Dharmangadha', 'Gunasundari Katha', 'Keelu Gurram', 'Laila Majnu', 'Mana Desam', 'Raksha Rekha', 'Aahuti', 'Adhrusta Deepudu', 'Apoorva Sahodarulu', 'Beedala Patlu', 'Jeevitham', 'Lakshmamma', 'Maaya Rambha', 'Modhati Rathri', 'Palletoori Pilla', 'Paramanandayya Sishyulu', 'Raja Vikrama', 'Shavukaru', 'Samsaram', 'Sri Lakshmamma Katha', 'Sri Saibaba', 'Swapna Sundari', 'Thirugubatu', 'Vaali – Sugreeva', 'Anantha Ragalu', 'Andagaadu', 'Amara Geetham', 'Anuraga Devatha', 'Aththaku Thagga Allullu', 'Bandhalu Anubandhalu', 'Bangaru Bhoomi', 'Bangaru Kanuka', 'Bangaru Koduku', 'Bhakta Dhruvamarkandeya', 'Bhakta Gnanadeva', 'Bhale Kapuram', 'Billa-Ranga', 'Bobbili Puli', 'Cancer-Sukhavyadhulu', 'Chalaki Chellamma', 'Chandamama', 'Chattamtho Chelagatam', 'Chilipi Chinnodu', 'Chilipi Vayasu', 'Devatha', 'Dharma Vaddi', 'Doctor Cine Actor', 'Doctor Malathi', 'Dongalosthunnaru Jagratta', 'Edhi Dharmam Edhi Nyayam', 'Ee Charithra Ye Siratho', 'Ee Kaalam Katha', 'Eenadu', 'Eeswara Kataksham', 'Ekalavya', 'Emandoyi Srimathigaru', 'Entha Gaatu Premayo', 'Evandoy Srimathi Garu', 'Garuda Rekha', 'Golkonda Abbulu', 'Gopala Krishnudu', 'Grama Kakshalu', 'Gruha Pravesam', 'Hanthakulaku Saval', 'Himabindu', 'Iddaru Kodukulu', 'Idi Pellantara', 'Illali Korikalu', 'Illanta Sandadi', 'Intlo Ramayya Veedhilo Krishnayya', 'Jagannadha Rathachakralu', 'Jaggu', 'Jai Mahakali', 'Jai Santhoshi Matha', 'Jayamalini', 'Jayasudha', 'Justice Chowdary', 'Kadali Vachina Kanaka Durga', 'Kalahala Kapuram', 'Kalavari Samsaram', 'Kaliyuga Ramudu', 'Kayyala Ammayi Kalavari Abbayi', 'Korukunna Mogudu', 'Kotha Neeru', 'Krishnarjunulu', 'Krishnavataram', 'Madhura Swapnam', 'Mahanati', 'Mahaprasthanam', 'Malle Pandhiri', 'Manchu Pallaki', 'Mantralaya Raghavendra Vaibhavam', 'Maro Malupu', 'Meghasandesam', 'Mettela Savvadi', 'Mondi Ghatam', 'Musalodiki Dasara Panduga', 'Naa Desam', 'Naa Pere Johnny', 'Nalugu Sthambalata', 'Neethi Devan Mayakkam', 'Nipputo Chelagaatam', 'Nireekshana', 'Nivuru Gappina Nippu', 'O Adadhi O Magadu', 'Pagabattina Bebbuli', 'Pagabattina Simham', 'Palletoori Simham', 'Propakari Papanna', 'Patnam Mogudu Palletoori Pellam', 'Patnam Vachina Pativrathalu', 'Pelleedu Pillalu', 'Pellilla Perayya', 'Poola Pallaki', 'Pralaya Rudrudu', 'Prathikaram', 'Pratigya', 'Prema Murthulu', 'Prema Nakshatram', 'Prema Sankellu', 'Premaku Padhabhishekam', 'Punyabhumi Kallu Terichindhi', 'Purandara Dasu', 'Raaga Deepam', 'Radha My Darling', 'Radhamma Mogudu', 'Rangoon Raja', 'Savaal', 'Savitri', 'Shamsher Shanker', 'Sitadevi', 'Sri Lakshmi Nilayam', 'Subbarao Ki Kopam Vachhindi', 'Subhalekha', 'Swayamvaram', 'Telugunadu', 'Talli Kodukula Anubandham', 'Tharangini', 'Tingu Rangadu', 'Trisulam', 'Vamsha Gowravam', 'Vasantha Kokila', 'Vayyari Bhamalu Vagalamari Bhartalu', 'Vijaya Bheri', 'Viplava Shankam', 'Yama Kinkarudu', 'Yuvraj', 'Aalaya Sikharam', 'Adavalle Aligithe', 'Abhilasha', 'Adadhi Aata Bommaa!', 'Adavi Simhalu', 'Agni Jwala', 'Agni Samadhi', 'Akka Mogudu Chelleli Kapuram', 'Amarajeevi', 'Amayakudu Kadhu Asadhyudu', 'Amayaka Chakravarthy', 'Andhra Kesari', 'Antham Chusina Adadhi', 'Apadhbandhavulu', 'Bahudoorapu Batasari', 'Balidaanam', 'Bandhipotu Rudramma', 'Bezawada Bebbuli', 'Bhairava Kona', 'Bhama Rukmini', 'Bharathamma Muddu Biddalu', 'Bharya Bharthala Sawal', 'C I D Simham', 'Challenge Vetagallu', 'Chanda Sasanudu', 'Chandi Chamundi', 'Chandi Rani', 'Chattam', 'Chattaniki Sawal', 'Chattaniki Veyi Kallu', 'Chilaka Josyam', 'Darling Darling Darling', 'Debbaku Debba', 'Desanikokkadu', 'Devi Kanaykumari', 'Devi Moogambika', 'Devi Sridevi', 'Dharma Poratam', 'Dharmaatmudu', 'Digivachina Devudu', 'Doctor Gari Kodalu', 'Durga Devi', 'Ee Desamlo Oka Roju', 'Ee Pillaku Pellavuthunda', 'Eeswarudu Seneswarudu', 'Gaanam', 'Gaju Bommalu', 'Grahanam Vidichindi', 'Gudachari No.1', 'Iddaru Kiladeelu', 'Idhi Kadhu Mugimpu', 'Ikanaina Marandi', 'Intalludu', 'Kasi Yatra', 'Kaksha Sadistha', 'Kala Yamudu', 'Kaliyuga Dhaivam', 'Kalyana Veena', 'Kanne Donga', 'Kanthaiyya Kanakaiyya', 'Keerthi Kantha Kanakam', 'Khaidi', 'Kirayi Bommalu', 'Kirayi Kotigadu', 'Kirayi Rangadu', 'Kodalu Kaavaali', 'Kokilamma', 'Konte Kodallu', 'Koti Kokkadu', 'Kunkuma Tilakam', 'Lanke Bindelu', 'M.L.A. Yedukondalu', 'Maa Intaina Katha', 'Maa Inti Premayanam', 'Maa Intiki Randi', 'Maga Maharaju', 'Magallako Namaskaram', 'Maharani', 'Manavulara Manninchandi', 'Manishiki Maro Peru', 'Manishiko Chartira', 'Mantri Gari Viyyankudu', 'Maro Maya Bazaar', 'Mayagadu', 'Monagadu Vastunnadu Jagratha', 'Moodu Mullu', 'Moogavadi Paga', 'Muddula Mogudu', 'Muggurammayila Mogudu', 'Mugguru Monagallu', 'Mundadugu', 'Navodayam', 'Nelavanka', 'Neti Bharatam', 'Nijam Chebithe Nerama', 'Oorantha Sankranthi', 'Padmavathi Kalyanam', 'Palleturi Monagadu', 'Palleturi Pidugu', 'Pandanti Kapuraniki 12 Suthralu', 'Patnam Vachhina Pasipapa', 'Pelli Chesi Choopistham', 'Pelli Choopulu', 'Penki Ghatam', 'Pichi Pantuulu', 'Pidugu lanti Manishi', 'Police Police', 'Police Venkataswamy', 'Poratam', 'Praja Rajyam', 'Praja Shakthi', 'Pralaya Gharjana', 'Prema Jwala', 'Prema Pichollu', 'Prema Sagaram', 'Prema Vijayam', 'Puli Bebbuli', 'Puli Debba', 'Raakasi Loya', 'Raghu Ramudu', 'Rajakumar', 'Raju Rani Jocky', 'Ramarajyamlo Bheemaraju', 'Ramudu Kadu Krishnudu', 'Rangula Kala', 'Rangula Puli', 'Rendu Jella Sita', 'Roshagadu', 'Rudrakali', 'Sagara Sangamam', 'Sangharshana', 'Shakthi', 'Simham Navvindi', 'Simhamtho Chelagatam', 'Simhapuri Simham', 'Siripuram Monagadu', 'Sivudu Sivudu Sivudu', 'Sri Ranga Neethulu', 'Subha Muhurtham', 'Swarajyam', 'Thodu Needa', 'Triveni Sangamam', 'Vetagadi Vijayam', 'Vimukthi Kosam', 'Aadadhi Visirina Savaal', 'Abhimanyudu', 'Adarshavanthudu', 'Agni Gundam', 'Allullostunnaru', 'Ananda Bhairavi', 'Anubandham', 'Bava Maradallu', 'Bhagyalakshmi', 'Bobbili Brahmanna', 'Challenge', 'Devalayam', 'Devanthakudu', 'Disco King', 'Dongalu Baboi Dongalu', 'Goonda', 'Gruhalakshmi', 'Hero', 'Illalu Priyuralu', 'Inti Guttu', 'Jagan', 'Janam Manam', 'Janani Janmabhoomi', 'Justice Chakravarthy', 'Kanchana Ganga', 'Kanchu Kagada', 'Kathanayakudu', 'Koteeswarudu', 'Kotha Dampathulu', 'Kurra Cheshtalu', 'Kurukshetramlo Sita', 'Kutumba Gowaravam', 'Mahanagaramlo Mayagadu', 'Manasa Veena', 'Mangammagari Manavadu', 'Mayuri', 'Merupu Daadi', 'Naagu', 'Nava Mohini', 'Nayakulaku Saval', 'Palnati Puli', 'Rachayitri', 'Raga Bandham', 'Railu Dopidi', 'Rajahmundry Rome', 'Raktha Sambandham', 'Rana', 'Raraju', 'Rojulu Marayi', 'Rowdy', 'Rustum', 'S. P. Bhayankar', 'Sahasame Jeevitham', 'Sampoorna Premayanam', 'Sangeeta Samrat', 'Seethamma Pelli', 'Sitaara', 'Srimadvirat Veerabrahmendra Swami Charitra', 'Srivariki Premalekha', 'Swathi', 'Tandava Krishnudu', 'Vasantha Geetam', 'Veerabhadrudu', 'Yuddham', 'Aadi Dampatulu', 'Aalapana', 'Anasuyamma Gari Alludu', 'Apoorva Sahodarulu', 'Aranyakanda', 'Brahma Rudrulu', 'Brahmastram', 'Captain Nagarjun', 'Chadastapu Mogudu', 'Chanakya Shapadham', 'Chantabbai', 'Deshoddharakudu', 'Dhairyavanthudu', 'Driver Babu', 'Ide Naa Samadhanam', 'Jailu Pakshi', 'Jayam Manade', 'Jeevana Poratam', 'Kaliyuga Krishnudu', 'Kaliyuga Pandavulu', 'Karu Diddina Kapuram', 'Kashmora', 'Khaidi Rudraiah', 'Kirathakudu', 'Kondaveeti Raja', 'Krishna Garadi', 'Ladies Tailor', 'Magadheerudu', 'Mannemlo Monagadu', 'Muddula Krishnaiah', 'Naanum Oru Thozhilali', 'Nippulanti Manishi', 'Padaharella Ammayi', 'Padamati Sandhya Ragam', 'Papikondalu', 'Pavitra', 'Prathibhavanthudu', 'Prathigatana', 'Punyasthree', 'Rakshasudu', 'Ravana Brahma', 'Rendu Rellu Aaru', 'Repati Pourulu', 'Sakkanodu', 'Santhi Nivasam', 'Seetharama Kalyanam', 'Simhasanam', 'Sirivennela', 'Srimathi Oka Bahumathi', 'Srinivasa Kalyanam', 'Swathi Muthyam', 'Sri Shirdi Saibaba Mahathyam', 'Tandra Paparayudu', 'Ugra Narasimham', 'Veta', 'Vikram', 'Agni', 'Ajatha Satruvu', 'Anna Chellalu', 'Ashoka Chakravarthy', 'Attaku Yamudu Ammayiki Mogudu', 'Adavilo Abhimanyudu', 'Bala Gopaludu', 'Bandhuvulostunnaru Jagratha', 'Bava Bava Panneeru', 'Bhale Dampathulu', 'Bhale Donga', 'Bharata Nari', 'Bharyalu Jagratha', 'Chalaki Mogudu Chadastapu Pellam', 'Chettu Kinda Pleader', 'Dharma Teja', 'Dhruva Nakshatram', 'Gaduggai', 'Geetanjali', 'Goonda Rajyam', 'Gopala Rao Gari Abbayi', 'Gudachari 117', 'Hai Hai Nayaka', 'Indrudu Chandrudu', 'Jayammu Nischayammu Raa', 'Joo Laka Taka ', 'Koduku Diddina Kapuram', 'Kokila', 'Lankeswarudu', 'Mamatala Kovela', 'Manchu Kutumbam', 'Mouna Poratam', 'Muddula Mavayya', 'Muthyamantha Muddu', 'Naga Pournami', 'Nyayam Meere Cheppali', 'Ontari Poratam', 'Paila Pacheesu', 'Poola Rangadu', 'Prema', 'Preminchi Choodu', 'Rajakeeya Chadarangam', 'Rudranetra', 'Sahasame Naa Oopiri', 'Sakshi', 'Samsaram Oka Sangeetham', 'Sarvabhoumudu', 'Simha Swapnam', 'Siva', 'Srirama Chandrudu', 'State Rowdy', 'Sutradharulu', 'Swathi Chinukulu', 'Two Town Rowdy', 'Vichitra Sodarulu', 'Vicky Daada', 'Vijay', 'Yamapaasam']\n"
     ]
    }
   ],
   "source": [
    "list_of_all_titles=movies_data['Title'].tolist()\n",
    "print(list_of_all_titles)"
   ]
  },
  {
   "cell_type": "code",
   "execution_count": 44,
   "id": "1c20facb",
   "metadata": {},
   "outputs": [
    {
     "name": "stdout",
     "output_type": "stream",
     "text": [
      "['Tholi Prema', 'Thalli Prema', 'Talli Prema']\n"
     ]
    }
   ],
   "source": [
    "find_close_match=difflib.get_close_matches(movie_name,list_of_all_titles)\n",
    "print(find_close_match)"
   ]
  },
  {
   "cell_type": "code",
   "execution_count": 45,
   "id": "6fcf59af",
   "metadata": {},
   "outputs": [
    {
     "name": "stdout",
     "output_type": "stream",
     "text": [
      "Tholi Prema\n"
     ]
    }
   ],
   "source": [
    "close_match=find_close_match[0]\n",
    "print(close_match)"
   ]
  },
  {
   "cell_type": "code",
   "execution_count": 46,
   "id": "1e11e9e7",
   "metadata": {},
   "outputs": [
    {
     "name": "stdout",
     "output_type": "stream",
     "text": [
      "1568\n"
     ]
    }
   ],
   "source": [
    "index_of_the_movie = movies_data[movies_data.Title == close_match]['index'].values[0]\n",
    "print(index_of_the_movie)"
   ]
  },
  {
   "cell_type": "code",
   "execution_count": 47,
   "id": "06280901",
   "metadata": {},
   "outputs": [
    {
     "name": "stdout",
     "output_type": "stream",
     "text": [
      "[(0, 0.0), (1, 0.0), (2, 0.0), (3, 0.0), (4, 0.0), (5, 0.0), (6, 0.0), (7, 0.0), (8, 0.0), (9, 0.0), (10, 0.0), (11, 0.0), (12, 0.0), (13, 0.0), (14, 0.0), (15, 0.0), (16, 0.0), (17, 0.0), (18, 0.0), (19, 0.0), (20, 0.0), (21, 0.0), (22, 0.0), (23, 0.0), (24, 0.0), (25, 0.0), (26, 0.0), (27, 0.0), (28, 0.0), (29, 0.0), (30, 0.0), (31, 0.0), (32, 0.0), (33, 0.0), (34, 0.0), (35, 0.0), (36, 0.0), (37, 0.0), (38, 0.0), (39, 0.0), (40, 0.0), (41, 0.0), (42, 0.0), (43, 0.0), (44, 0.0), (45, 0.0), (46, 0.0), (47, 0.0), (48, 0.0), (49, 0.0), (50, 0.0), (51, 0.0), (52, 0.0), (53, 0.0), (54, 0.0), (55, 0.0), (56, 0.0), (57, 0.0), (58, 0.0), (59, 0.0), (60, 0.0), (61, 0.0), (62, 0.0), (63, 0.0), (64, 0.0), (65, 0.0), (66, 0.0), (67, 0.0), (68, 0.0), (69, 0.0), (70, 0.0), (71, 0.0), (72, 0.0), (73, 0.0), (74, 0.0), (75, 0.0), (76, 0.0), (77, 0.0), (78, 0.0), (79, 0.0), (80, 0.0), (81, 0.0), (82, 0.0), (83, 0.0), (84, 0.0), (85, 0.0), (86, 0.0), (87, 0.0), (88, 0.0), (89, 0.0), (90, 0.0), (91, 0.0), (92, 0.0), (93, 0.0), (94, 0.0), (95, 0.0), (96, 0.0), (97, 0.0), (98, 0.0), (99, 0.0), (100, 0.0), (101, 0.0), (102, 0.0), (103, 0.0), (104, 0.0), (105, 0.0), (106, 0.0), (107, 0.0), (108, 0.0), (109, 0.0), (110, 0.0), (111, 0.0), (112, 0.0), (113, 0.0), (114, 0.0), (115, 0.0), (116, 0.0), (117, 0.0), (118, 0.0), (119, 0.0), (120, 0.0), (121, 0.0), (122, 0.0), (123, 0.0), (124, 0.0), (125, 0.0), (126, 0.0), (127, 0.0), (128, 0.0), (129, 0.0), (130, 0.0), (131, 0.0), (132, 0.0), (133, 0.0), (134, 0.0), (135, 0.0), (136, 0.0), (137, 0.0), (138, 0.0), (139, 0.0), (140, 0.0), (141, 0.0), (142, 0.0), (143, 0.0), (144, 0.0), (145, 0.0), (146, 0.0), (147, 0.0), (148, 0.0), (149, 0.0), (150, 0.0), (151, 0.0), (152, 0.0), (153, 0.0), (154, 0.0), (155, 0.0), (156, 0.0), (157, 0.0), (158, 0.0), (159, 0.0), (160, 0.0), (161, 0.0), (162, 0.0), (163, 0.0), (164, 0.0), (165, 0.0), (166, 0.0), (167, 0.0), (168, 0.0), (169, 0.0), (170, 0.0), (171, 0.0), (172, 0.0), (173, 0.0), (174, 0.0), (175, 0.0), (176, 0.0), (177, 0.0), (178, 0.0), (179, 0.0), (180, 0.0), (181, 0.0), (182, 0.0), (183, 0.0), (184, 0.0), (185, 0.0), (186, 0.0), (187, 0.0), (188, 0.0), (189, 0.0), (190, 0.0), (191, 0.0), (192, 0.0), (193, 0.0), (194, 0.0), (195, 0.0), (196, 0.0), (197, 0.0), (198, 0.0), (199, 0.0), (200, 0.0), (201, 0.0), (202, 0.0), (203, 0.0), (204, 0.0), (205, 0.0), (206, 0.0), (207, 0.0), (208, 0.0), (209, 0.0), (210, 0.0), (211, 0.0), (212, 0.0), (213, 0.0), (214, 0.0), (215, 0.0), (216, 0.0), (217, 0.0), (218, 0.0), (219, 0.0), (220, 0.0), (221, 0.0), (222, 0.0), (223, 0.0), (224, 0.0), (225, 0.0), (226, 0.0), (227, 0.0), (228, 0.0), (229, 0.0), (230, 0.0), (231, 0.0), (232, 0.0), (233, 0.0), (234, 0.0), (235, 0.0), (236, 0.0), (237, 0.0), (238, 0.0), (239, 0.0), (240, 0.0), (241, 0.0), (242, 0.0), (243, 0.0), (244, 0.0), (245, 0.0), (246, 0.0), (247, 0.0), (248, 0.0), (249, 0.0), (250, 0.0), (251, 0.0), (252, 0.0), (253, 0.0), (254, 0.0), (255, 0.0), (256, 0.0), (257, 0.0), (258, 0.0), (259, 0.0), (260, 0.0), (261, 0.0), (262, 0.0), (263, 0.0), (264, 0.0), (265, 0.0), (266, 0.0), (267, 0.0), (268, 0.0), (269, 0.0), (270, 0.0), (271, 0.0), (272, 0.0), (273, 0.0), (274, 0.0), (275, 0.0), (276, 0.0), (277, 0.0), (278, 0.0), (279, 0.0), (280, 0.0), (281, 0.0), (282, 0.0), (283, 0.0), (284, 0.0), (285, 0.0), (286, 0.0), (287, 0.0), (288, 0.0), (289, 0.0), (290, 0.0), (291, 0.0), (292, 0.0), (293, 0.0), (294, 0.0), (295, 0.0), (296, 0.0), (297, 0.0), (298, 0.0), (299, 0.0), (300, 0.0), (301, 0.0), (302, 0.0), (303, 0.0), (304, 0.0), (305, 0.0), (306, 0.0), (307, 0.0), (308, 0.0), (309, 0.0), (310, 0.0), (311, 0.0), (312, 0.0), (313, 0.0), (314, 0.0), (315, 0.0), (316, 0.0), (317, 0.0), (318, 0.0), (319, 0.0), (320, 0.0), (321, 0.0), (322, 0.0), (323, 0.0), (324, 0.0), (325, 0.0), (326, 0.0), (327, 0.0), (328, 0.0), (329, 0.0), (330, 0.0), (331, 0.0), (332, 0.0), (333, 0.0), (334, 0.0), (335, 0.0), (336, 0.0), (337, 0.0), (338, 0.0), (339, 0.0), (340, 0.0), (341, 0.0), (342, 0.0), (343, 0.0), (344, 0.0), (345, 0.0), (346, 0.0), (347, 0.0), (348, 0.0), (349, 0.0), (350, 0.0), (351, 0.0), (352, 0.0), (353, 0.0), (354, 0.0), (355, 0.0), (356, 0.0), (357, 0.0), (358, 0.0), (359, 0.0), (360, 0.0), (361, 0.0), (362, 0.0), (363, 0.0), (364, 0.0), (365, 0.0), (366, 0.0), (367, 0.0), (368, 0.0), (369, 0.0), (370, 0.0), (371, 0.0), (372, 0.0), (373, 0.0), (374, 0.0), (375, 0.0), (376, 0.0), (377, 0.0), (378, 0.0), (379, 0.0), (380, 0.0), (381, 0.0), (382, 0.0), (383, 0.0), (384, 0.0), (385, 0.0), (386, 0.0), (387, 0.0), (388, 0.0), (389, 0.0), (390, 0.0), (391, 0.0), (392, 0.0), (393, 0.0), (394, 0.0), (395, 0.0), (396, 0.0), (397, 0.0), (398, 0.0), (399, 0.0), (400, 0.0), (401, 0.0), (402, 0.0), (403, 0.0), (404, 0.0), (405, 0.0), (406, 0.0), (407, 0.0), (408, 0.0), (409, 0.0), (410, 0.0), (411, 0.0), (412, 0.0), (413, 0.0), (414, 0.0), (415, 0.0), (416, 0.0), (417, 0.0), (418, 0.0), (419, 0.0), (420, 0.0), (421, 0.0), (422, 0.0), (423, 0.0), (424, 0.0), (425, 0.0), (426, 0.0), (427, 0.0), (428, 0.0), (429, 0.0), (430, 0.0), (431, 0.0), (432, 0.0), (433, 0.0), (434, 0.0), (435, 0.0), (436, 0.0), (437, 0.0), (438, 0.0), (439, 0.0), (440, 0.0), (441, 0.0), (442, 0.0), (443, 0.0), (444, 0.0), (445, 0.0), (446, 0.0), (447, 0.0), (448, 0.0), (449, 0.0), (450, 0.0), (451, 0.0), (452, 0.0), (453, 0.0), (454, 0.0), (455, 0.0), (456, 0.0), (457, 0.0), (458, 0.0), (459, 0.0), (460, 0.0), (461, 0.0), (462, 0.0), (463, 0.0), (464, 0.0), (465, 0.0), (466, 0.0), (467, 0.0), (468, 0.0), (469, 0.0), (470, 0.0), (471, 0.0), (472, 0.0), (473, 0.0), (474, 0.0), (475, 0.0), (476, 0.0), (477, 0.0), (478, 0.0), (479, 0.0), (480, 0.0), (481, 0.0), (482, 0.0), (483, 0.0), (484, 0.0), (485, 0.0), (486, 0.0), (487, 0.0), (488, 0.0), (489, 0.0), (490, 0.0), (491, 0.0), (492, 0.0), (493, 0.0), (494, 0.0), (495, 0.0), (496, 0.0), (497, 0.0), (498, 0.0), (499, 0.0), (500, 0.0), (501, 0.0), (502, 0.0), (503, 0.0), (504, 0.0), (505, 0.0), (506, 0.0), (507, 0.0), (508, 0.0), (509, 0.0), (510, 0.0), (511, 0.0), (512, 0.0), (513, 0.0), (514, 0.0), (515, 0.0), (516, 0.0), (517, 0.0), (518, 0.0), (519, 0.0), (520, 0.0), (521, 0.0), (522, 0.0), (523, 0.0), (524, 0.0), (525, 0.0), (526, 0.0), (527, 0.0), (528, 0.0), (529, 0.0), (530, 0.0), (531, 0.0), (532, 0.0), (533, 0.0), (534, 0.0), (535, 0.0), (536, 0.0), (537, 0.0), (538, 0.0), (539, 0.0), (540, 0.0), (541, 0.0), (542, 0.0), (543, 0.0), (544, 0.0), (545, 0.0), (546, 0.0), (547, 0.0), (548, 0.0), (549, 0.0), (550, 0.0), (551, 0.0), (552, 0.0), (553, 0.0), (554, 0.0), (555, 0.0), (556, 0.0), (557, 0.0), (558, 0.0), (559, 0.0), (560, 0.0), (561, 0.0), (562, 0.0), (563, 0.0), (564, 0.0), (565, 0.0), (566, 0.0), (567, 0.0), (568, 0.0), (569, 0.0), (570, 0.0), (571, 0.0), (572, 0.0), (573, 0.0), (574, 0.0), (575, 0.0), (576, 0.0), (577, 0.0), (578, 0.0), (579, 0.0), (580, 0.0), (581, 0.0), (582, 0.0), (583, 0.0), (584, 0.0), (585, 0.0), (586, 0.0), (587, 0.0), (588, 0.0), (589, 0.0), (590, 0.0), (591, 0.0), (592, 0.0), (593, 0.0), (594, 0.0), (595, 0.0), (596, 0.0), (597, 0.0), (598, 0.0), (599, 0.0), (600, 0.0), (601, 0.0), (602, 0.0), (603, 0.0), (604, 0.0), (605, 0.0), (606, 0.0), (607, 0.0), (608, 0.0), (609, 0.0), (610, 0.0), (611, 0.0), (612, 0.0), (613, 0.0), (614, 0.0), (615, 0.0), (616, 0.0), (617, 0.0), (618, 0.0), (619, 0.0), (620, 0.0), (621, 0.0), (622, 0.0), (623, 0.0), (624, 0.0), (625, 0.0), (626, 0.0), (627, 0.0), (628, 0.0), (629, 0.0), (630, 0.0), (631, 0.0), (632, 0.0), (633, 0.0), (634, 0.0), (635, 0.0), (636, 0.0), (637, 0.0), (638, 0.0), (639, 0.0), (640, 0.0), (641, 0.0), (642, 0.0), (643, 0.0), (644, 0.0), (645, 0.0), (646, 0.0), (647, 0.0), (648, 0.0), (649, 0.0), (650, 0.0), (651, 0.0), (652, 0.0), (653, 0.0), (654, 0.0), (655, 0.0), (656, 0.0), (657, 0.0), (658, 0.0), (659, 0.0), (660, 0.0), (661, 0.0), (662, 0.0), (663, 0.0), (664, 0.0), (665, 0.0), (666, 0.0), (667, 0.0), (668, 0.0), (669, 0.0), (670, 0.0), (671, 0.0), (672, 0.0), (673, 0.0), (674, 0.0), (675, 0.0), (676, 0.0), (677, 0.0), (678, 0.0), (679, 0.0), (680, 0.0), (681, 0.0), (682, 0.0), (683, 0.0), (684, 0.0), (685, 0.0), (686, 0.0), (687, 0.0), (688, 0.0), (689, 0.0), (690, 0.0), (691, 0.0), (692, 0.0), (693, 0.0), (694, 0.0), (695, 0.0), (696, 0.0), (697, 0.0), (698, 0.0), (699, 0.0), (700, 0.0), (701, 0.0), (702, 0.0), (703, 0.0), (704, 0.0), (705, 0.0), (706, 0.0), (707, 0.0), (708, 0.0), (709, 0.0), (710, 0.0), (711, 0.0), (712, 0.0), (713, 0.0), (714, 0.0), (715, 0.0), (716, 0.0), (717, 0.0), (718, 0.0), (719, 0.0), (720, 0.0), (721, 0.0), (722, 0.0), (723, 0.0), (724, 0.0), (725, 0.0), (726, 0.0), (727, 0.0), (728, 0.0), (729, 0.0), (730, 0.0), (731, 0.0), (732, 0.0), (733, 0.0), (734, 0.0), (735, 0.0), (736, 0.0), (737, 0.0), (738, 0.0), (739, 0.0), (740, 0.0), (741, 0.0), (742, 0.0), (743, 0.0), (744, 0.0), (745, 0.0), (746, 0.0), (747, 0.0), (748, 0.0), (749, 0.0), (750, 0.0), (751, 0.0), (752, 0.0), (753, 0.0), (754, 0.0), (755, 0.0), (756, 0.0), (757, 0.0), (758, 0.0), (759, 0.0), (760, 0.0), (761, 0.0), (762, 0.0), (763, 0.0), (764, 0.0), (765, 0.0), (766, 0.0), (767, 0.0), (768, 0.0), (769, 0.0), (770, 0.0), (771, 0.0), (772, 0.0), (773, 0.0), (774, 0.0), (775, 0.0), (776, 0.0), (777, 0.0), (778, 0.0), (779, 0.0), (780, 0.0), (781, 0.0), (782, 0.0), (783, 0.0), (784, 0.0), (785, 0.0), (786, 0.0), (787, 0.0), (788, 0.0), (789, 0.0), (790, 0.0), (791, 0.0), (792, 0.0), (793, 0.0), (794, 0.0), (795, 0.0), (796, 0.0), (797, 0.0), (798, 0.0), (799, 0.0), (800, 0.0), (801, 0.0), (802, 0.0), (803, 0.0), (804, 0.0), (805, 0.0), (806, 0.0), (807, 0.0), (808, 0.0), (809, 0.0), (810, 0.0), (811, 0.0), (812, 0.0), (813, 0.0), (814, 0.0), (815, 0.0), (816, 0.0), (817, 0.0), (818, 0.0), (819, 0.0), (820, 0.0), (821, 0.0), (822, 0.0), (823, 0.0), (824, 0.0), (825, 0.0), (826, 0.0), (827, 0.0), (828, 0.0), (829, 0.0), (830, 0.0), (831, 0.0), (832, 0.0), (833, 0.0), (834, 0.0), (835, 0.0), (836, 0.0), (837, 0.0), (838, 0.0), (839, 0.0), (840, 0.0), (841, 0.0), (842, 0.0), (843, 0.0), (844, 0.0), (845, 0.0), (846, 0.0), (847, 0.0), (848, 0.0), (849, 0.0), (850, 0.0), (851, 0.0), (852, 0.0), (853, 0.0), (854, 0.0), (855, 0.0), (856, 0.0), (857, 0.0), (858, 0.0), (859, 0.0), (860, 0.0), (861, 0.0), (862, 0.0), (863, 0.0), (864, 0.0), (865, 0.0), (866, 0.0), (867, 0.0), (868, 0.0), (869, 0.0), (870, 0.0), (871, 0.0), (872, 0.0), (873, 0.0), (874, 0.0), (875, 0.0), (876, 0.0), (877, 0.0), (878, 0.0), (879, 0.0), (880, 0.0), (881, 0.0), (882, 0.0), (883, 0.0), (884, 0.0), (885, 0.0), (886, 0.0), (887, 0.0), (888, 0.0), (889, 0.0), (890, 0.0), (891, 0.0), (892, 0.0), (893, 0.0), (894, 0.0), (895, 0.0), (896, 0.0), (897, 0.0), (898, 0.0), (899, 0.0), (900, 0.0), (901, 0.0), (902, 0.0), (903, 0.0), (904, 0.0), (905, 0.0), (906, 0.0), (907, 0.0), (908, 0.0), (909, 0.0), (910, 0.0), (911, 0.0), (912, 0.0), (913, 0.0), (914, 0.0), (915, 0.0), (916, 0.0), (917, 0.0), (918, 0.0), (919, 0.0), (920, 0.0), (921, 0.0), (922, 0.0), (923, 0.0), (924, 0.0), (925, 0.0), (926, 0.0), (927, 0.0), (928, 0.0), (929, 0.0), (930, 0.0), (931, 0.0), (932, 0.0), (933, 0.0), (934, 0.0), (935, 0.0), (936, 0.0), (937, 0.0), (938, 0.0), (939, 0.0), (940, 0.0), (941, 0.0), (942, 0.0), (943, 0.0), (944, 0.0), (945, 0.0), (946, 0.0), (947, 0.0), (948, 0.0), (949, 0.0), (950, 0.0), (951, 0.0), (952, 0.0), (953, 0.0), (954, 0.0), (955, 0.0), (956, 0.0), (957, 0.0), (958, 0.0), (959, 0.0), (960, 0.0), (961, 0.0), (962, 0.0), (963, 0.0), (964, 0.0), (965, 0.0), (966, 0.0), (967, 0.0), (968, 0.0), (969, 0.0), (970, 0.0), (971, 0.0), (972, 0.0), (973, 0.0), (974, 0.0), (975, 0.0), (976, 0.0), (977, 0.0), (978, 0.0), (979, 0.0), (980, 0.0), (981, 0.0), (982, 0.0), (983, 0.0), (984, 0.0), (985, 0.0), (986, 0.0), (987, 0.0), (988, 0.0), (989, 0.0), (990, 0.0), (991, 0.0), (992, 0.0), (993, 0.0), (994, 0.0), (995, 0.0), (996, 0.0), (997, 0.0), (998, 0.0), (999, 0.0), (1000, 0.0), (1001, 0.0), (1002, 0.0), (1003, 0.0), (1004, 0.0), (1005, 0.0), (1006, 0.0), (1007, 0.0), (1008, 0.0), (1009, 0.0), (1010, 0.0), (1011, 0.0), (1012, 0.0), (1013, 0.0), (1014, 0.0), (1015, 0.0), (1016, 0.0), (1017, 0.0), (1018, 0.0), (1019, 0.0), (1020, 0.0), (1021, 0.0), (1022, 0.0), (1023, 0.0), (1024, 0.0), (1025, 0.0), (1026, 0.0), (1027, 0.0), (1028, 0.0), (1029, 0.0), (1030, 0.0), (1031, 0.0), (1032, 0.0), (1033, 0.0), (1034, 0.0), (1035, 0.0), (1036, 0.0), (1037, 0.0), (1038, 0.0), (1039, 0.0), (1040, 0.0), (1041, 0.0), (1042, 0.0), (1043, 0.0), (1044, 0.0), (1045, 0.0), (1046, 0.0), (1047, 0.0), (1048, 0.0), (1049, 0.0), (1050, 0.0), (1051, 0.0), (1052, 0.0), (1053, 0.0), (1054, 0.0), (1055, 0.0), (1056, 0.0), (1057, 0.0), (1058, 0.0), (1059, 0.0), (1060, 0.0), (1061, 0.0), (1062, 0.0), (1063, 0.0), (1064, 0.0), (1065, 0.0), (1066, 0.0), (1067, 0.0), (1068, 0.0), (1069, 0.0), (1070, 0.0), (1071, 0.0), (1072, 0.0), (1073, 0.0), (1074, 0.0), (1075, 0.0), (1076, 0.0), (1077, 0.0), (1078, 0.0), (1079, 0.0), (1080, 0.0), (1081, 0.0), (1082, 0.0), (1083, 0.0), (1084, 0.0), (1085, 0.0), (1086, 0.0), (1087, 0.0), (1088, 0.0), (1089, 0.0), (1090, 0.0), (1091, 0.0), (1092, 0.0), (1093, 0.0), (1094, 0.0), (1095, 0.0), (1096, 0.0), (1097, 0.0), (1098, 0.0), (1099, 0.0), (1100, 0.0), (1101, 0.0), (1102, 0.0), (1103, 0.0), (1104, 0.0), (1105, 0.0), (1106, 0.0), (1107, 0.0), (1108, 0.0), (1109, 0.0), (1110, 0.0), (1111, 0.0), (1112, 0.0), (1113, 0.0), (1114, 0.0), (1115, 0.0), (1116, 0.0), (1117, 0.0), (1118, 0.0), (1119, 0.0), (1120, 0.0), (1121, 0.0), (1122, 0.0), (1123, 0.0), (1124, 0.0), (1125, 0.0), (1126, 0.0), (1127, 0.0), (1128, 0.0), (1129, 0.0), (1130, 0.0), (1131, 0.0), (1132, 0.0), (1133, 0.0), (1134, 0.0), (1135, 0.0), (1136, 0.0), (1137, 0.0), (1138, 0.0), (1139, 0.0), (1140, 0.0), (1141, 0.0), (1142, 0.0), (1143, 0.0), (1144, 0.0), (1145, 0.0), (1146, 0.0), (1147, 0.0), (1148, 0.0), (1149, 0.0), (1150, 0.0), (1151, 0.0), (1152, 0.0), (1153, 0.0), (1154, 0.0), (1155, 0.0), (1156, 0.0), (1157, 0.0), (1158, 0.0), (1159, 0.0), (1160, 0.0), (1161, 0.0), (1162, 0.0), (1163, 0.0), (1164, 0.0), (1165, 0.0), (1166, 0.0), (1167, 0.0), (1168, 0.0), (1169, 0.0), (1170, 0.0), (1171, 0.0), (1172, 0.0), (1173, 0.0), (1174, 0.0), (1175, 0.0), (1176, 0.0), (1177, 0.0), (1178, 0.0), (1179, 0.0), (1180, 0.0), (1181, 0.0), (1182, 0.0), (1183, 0.0), (1184, 0.0), (1185, 0.0), (1186, 0.0), (1187, 0.0), (1188, 0.0), (1189, 0.0), (1190, 0.0), (1191, 0.0), (1192, 0.0), (1193, 0.0), (1194, 0.0), (1195, 0.0), (1196, 0.0), (1197, 0.0), (1198, 0.0), (1199, 0.0), (1200, 0.0), (1201, 0.0), (1202, 0.0), (1203, 0.0), (1204, 0.0), (1205, 0.0), (1206, 0.0), (1207, 0.0), (1208, 0.0), (1209, 0.0), (1210, 0.0), (1211, 0.0), (1212, 0.0), (1213, 0.0), (1214, 0.0), (1215, 0.0), (1216, 0.0), (1217, 0.0), (1218, 0.0), (1219, 0.0), (1220, 0.0), (1221, 0.0), (1222, 0.0), (1223, 0.0), (1224, 0.0), (1225, 0.0), (1226, 0.0), (1227, 0.0), (1228, 0.0), (1229, 0.0), (1230, 0.0), (1231, 0.0), (1232, 0.0), (1233, 0.0), (1234, 0.0), (1235, 0.0), (1236, 0.0), (1237, 0.0), (1238, 0.0), (1239, 0.0), (1240, 0.0), (1241, 0.0), (1242, 0.0), (1243, 0.0), (1244, 0.0), (1245, 0.0), (1246, 0.0), (1247, 0.0), (1248, 0.0), (1249, 0.0), (1250, 0.0), (1251, 0.0), (1252, 0.0), (1253, 0.0), (1254, 0.0), (1255, 0.0), (1256, 0.0), (1257, 0.0), (1258, 0.0), (1259, 0.0), (1260, 0.0), (1261, 0.0), (1262, 0.0), (1263, 0.0), (1264, 0.0), (1265, 0.0), (1266, 0.0), (1267, 0.0), (1268, 0.0), (1269, 0.0), (1270, 0.0), (1271, 0.0), (1272, 0.0), (1273, 0.0), (1274, 0.0), (1275, 0.0), (1276, 0.0), (1277, 0.0), (1278, 0.0), (1279, 0.0), (1280, 0.0), (1281, 0.0), (1282, 0.0), (1283, 0.0), (1284, 0.0), (1285, 0.0), (1286, 0.0), (1287, 0.0), (1288, 0.0), (1289, 0.0), (1290, 0.0), (1291, 0.0), (1292, 0.0), (1293, 0.0), (1294, 0.0), (1295, 0.0), (1296, 0.0), (1297, 0.0), (1298, 0.0), (1299, 0.0), (1300, 0.0), (1301, 0.0), (1302, 0.0), (1303, 0.0), (1304, 0.0), (1305, 0.0), (1306, 0.0), (1307, 0.0), (1308, 0.0), (1309, 0.0), (1310, 0.0), (1311, 0.0), (1312, 0.0), (1313, 0.0), (1314, 0.0), (1315, 0.0), (1316, 0.0), (1317, 0.0), (1318, 0.0), (1319, 0.0), (1320, 0.0), (1321, 0.0), (1322, 0.0), (1323, 0.0), (1324, 0.0), (1325, 0.0), (1326, 0.0), (1327, 0.0), (1328, 0.0), (1329, 0.0), (1330, 0.0), (1331, 0.0), (1332, 0.0), (1333, 0.0), (1334, 0.0), (1335, 0.0), (1336, 0.0), (1337, 0.0), (1338, 0.0), (1339, 0.0), (1340, 0.0), (1341, 0.0), (1342, 0.0), (1343, 0.0), (1344, 0.0), (1345, 0.0), (1346, 0.0), (1347, 0.0), (1348, 0.0), (1349, 0.0), (1350, 0.0), (1351, 0.0), (1352, 0.0), (1353, 0.0), (1354, 0.0), (1355, 0.0), (1356, 0.0), (1357, 0.0), (1358, 0.0), (1359, 0.0), (1360, 0.0), (1361, 0.0), (1362, 0.0), (1363, 0.0), (1364, 0.0), (1365, 0.0), (1366, 0.0), (1367, 0.0), (1368, 0.0), (1369, 0.0), (1370, 0.0), (1371, 0.0), (1372, 0.0), (1373, 0.0), (1374, 0.0), (1375, 0.0), (1376, 0.0), (1377, 0.0), (1378, 0.0), (1379, 0.0), (1380, 0.0), (1381, 0.0), (1382, 0.0), (1383, 0.0), (1384, 0.0), (1385, 0.0), (1386, 0.0), (1387, 0.0), (1388, 0.0), (1389, 0.0), (1390, 0.0), (1391, 0.0), (1392, 0.0), (1393, 0.0), (1394, 0.0), (1395, 0.0), (1396, 0.0), (1397, 0.0), (1398, 0.0), (1399, 0.0), (1400, 0.0), (1401, 0.0), (1402, 0.0), (1403, 0.0), (1404, 0.0), (1405, 0.0), (1406, 0.0), (1407, 0.0), (1408, 0.0), (1409, 0.0), (1410, 0.0), (1411, 0.0), (1412, 0.0), (1413, 0.0), (1414, 0.0), (1415, 0.0), (1416, 0.0), (1417, 0.0), (1418, 0.0), (1419, 0.0), (1420, 0.0), (1421, 0.0), (1422, 0.0), (1423, 0.0), (1424, 0.0), (1425, 0.0), (1426, 0.0), (1427, 0.0), (1428, 0.0), (1429, 0.0), (1430, 0.0), (1431, 0.0), (1432, 0.0), (1433, 0.0), (1434, 0.0), (1435, 0.0), (1436, 0.0), (1437, 0.0), (1438, 0.0), (1439, 0.0), (1440, 0.0), (1441, 0.0), (1442, 0.0), (1443, 0.0), (1444, 0.0), (1445, 0.0), (1446, 0.0), (1447, 0.0), (1448, 0.0), (1449, 0.0), (1450, 0.0), (1451, 0.0), (1452, 0.0), (1453, 0.0), (1454, 0.0), (1455, 0.0), (1456, 0.0), (1457, 0.6992831086255553), (1458, 0.0), (1459, 0.0), (1460, 0.0), (1461, 0.0), (1462, 0.0), (1463, 0.0), (1464, 0.0), (1465, 0.0), (1466, 0.0), (1467, 0.0), (1468, 0.0), (1469, 0.0), (1470, 0.0), (1471, 0.0), (1472, 0.0), (1473, 0.0), (1474, 0.0), (1475, 0.0), (1476, 0.0), (1477, 0.0), (1478, 0.0), (1479, 0.0), (1480, 0.0), (1481, 0.0), (1482, 0.0), (1483, 0.0), (1484, 0.0), (1485, 0.0), (1486, 0.0), (1487, 0.0), (1488, 0.0), (1489, 0.0), (1490, 0.0), (1491, 0.0), (1492, 0.0), (1493, 0.0), (1494, 0.0), (1495, 0.0), (1496, 0.0), (1497, 0.0), (1498, 0.0), (1499, 0.0), (1500, 0.0), (1501, 0.0), (1502, 0.6029322129434879), (1503, 0.0), (1504, 0.0), (1505, 0.0), (1506, 0.0), (1507, 0.0), (1508, 0.0), (1509, 0.0), (1510, 0.0), (1511, 0.0), (1512, 0.0), (1513, 0.0), (1514, 0.0), (1515, 0.0), (1516, 0.0), (1517, 0.0), (1518, 0.0), (1519, 0.0), (1520, 0.0), (1521, 0.0), (1522, 0.0), (1523, 0.5779626254009902), (1524, 0.0), (1525, 0.0), (1526, 0.0), (1527, 0.0), (1528, 0.0), (1529, 0.0), (1530, 0.0), (1531, 0.0), (1532, 0.0), (1533, 0.0), (1534, 0.0), (1535, 0.0), (1536, 0.0), (1537, 0.0), (1538, 0.0), (1539, 0.0), (1540, 0.0), (1541, 0.0), (1542, 0.0), (1543, 0.0), (1544, 0.0), (1545, 0.0), (1546, 0.0), (1547, 0.0), (1548, 0.0), (1549, 0.0), (1550, 0.0), (1551, 0.0), (1552, 0.0), (1553, 0.0), (1554, 0.0), (1555, 0.0), (1556, 0.0), (1557, 0.0), (1558, 0.0), (1559, 0.0), (1560, 0.0), (1561, 0.0), (1562, 0.0), (1563, 0.0), (1564, 0.0), (1565, 0.0), (1566, 0.0), (1567, 0.0), (1568, 1.0000000000000002), (1569, 0.0), (1570, 0.0), (1571, 0.0), (1572, 0.0), (1573, 0.0), (1574, 0.0), (1575, 0.0), (1576, 0.0), (1577, 0.0), (1578, 0.0), (1579, 0.0), (1580, 0.0), (1581, 0.0), (1582, 0.0), (1583, 0.0), (1584, 0.0), (1585, 0.0), (1586, 0.0), (1587, 0.0), (1588, 0.0), (1589, 0.0), (1590, 0.0), (1591, 0.0), (1592, 0.0), (1593, 0.0), (1594, 0.0), (1595, 0.0), (1596, 0.0), (1597, 0.0), (1598, 0.0), (1599, 0.0), (1600, 0.0), (1601, 0.0), (1602, 0.0), (1603, 0.0), (1604, 0.0), (1605, 0.0), (1606, 0.0), (1607, 0.0), (1608, 0.0), (1609, 0.0), (1610, 0.0), (1611, 0.0), (1612, 0.0), (1613, 0.0), (1614, 0.0), (1615, 0.0), (1616, 0.0), (1617, 0.0), (1618, 0.0), (1619, 0.0), (1620, 0.5766593110822257), (1621, 0.0), (1622, 0.0), (1623, 0.0), (1624, 0.0), (1625, 0.0), (1626, 0.0), (1627, 0.0), (1628, 0.0), (1629, 0.0), (1630, 0.0), (1631, 0.0), (1632, 0.0), (1633, 0.0), (1634, 0.0), (1635, 0.0), (1636, 0.0), (1637, 0.0), (1638, 0.0), (1639, 0.0), (1640, 0.0), (1641, 0.0), (1642, 0.0), (1643, 0.0), (1644, 0.0), (1645, 0.0), (1646, 0.0), (1647, 0.0), (1648, 0.0), (1649, 0.0), (1650, 0.0), (1651, 0.0), (1652, 0.0), (1653, 0.0), (1654, 0.0), (1655, 0.0), (1656, 0.0), (1657, 0.0), (1658, 0.0), (1659, 0.0), (1660, 0.0), (1661, 0.0), (1662, 0.0), (1663, 0.0), (1664, 0.0), (1665, 0.0), (1666, 0.0), (1667, 0.0), (1668, 0.0), (1669, 0.0), (1670, 0.0), (1671, 0.0), (1672, 0.0), (1673, 0.0), (1674, 0.0), (1675, 0.0), (1676, 0.0), (1677, 0.0), (1678, 0.0), (1679, 0.0), (1680, 0.0), (1681, 0.0), (1682, 0.0), (1683, 0.0), (1684, 0.0), (1685, 0.0), (1686, 0.0), (1687, 0.0), (1688, 0.0), (1689, 0.0), (1690, 0.0), (1691, 0.0), (1692, 0.0), (1693, 0.0), (1694, 0.0), (1695, 0.0), (1696, 0.0), (1697, 0.0), (1698, 0.0), (1699, 0.0), (1700, 0.0), (1701, 0.0), (1702, 0.0), (1703, 0.0), (1704, 0.0), (1705, 0.0), (1706, 0.0), (1707, 0.0), (1708, 0.0), (1709, 0.0), (1710, 0.0), (1711, 0.0), (1712, 0.0), (1713, 0.0), (1714, 0.0), (1715, 0.0), (1716, 0.0), (1717, 0.0), (1718, 0.0), (1719, 0.0), (1720, 0.0), (1721, 0.0), (1722, 0.0), (1723, 0.0), (1724, 0.0), (1725, 0.0), (1726, 0.0), (1727, 0.0), (1728, 0.0), (1729, 0.0), (1730, 0.0), (1731, 0.0), (1732, 0.0), (1733, 0.0), (1734, 0.0), (1735, 0.0), (1736, 0.0), (1737, 0.0), (1738, 0.0), (1739, 0.0), (1740, 0.0), (1741, 0.0), (1742, 0.0), (1743, 0.0), (1744, 0.0), (1745, 0.0), (1746, 0.0), (1747, 0.0), (1748, 0.0), (1749, 0.0), (1750, 0.0), (1751, 0.0), (1752, 0.0), (1753, 0.0), (1754, 0.0), (1755, 0.0), (1756, 0.0), (1757, 0.0), (1758, 0.0), (1759, 0.0), (1760, 0.0), (1761, 0.0), (1762, 0.0), (1763, 0.0), (1764, 0.0), (1765, 0.0), (1766, 0.0), (1767, 0.0), (1768, 0.0), (1769, 0.0), (1770, 0.0), (1771, 0.0), (1772, 0.0), (1773, 0.0), (1774, 0.0), (1775, 0.0), (1776, 0.0), (1777, 0.0), (1778, 0.0), (1779, 0.0), (1780, 0.0), (1781, 0.0), (1782, 0.0), (1783, 0.0), (1784, 0.0), (1785, 0.0), (1786, 0.0), (1787, 0.0), (1788, 0.0), (1789, 0.0), (1790, 0.0), (1791, 0.0), (1792, 0.0), (1793, 0.0), (1794, 0.0), (1795, 0.0), (1796, 0.0), (1797, 0.0), (1798, 0.0), (1799, 0.0), (1800, 0.0), (1801, 0.0), (1802, 0.0), (1803, 0.0), (1804, 0.0), (1805, 0.0), (1806, 0.0), (1807, 0.0), (1808, 0.0), (1809, 0.0), (1810, 0.0), (1811, 0.0), (1812, 0.0), (1813, 0.0), (1814, 0.0), (1815, 0.0), (1816, 0.0), (1817, 0.0), (1818, 0.0), (1819, 0.0), (1820, 0.0), (1821, 0.0), (1822, 0.0), (1823, 0.0), (1824, 0.0), (1825, 0.0), (1826, 0.0), (1827, 0.0), (1828, 0.0), (1829, 0.0), (1830, 0.0), (1831, 0.0), (1832, 0.0), (1833, 0.0), (1834, 0.0), (1835, 0.0), (1836, 0.0), (1837, 0.0), (1838, 0.0), (1839, 0.0), (1840, 0.0), (1841, 0.0), (1842, 0.0), (1843, 0.0), (1844, 0.0), (1845, 0.0), (1846, 0.0), (1847, 0.0), (1848, 0.0), (1849, 0.0), (1850, 0.0), (1851, 0.0), (1852, 0.0), (1853, 0.0), (1854, 0.0), (1855, 0.0), (1856, 0.0), (1857, 0.0), (1858, 0.0), (1859, 0.0), (1860, 0.0), (1861, 0.0), (1862, 0.0), (1863, 0.0), (1864, 0.0), (1865, 0.0), (1866, 0.0), (1867, 0.0), (1868, 0.0), (1869, 0.0), (1870, 0.0), (1871, 0.0), (1872, 0.0), (1873, 0.0), (1874, 0.0), (1875, 0.0), (1876, 0.0), (1877, 0.0), (1878, 0.0), (1879, 0.0), (1880, 0.0), (1881, 0.0), (1882, 0.0), (1883, 0.0), (1884, 0.0), (1885, 0.0), (1886, 0.0), (1887, 0.0), (1888, 0.0), (1889, 0.0), (1890, 0.0), (1891, 0.0), (1892, 0.0), (1893, 0.0), (1894, 0.0), (1895, 0.0), (1896, 0.0), (1897, 0.0), (1898, 0.0), (1899, 0.0), (1900, 0.0), (1901, 0.0), (1902, 0.0), (1903, 0.0), (1904, 0.0), (1905, 0.0), (1906, 0.0), (1907, 0.0), (1908, 0.0), (1909, 0.0), (1910, 0.0), (1911, 0.0), (1912, 0.0), (1913, 0.0), (1914, 0.0), (1915, 0.0), (1916, 0.0), (1917, 0.0), (1918, 0.0), (1919, 0.0), (1920, 0.0), (1921, 0.0), (1922, 0.0), (1923, 0.0), (1924, 0.0), (1925, 0.0), (1926, 0.0), (1927, 0.0), (1928, 0.0), (1929, 0.0), (1930, 0.0), (1931, 0.0), (1932, 0.0), (1933, 0.0), (1934, 0.0), (1935, 0.0), (1936, 0.0), (1937, 0.0), (1938, 0.0), (1939, 0.0), (1940, 0.0), (1941, 0.0), (1942, 0.0), (1943, 0.0), (1944, 0.0), (1945, 0.0), (1946, 0.0), (1947, 0.0), (1948, 0.0), (1949, 0.0), (1950, 0.0), (1951, 0.0), (1952, 0.0), (1953, 0.0), (1954, 0.0), (1955, 0.0), (1956, 0.0), (1957, 0.0), (1958, 0.0), (1959, 0.0), (1960, 0.0), (1961, 0.0), (1962, 0.0), (1963, 0.0), (1964, 0.0), (1965, 0.0), (1966, 0.0), (1967, 0.0), (1968, 0.0), (1969, 0.0), (1970, 0.0), (1971, 0.0), (1972, 0.0), (1973, 0.0), (1974, 0.0), (1975, 0.0), (1976, 0.0), (1977, 0.0), (1978, 0.0), (1979, 0.0), (1980, 0.0), (1981, 0.0), (1982, 0.0), (1983, 0.0), (1984, 0.0), (1985, 0.0), (1986, 0.0), (1987, 0.0), (1988, 0.0), (1989, 0.0), (1990, 0.0), (1991, 0.0), (1992, 0.0), (1993, 0.0), (1994, 0.0), (1995, 0.0), (1996, 0.0), (1997, 0.0), (1998, 0.0), (1999, 0.0), (2000, 0.0), (2001, 0.0), (2002, 0.0), (2003, 0.0), (2004, 0.0), (2005, 0.0), (2006, 0.0), (2007, 0.0), (2008, 0.0), (2009, 0.0), (2010, 0.0), (2011, 0.0), (2012, 0.0), (2013, 0.0), (2014, 0.0), (2015, 0.0), (2016, 0.0), (2017, 0.0), (2018, 0.0), (2019, 0.0), (2020, 0.0), (2021, 0.0), (2022, 0.0), (2023, 0.0), (2024, 0.0), (2025, 0.0), (2026, 0.0), (2027, 0.0), (2028, 0.0), (2029, 0.0), (2030, 0.0), (2031, 0.0), (2032, 0.0), (2033, 0.0), (2034, 0.0), (2035, 0.0), (2036, 0.0), (2037, 0.0), (2038, 0.0), (2039, 0.0), (2040, 0.0), (2041, 0.0), (2042, 0.0), (2043, 0.0), (2044, 0.0), (2045, 0.0), (2046, 0.0), (2047, 0.0), (2048, 0.0), (2049, 0.0), (2050, 0.0), (2051, 0.0), (2052, 0.0), (2053, 0.0), (2054, 0.0), (2055, 0.0), (2056, 0.0), (2057, 0.0), (2058, 0.0), (2059, 0.0), (2060, 0.0), (2061, 0.0), (2062, 0.0), (2063, 0.0), (2064, 0.0), (2065, 0.0), (2066, 0.0), (2067, 0.0), (2068, 0.0), (2069, 0.0), (2070, 0.0), (2071, 0.0), (2072, 0.0), (2073, 0.0), (2074, 0.0), (2075, 0.0), (2076, 0.0), (2077, 0.0), (2078, 0.0), (2079, 0.0), (2080, 0.0), (2081, 0.0), (2082, 0.0), (2083, 0.0), (2084, 0.0), (2085, 0.0), (2086, 0.0), (2087, 0.0), (2088, 0.0), (2089, 0.0), (2090, 0.0), (2091, 0.0), (2092, 0.0), (2093, 0.0), (2094, 0.0), (2095, 0.0), (2096, 0.0), (2097, 0.0), (2098, 0.0), (2099, 0.0), (2100, 0.0), (2101, 0.0), (2102, 0.0), (2103, 0.0), (2104, 0.0), (2105, 0.0), (2106, 0.0), (2107, 0.0), (2108, 0.0), (2109, 0.0), (2110, 0.0), (2111, 0.0), (2112, 0.0), (2113, 0.0), (2114, 0.0), (2115, 0.0), (2116, 0.0), (2117, 0.0), (2118, 0.0), (2119, 0.0), (2120, 0.0), (2121, 0.0), (2122, 0.0), (2123, 0.0), (2124, 0.0), (2125, 0.0), (2126, 0.0), (2127, 0.0), (2128, 0.0), (2129, 0.0), (2130, 0.0), (2131, 0.0), (2132, 0.0), (2133, 0.0), (2134, 0.0), (2135, 0.0), (2136, 0.0), (2137, 0.0), (2138, 0.0), (2139, 0.0), (2140, 0.0), (2141, 0.0), (2142, 0.0), (2143, 0.0), (2144, 0.0), (2145, 0.0), (2146, 0.0), (2147, 0.0), (2148, 0.0), (2149, 0.0), (2150, 0.0), (2151, 0.0), (2152, 0.0), (2153, 0.0), (2154, 0.0), (2155, 0.0), (2156, 0.0), (2157, 0.0), (2158, 0.0), (2159, 0.0), (2160, 0.0), (2161, 0.0), (2162, 0.0), (2163, 0.0), (2164, 0.0), (2165, 0.0), (2166, 0.0), (2167, 0.0), (2168, 0.0), (2169, 0.0), (2170, 0.0), (2171, 0.0), (2172, 0.0), (2173, 0.0), (2174, 0.0), (2175, 0.0), (2176, 0.0), (2177, 0.0), (2178, 0.0), (2179, 0.0), (2180, 0.0), (2181, 0.0), (2182, 0.0), (2183, 0.0), (2184, 0.0), (2185, 0.0), (2186, 0.0), (2187, 0.0), (2188, 0.0), (2189, 0.0), (2190, 0.0), (2191, 0.0), (2192, 0.0), (2193, 0.0), (2194, 0.0), (2195, 0.0), (2196, 0.0), (2197, 0.0), (2198, 0.0), (2199, 0.0), (2200, 0.0), (2201, 0.0), (2202, 0.0), (2203, 0.0), (2204, 0.0), (2205, 0.0), (2206, 0.0), (2207, 0.0), (2208, 0.0), (2209, 0.0), (2210, 0.0), (2211, 0.0), (2212, 0.0), (2213, 0.0), (2214, 0.0), (2215, 0.0), (2216, 0.0), (2217, 0.0), (2218, 0.0), (2219, 0.0), (2220, 0.0), (2221, 0.0), (2222, 0.0), (2223, 0.0), (2224, 0.0), (2225, 0.0), (2226, 0.0), (2227, 0.0), (2228, 0.0), (2229, 0.0), (2230, 0.0), (2231, 0.0), (2232, 0.0), (2233, 0.0), (2234, 0.0), (2235, 0.0), (2236, 0.0), (2237, 0.0), (2238, 0.0), (2239, 0.0), (2240, 0.0), (2241, 0.0), (2242, 0.0), (2243, 0.0), (2244, 0.0), (2245, 0.0), (2246, 0.0), (2247, 0.0), (2248, 0.0), (2249, 0.0), (2250, 0.0), (2251, 0.0), (2252, 0.0), (2253, 0.0), (2254, 0.0), (2255, 0.0), (2256, 0.0), (2257, 0.0), (2258, 0.0), (2259, 0.0), (2260, 0.0), (2261, 0.0), (2262, 0.0), (2263, 0.0), (2264, 0.0), (2265, 0.0), (2266, 0.0), (2267, 0.0), (2268, 0.0), (2269, 0.0), (2270, 0.0), (2271, 0.0), (2272, 0.0), (2273, 0.0), (2274, 0.0), (2275, 0.0), (2276, 0.0), (2277, 0.0), (2278, 0.0), (2279, 0.0), (2280, 0.0), (2281, 0.0), (2282, 0.0), (2283, 0.0), (2284, 0.0), (2285, 0.0), (2286, 0.0), (2287, 0.0), (2288, 0.0), (2289, 0.0), (2290, 0.0), (2291, 0.0), (2292, 0.0), (2293, 0.0), (2294, 0.0), (2295, 0.0), (2296, 0.0), (2297, 0.0), (2298, 0.0), (2299, 0.0), (2300, 0.0), (2301, 0.0), (2302, 0.0), (2303, 0.0), (2304, 0.0), (2305, 0.0), (2306, 0.0), (2307, 0.0), (2308, 0.0), (2309, 0.0), (2310, 0.0), (2311, 0.0), (2312, 0.0), (2313, 0.0), (2314, 0.0), (2315, 0.0), (2316, 0.0), (2317, 0.0), (2318, 0.0), (2319, 0.0), (2320, 0.0), (2321, 0.0), (2322, 0.0), (2323, 0.0), (2324, 0.0), (2325, 0.0), (2326, 0.0), (2327, 0.0), (2328, 0.0), (2329, 0.0), (2330, 0.0), (2331, 0.0), (2332, 0.0), (2333, 0.0), (2334, 0.0), (2335, 0.0), (2336, 0.0), (2337, 0.0), (2338, 0.0), (2339, 0.0), (2340, 0.0), (2341, 0.0), (2342, 0.0), (2343, 0.0), (2344, 0.0), (2345, 0.0), (2346, 0.0), (2347, 0.0), (2348, 0.0), (2349, 0.0), (2350, 0.0), (2351, 0.0), (2352, 0.0), (2353, 0.0), (2354, 0.0), (2355, 0.0), (2356, 0.0), (2357, 0.0), (2358, 0.0), (2359, 0.0), (2360, 0.0), (2361, 0.0), (2362, 0.0), (2363, 0.0), (2364, 0.0), (2365, 0.0), (2366, 0.0), (2367, 0.0), (2368, 0.0), (2369, 0.0), (2370, 0.0), (2371, 0.0), (2372, 0.0), (2373, 0.0), (2374, 0.0), (2375, 0.0), (2376, 0.0), (2377, 0.0), (2378, 0.0), (2379, 0.0), (2380, 0.0), (2381, 0.0), (2382, 0.0), (2383, 0.0), (2384, 0.0), (2385, 0.0), (2386, 0.0), (2387, 0.0), (2388, 0.0), (2389, 0.0), (2390, 0.0), (2391, 0.0), (2392, 0.0), (2393, 0.0), (2394, 0.0), (2395, 0.0), (2396, 0.0), (2397, 0.0), (2398, 0.0), (2399, 0.0), (2400, 0.0), (2401, 0.0), (2402, 0.0), (2403, 0.0), (2404, 0.0), (2405, 0.0), (2406, 0.0)]\n"
     ]
    }
   ],
   "source": [
    "similarity_score = list(enumerate(similarity[index_of_the_movie]))\n",
    "print(similarity_score)"
   ]
  },
  {
   "cell_type": "code",
   "execution_count": 48,
   "id": "4982f55f",
   "metadata": {},
   "outputs": [
    {
     "name": "stdout",
     "output_type": "stream",
     "text": [
      "[(1568, 1.0000000000000002), (1457, 0.6992831086255553), (1502, 0.6029322129434879), (1523, 0.5779626254009902), (1620, 0.5766593110822257), (0, 0.0), (1, 0.0), (2, 0.0), (3, 0.0), (4, 0.0), (5, 0.0), (6, 0.0), (7, 0.0), (8, 0.0), (9, 0.0), (10, 0.0), (11, 0.0), (12, 0.0), (13, 0.0), (14, 0.0), (15, 0.0), (16, 0.0), (17, 0.0), (18, 0.0), (19, 0.0), (20, 0.0), (21, 0.0), (22, 0.0), (23, 0.0), (24, 0.0), (25, 0.0), (26, 0.0), (27, 0.0), (28, 0.0), (29, 0.0), (30, 0.0), (31, 0.0), (32, 0.0), (33, 0.0), (34, 0.0), (35, 0.0), (36, 0.0), (37, 0.0), (38, 0.0), (39, 0.0), (40, 0.0), (41, 0.0), (42, 0.0), (43, 0.0), (44, 0.0), (45, 0.0), (46, 0.0), (47, 0.0), (48, 0.0), (49, 0.0), (50, 0.0), (51, 0.0), (52, 0.0), (53, 0.0), (54, 0.0), (55, 0.0), (56, 0.0), (57, 0.0), (58, 0.0), (59, 0.0), (60, 0.0), (61, 0.0), (62, 0.0), (63, 0.0), (64, 0.0), (65, 0.0), (66, 0.0), (67, 0.0), (68, 0.0), (69, 0.0), (70, 0.0), (71, 0.0), (72, 0.0), (73, 0.0), (74, 0.0), (75, 0.0), (76, 0.0), (77, 0.0), (78, 0.0), (79, 0.0), (80, 0.0), (81, 0.0), (82, 0.0), (83, 0.0), (84, 0.0), (85, 0.0), (86, 0.0), (87, 0.0), (88, 0.0), (89, 0.0), (90, 0.0), (91, 0.0), (92, 0.0), (93, 0.0), (94, 0.0), (95, 0.0), (96, 0.0), (97, 0.0), (98, 0.0), (99, 0.0), (100, 0.0), (101, 0.0), (102, 0.0), (103, 0.0), (104, 0.0), (105, 0.0), (106, 0.0), (107, 0.0), (108, 0.0), (109, 0.0), (110, 0.0), (111, 0.0), (112, 0.0), (113, 0.0), (114, 0.0), (115, 0.0), (116, 0.0), (117, 0.0), (118, 0.0), (119, 0.0), (120, 0.0), (121, 0.0), (122, 0.0), (123, 0.0), (124, 0.0), (125, 0.0), (126, 0.0), (127, 0.0), (128, 0.0), (129, 0.0), (130, 0.0), (131, 0.0), (132, 0.0), (133, 0.0), (134, 0.0), (135, 0.0), (136, 0.0), (137, 0.0), (138, 0.0), (139, 0.0), (140, 0.0), (141, 0.0), (142, 0.0), (143, 0.0), (144, 0.0), (145, 0.0), (146, 0.0), (147, 0.0), (148, 0.0), (149, 0.0), (150, 0.0), (151, 0.0), (152, 0.0), (153, 0.0), (154, 0.0), (155, 0.0), (156, 0.0), (157, 0.0), (158, 0.0), (159, 0.0), (160, 0.0), (161, 0.0), (162, 0.0), (163, 0.0), (164, 0.0), (165, 0.0), (166, 0.0), (167, 0.0), (168, 0.0), (169, 0.0), (170, 0.0), (171, 0.0), (172, 0.0), (173, 0.0), (174, 0.0), (175, 0.0), (176, 0.0), (177, 0.0), (178, 0.0), (179, 0.0), (180, 0.0), (181, 0.0), (182, 0.0), (183, 0.0), (184, 0.0), (185, 0.0), (186, 0.0), (187, 0.0), (188, 0.0), (189, 0.0), (190, 0.0), (191, 0.0), (192, 0.0), (193, 0.0), (194, 0.0), (195, 0.0), (196, 0.0), (197, 0.0), (198, 0.0), (199, 0.0), (200, 0.0), (201, 0.0), (202, 0.0), (203, 0.0), (204, 0.0), (205, 0.0), (206, 0.0), (207, 0.0), (208, 0.0), (209, 0.0), (210, 0.0), (211, 0.0), (212, 0.0), (213, 0.0), (214, 0.0), (215, 0.0), (216, 0.0), (217, 0.0), (218, 0.0), (219, 0.0), (220, 0.0), (221, 0.0), (222, 0.0), (223, 0.0), (224, 0.0), (225, 0.0), (226, 0.0), (227, 0.0), (228, 0.0), (229, 0.0), (230, 0.0), (231, 0.0), (232, 0.0), (233, 0.0), (234, 0.0), (235, 0.0), (236, 0.0), (237, 0.0), (238, 0.0), (239, 0.0), (240, 0.0), (241, 0.0), (242, 0.0), (243, 0.0), (244, 0.0), (245, 0.0), (246, 0.0), (247, 0.0), (248, 0.0), (249, 0.0), (250, 0.0), (251, 0.0), (252, 0.0), (253, 0.0), (254, 0.0), (255, 0.0), (256, 0.0), (257, 0.0), (258, 0.0), (259, 0.0), (260, 0.0), (261, 0.0), (262, 0.0), (263, 0.0), (264, 0.0), (265, 0.0), (266, 0.0), (267, 0.0), (268, 0.0), (269, 0.0), (270, 0.0), (271, 0.0), (272, 0.0), (273, 0.0), (274, 0.0), (275, 0.0), (276, 0.0), (277, 0.0), (278, 0.0), (279, 0.0), (280, 0.0), (281, 0.0), (282, 0.0), (283, 0.0), (284, 0.0), (285, 0.0), (286, 0.0), (287, 0.0), (288, 0.0), (289, 0.0), (290, 0.0), (291, 0.0), (292, 0.0), (293, 0.0), (294, 0.0), (295, 0.0), (296, 0.0), (297, 0.0), (298, 0.0), (299, 0.0), (300, 0.0), (301, 0.0), (302, 0.0), (303, 0.0), (304, 0.0), (305, 0.0), (306, 0.0), (307, 0.0), (308, 0.0), (309, 0.0), (310, 0.0), (311, 0.0), (312, 0.0), (313, 0.0), (314, 0.0), (315, 0.0), (316, 0.0), (317, 0.0), (318, 0.0), (319, 0.0), (320, 0.0), (321, 0.0), (322, 0.0), (323, 0.0), (324, 0.0), (325, 0.0), (326, 0.0), (327, 0.0), (328, 0.0), (329, 0.0), (330, 0.0), (331, 0.0), (332, 0.0), (333, 0.0), (334, 0.0), (335, 0.0), (336, 0.0), (337, 0.0), (338, 0.0), (339, 0.0), (340, 0.0), (341, 0.0), (342, 0.0), (343, 0.0), (344, 0.0), (345, 0.0), (346, 0.0), (347, 0.0), (348, 0.0), (349, 0.0), (350, 0.0), (351, 0.0), (352, 0.0), (353, 0.0), (354, 0.0), (355, 0.0), (356, 0.0), (357, 0.0), (358, 0.0), (359, 0.0), (360, 0.0), (361, 0.0), (362, 0.0), (363, 0.0), (364, 0.0), (365, 0.0), (366, 0.0), (367, 0.0), (368, 0.0), (369, 0.0), (370, 0.0), (371, 0.0), (372, 0.0), (373, 0.0), (374, 0.0), (375, 0.0), (376, 0.0), (377, 0.0), (378, 0.0), (379, 0.0), (380, 0.0), (381, 0.0), (382, 0.0), (383, 0.0), (384, 0.0), (385, 0.0), (386, 0.0), (387, 0.0), (388, 0.0), (389, 0.0), (390, 0.0), (391, 0.0), (392, 0.0), (393, 0.0), (394, 0.0), (395, 0.0), (396, 0.0), (397, 0.0), (398, 0.0), (399, 0.0), (400, 0.0), (401, 0.0), (402, 0.0), (403, 0.0), (404, 0.0), (405, 0.0), (406, 0.0), (407, 0.0), (408, 0.0), (409, 0.0), (410, 0.0), (411, 0.0), (412, 0.0), (413, 0.0), (414, 0.0), (415, 0.0), (416, 0.0), (417, 0.0), (418, 0.0), (419, 0.0), (420, 0.0), (421, 0.0), (422, 0.0), (423, 0.0), (424, 0.0), (425, 0.0), (426, 0.0), (427, 0.0), (428, 0.0), (429, 0.0), (430, 0.0), (431, 0.0), (432, 0.0), (433, 0.0), (434, 0.0), (435, 0.0), (436, 0.0), (437, 0.0), (438, 0.0), (439, 0.0), (440, 0.0), (441, 0.0), (442, 0.0), (443, 0.0), (444, 0.0), (445, 0.0), (446, 0.0), (447, 0.0), (448, 0.0), (449, 0.0), (450, 0.0), (451, 0.0), (452, 0.0), (453, 0.0), (454, 0.0), (455, 0.0), (456, 0.0), (457, 0.0), (458, 0.0), (459, 0.0), (460, 0.0), (461, 0.0), (462, 0.0), (463, 0.0), (464, 0.0), (465, 0.0), (466, 0.0), (467, 0.0), (468, 0.0), (469, 0.0), (470, 0.0), (471, 0.0), (472, 0.0), (473, 0.0), (474, 0.0), (475, 0.0), (476, 0.0), (477, 0.0), (478, 0.0), (479, 0.0), (480, 0.0), (481, 0.0), (482, 0.0), (483, 0.0), (484, 0.0), (485, 0.0), (486, 0.0), (487, 0.0), (488, 0.0), (489, 0.0), (490, 0.0), (491, 0.0), (492, 0.0), (493, 0.0), (494, 0.0), (495, 0.0), (496, 0.0), (497, 0.0), (498, 0.0), (499, 0.0), (500, 0.0), (501, 0.0), (502, 0.0), (503, 0.0), (504, 0.0), (505, 0.0), (506, 0.0), (507, 0.0), (508, 0.0), (509, 0.0), (510, 0.0), (511, 0.0), (512, 0.0), (513, 0.0), (514, 0.0), (515, 0.0), (516, 0.0), (517, 0.0), (518, 0.0), (519, 0.0), (520, 0.0), (521, 0.0), (522, 0.0), (523, 0.0), (524, 0.0), (525, 0.0), (526, 0.0), (527, 0.0), (528, 0.0), (529, 0.0), (530, 0.0), (531, 0.0), (532, 0.0), (533, 0.0), (534, 0.0), (535, 0.0), (536, 0.0), (537, 0.0), (538, 0.0), (539, 0.0), (540, 0.0), (541, 0.0), (542, 0.0), (543, 0.0), (544, 0.0), (545, 0.0), (546, 0.0), (547, 0.0), (548, 0.0), (549, 0.0), (550, 0.0), (551, 0.0), (552, 0.0), (553, 0.0), (554, 0.0), (555, 0.0), (556, 0.0), (557, 0.0), (558, 0.0), (559, 0.0), (560, 0.0), (561, 0.0), (562, 0.0), (563, 0.0), (564, 0.0), (565, 0.0), (566, 0.0), (567, 0.0), (568, 0.0), (569, 0.0), (570, 0.0), (571, 0.0), (572, 0.0), (573, 0.0), (574, 0.0), (575, 0.0), (576, 0.0), (577, 0.0), (578, 0.0), (579, 0.0), (580, 0.0), (581, 0.0), (582, 0.0), (583, 0.0), (584, 0.0), (585, 0.0), (586, 0.0), (587, 0.0), (588, 0.0), (589, 0.0), (590, 0.0), (591, 0.0), (592, 0.0), (593, 0.0), (594, 0.0), (595, 0.0), (596, 0.0), (597, 0.0), (598, 0.0), (599, 0.0), (600, 0.0), (601, 0.0), (602, 0.0), (603, 0.0), (604, 0.0), (605, 0.0), (606, 0.0), (607, 0.0), (608, 0.0), (609, 0.0), (610, 0.0), (611, 0.0), (612, 0.0), (613, 0.0), (614, 0.0), (615, 0.0), (616, 0.0), (617, 0.0), (618, 0.0), (619, 0.0), (620, 0.0), (621, 0.0), (622, 0.0), (623, 0.0), (624, 0.0), (625, 0.0), (626, 0.0), (627, 0.0), (628, 0.0), (629, 0.0), (630, 0.0), (631, 0.0), (632, 0.0), (633, 0.0), (634, 0.0), (635, 0.0), (636, 0.0), (637, 0.0), (638, 0.0), (639, 0.0), (640, 0.0), (641, 0.0), (642, 0.0), (643, 0.0), (644, 0.0), (645, 0.0), (646, 0.0), (647, 0.0), (648, 0.0), (649, 0.0), (650, 0.0), (651, 0.0), (652, 0.0), (653, 0.0), (654, 0.0), (655, 0.0), (656, 0.0), (657, 0.0), (658, 0.0), (659, 0.0), (660, 0.0), (661, 0.0), (662, 0.0), (663, 0.0), (664, 0.0), (665, 0.0), (666, 0.0), (667, 0.0), (668, 0.0), (669, 0.0), (670, 0.0), (671, 0.0), (672, 0.0), (673, 0.0), (674, 0.0), (675, 0.0), (676, 0.0), (677, 0.0), (678, 0.0), (679, 0.0), (680, 0.0), (681, 0.0), (682, 0.0), (683, 0.0), (684, 0.0), (685, 0.0), (686, 0.0), (687, 0.0), (688, 0.0), (689, 0.0), (690, 0.0), (691, 0.0), (692, 0.0), (693, 0.0), (694, 0.0), (695, 0.0), (696, 0.0), (697, 0.0), (698, 0.0), (699, 0.0), (700, 0.0), (701, 0.0), (702, 0.0), (703, 0.0), (704, 0.0), (705, 0.0), (706, 0.0), (707, 0.0), (708, 0.0), (709, 0.0), (710, 0.0), (711, 0.0), (712, 0.0), (713, 0.0), (714, 0.0), (715, 0.0), (716, 0.0), (717, 0.0), (718, 0.0), (719, 0.0), (720, 0.0), (721, 0.0), (722, 0.0), (723, 0.0), (724, 0.0), (725, 0.0), (726, 0.0), (727, 0.0), (728, 0.0), (729, 0.0), (730, 0.0), (731, 0.0), (732, 0.0), (733, 0.0), (734, 0.0), (735, 0.0), (736, 0.0), (737, 0.0), (738, 0.0), (739, 0.0), (740, 0.0), (741, 0.0), (742, 0.0), (743, 0.0), (744, 0.0), (745, 0.0), (746, 0.0), (747, 0.0), (748, 0.0), (749, 0.0), (750, 0.0), (751, 0.0), (752, 0.0), (753, 0.0), (754, 0.0), (755, 0.0), (756, 0.0), (757, 0.0), (758, 0.0), (759, 0.0), (760, 0.0), (761, 0.0), (762, 0.0), (763, 0.0), (764, 0.0), (765, 0.0), (766, 0.0), (767, 0.0), (768, 0.0), (769, 0.0), (770, 0.0), (771, 0.0), (772, 0.0), (773, 0.0), (774, 0.0), (775, 0.0), (776, 0.0), (777, 0.0), (778, 0.0), (779, 0.0), (780, 0.0), (781, 0.0), (782, 0.0), (783, 0.0), (784, 0.0), (785, 0.0), (786, 0.0), (787, 0.0), (788, 0.0), (789, 0.0), (790, 0.0), (791, 0.0), (792, 0.0), (793, 0.0), (794, 0.0), (795, 0.0), (796, 0.0), (797, 0.0), (798, 0.0), (799, 0.0), (800, 0.0), (801, 0.0), (802, 0.0), (803, 0.0), (804, 0.0), (805, 0.0), (806, 0.0), (807, 0.0), (808, 0.0), (809, 0.0), (810, 0.0), (811, 0.0), (812, 0.0), (813, 0.0), (814, 0.0), (815, 0.0), (816, 0.0), (817, 0.0), (818, 0.0), (819, 0.0), (820, 0.0), (821, 0.0), (822, 0.0), (823, 0.0), (824, 0.0), (825, 0.0), (826, 0.0), (827, 0.0), (828, 0.0), (829, 0.0), (830, 0.0), (831, 0.0), (832, 0.0), (833, 0.0), (834, 0.0), (835, 0.0), (836, 0.0), (837, 0.0), (838, 0.0), (839, 0.0), (840, 0.0), (841, 0.0), (842, 0.0), (843, 0.0), (844, 0.0), (845, 0.0), (846, 0.0), (847, 0.0), (848, 0.0), (849, 0.0), (850, 0.0), (851, 0.0), (852, 0.0), (853, 0.0), (854, 0.0), (855, 0.0), (856, 0.0), (857, 0.0), (858, 0.0), (859, 0.0), (860, 0.0), (861, 0.0), (862, 0.0), (863, 0.0), (864, 0.0), (865, 0.0), (866, 0.0), (867, 0.0), (868, 0.0), (869, 0.0), (870, 0.0), (871, 0.0), (872, 0.0), (873, 0.0), (874, 0.0), (875, 0.0), (876, 0.0), (877, 0.0), (878, 0.0), (879, 0.0), (880, 0.0), (881, 0.0), (882, 0.0), (883, 0.0), (884, 0.0), (885, 0.0), (886, 0.0), (887, 0.0), (888, 0.0), (889, 0.0), (890, 0.0), (891, 0.0), (892, 0.0), (893, 0.0), (894, 0.0), (895, 0.0), (896, 0.0), (897, 0.0), (898, 0.0), (899, 0.0), (900, 0.0), (901, 0.0), (902, 0.0), (903, 0.0), (904, 0.0), (905, 0.0), (906, 0.0), (907, 0.0), (908, 0.0), (909, 0.0), (910, 0.0), (911, 0.0), (912, 0.0), (913, 0.0), (914, 0.0), (915, 0.0), (916, 0.0), (917, 0.0), (918, 0.0), (919, 0.0), (920, 0.0), (921, 0.0), (922, 0.0), (923, 0.0), (924, 0.0), (925, 0.0), (926, 0.0), (927, 0.0), (928, 0.0), (929, 0.0), (930, 0.0), (931, 0.0), (932, 0.0), (933, 0.0), (934, 0.0), (935, 0.0), (936, 0.0), (937, 0.0), (938, 0.0), (939, 0.0), (940, 0.0), (941, 0.0), (942, 0.0), (943, 0.0), (944, 0.0), (945, 0.0), (946, 0.0), (947, 0.0), (948, 0.0), (949, 0.0), (950, 0.0), (951, 0.0), (952, 0.0), (953, 0.0), (954, 0.0), (955, 0.0), (956, 0.0), (957, 0.0), (958, 0.0), (959, 0.0), (960, 0.0), (961, 0.0), (962, 0.0), (963, 0.0), (964, 0.0), (965, 0.0), (966, 0.0), (967, 0.0), (968, 0.0), (969, 0.0), (970, 0.0), (971, 0.0), (972, 0.0), (973, 0.0), (974, 0.0), (975, 0.0), (976, 0.0), (977, 0.0), (978, 0.0), (979, 0.0), (980, 0.0), (981, 0.0), (982, 0.0), (983, 0.0), (984, 0.0), (985, 0.0), (986, 0.0), (987, 0.0), (988, 0.0), (989, 0.0), (990, 0.0), (991, 0.0), (992, 0.0), (993, 0.0), (994, 0.0), (995, 0.0), (996, 0.0), (997, 0.0), (998, 0.0), (999, 0.0), (1000, 0.0), (1001, 0.0), (1002, 0.0), (1003, 0.0), (1004, 0.0), (1005, 0.0), (1006, 0.0), (1007, 0.0), (1008, 0.0), (1009, 0.0), (1010, 0.0), (1011, 0.0), (1012, 0.0), (1013, 0.0), (1014, 0.0), (1015, 0.0), (1016, 0.0), (1017, 0.0), (1018, 0.0), (1019, 0.0), (1020, 0.0), (1021, 0.0), (1022, 0.0), (1023, 0.0), (1024, 0.0), (1025, 0.0), (1026, 0.0), (1027, 0.0), (1028, 0.0), (1029, 0.0), (1030, 0.0), (1031, 0.0), (1032, 0.0), (1033, 0.0), (1034, 0.0), (1035, 0.0), (1036, 0.0), (1037, 0.0), (1038, 0.0), (1039, 0.0), (1040, 0.0), (1041, 0.0), (1042, 0.0), (1043, 0.0), (1044, 0.0), (1045, 0.0), (1046, 0.0), (1047, 0.0), (1048, 0.0), (1049, 0.0), (1050, 0.0), (1051, 0.0), (1052, 0.0), (1053, 0.0), (1054, 0.0), (1055, 0.0), (1056, 0.0), (1057, 0.0), (1058, 0.0), (1059, 0.0), (1060, 0.0), (1061, 0.0), (1062, 0.0), (1063, 0.0), (1064, 0.0), (1065, 0.0), (1066, 0.0), (1067, 0.0), (1068, 0.0), (1069, 0.0), (1070, 0.0), (1071, 0.0), (1072, 0.0), (1073, 0.0), (1074, 0.0), (1075, 0.0), (1076, 0.0), (1077, 0.0), (1078, 0.0), (1079, 0.0), (1080, 0.0), (1081, 0.0), (1082, 0.0), (1083, 0.0), (1084, 0.0), (1085, 0.0), (1086, 0.0), (1087, 0.0), (1088, 0.0), (1089, 0.0), (1090, 0.0), (1091, 0.0), (1092, 0.0), (1093, 0.0), (1094, 0.0), (1095, 0.0), (1096, 0.0), (1097, 0.0), (1098, 0.0), (1099, 0.0), (1100, 0.0), (1101, 0.0), (1102, 0.0), (1103, 0.0), (1104, 0.0), (1105, 0.0), (1106, 0.0), (1107, 0.0), (1108, 0.0), (1109, 0.0), (1110, 0.0), (1111, 0.0), (1112, 0.0), (1113, 0.0), (1114, 0.0), (1115, 0.0), (1116, 0.0), (1117, 0.0), (1118, 0.0), (1119, 0.0), (1120, 0.0), (1121, 0.0), (1122, 0.0), (1123, 0.0), (1124, 0.0), (1125, 0.0), (1126, 0.0), (1127, 0.0), (1128, 0.0), (1129, 0.0), (1130, 0.0), (1131, 0.0), (1132, 0.0), (1133, 0.0), (1134, 0.0), (1135, 0.0), (1136, 0.0), (1137, 0.0), (1138, 0.0), (1139, 0.0), (1140, 0.0), (1141, 0.0), (1142, 0.0), (1143, 0.0), (1144, 0.0), (1145, 0.0), (1146, 0.0), (1147, 0.0), (1148, 0.0), (1149, 0.0), (1150, 0.0), (1151, 0.0), (1152, 0.0), (1153, 0.0), (1154, 0.0), (1155, 0.0), (1156, 0.0), (1157, 0.0), (1158, 0.0), (1159, 0.0), (1160, 0.0), (1161, 0.0), (1162, 0.0), (1163, 0.0), (1164, 0.0), (1165, 0.0), (1166, 0.0), (1167, 0.0), (1168, 0.0), (1169, 0.0), (1170, 0.0), (1171, 0.0), (1172, 0.0), (1173, 0.0), (1174, 0.0), (1175, 0.0), (1176, 0.0), (1177, 0.0), (1178, 0.0), (1179, 0.0), (1180, 0.0), (1181, 0.0), (1182, 0.0), (1183, 0.0), (1184, 0.0), (1185, 0.0), (1186, 0.0), (1187, 0.0), (1188, 0.0), (1189, 0.0), (1190, 0.0), (1191, 0.0), (1192, 0.0), (1193, 0.0), (1194, 0.0), (1195, 0.0), (1196, 0.0), (1197, 0.0), (1198, 0.0), (1199, 0.0), (1200, 0.0), (1201, 0.0), (1202, 0.0), (1203, 0.0), (1204, 0.0), (1205, 0.0), (1206, 0.0), (1207, 0.0), (1208, 0.0), (1209, 0.0), (1210, 0.0), (1211, 0.0), (1212, 0.0), (1213, 0.0), (1214, 0.0), (1215, 0.0), (1216, 0.0), (1217, 0.0), (1218, 0.0), (1219, 0.0), (1220, 0.0), (1221, 0.0), (1222, 0.0), (1223, 0.0), (1224, 0.0), (1225, 0.0), (1226, 0.0), (1227, 0.0), (1228, 0.0), (1229, 0.0), (1230, 0.0), (1231, 0.0), (1232, 0.0), (1233, 0.0), (1234, 0.0), (1235, 0.0), (1236, 0.0), (1237, 0.0), (1238, 0.0), (1239, 0.0), (1240, 0.0), (1241, 0.0), (1242, 0.0), (1243, 0.0), (1244, 0.0), (1245, 0.0), (1246, 0.0), (1247, 0.0), (1248, 0.0), (1249, 0.0), (1250, 0.0), (1251, 0.0), (1252, 0.0), (1253, 0.0), (1254, 0.0), (1255, 0.0), (1256, 0.0), (1257, 0.0), (1258, 0.0), (1259, 0.0), (1260, 0.0), (1261, 0.0), (1262, 0.0), (1263, 0.0), (1264, 0.0), (1265, 0.0), (1266, 0.0), (1267, 0.0), (1268, 0.0), (1269, 0.0), (1270, 0.0), (1271, 0.0), (1272, 0.0), (1273, 0.0), (1274, 0.0), (1275, 0.0), (1276, 0.0), (1277, 0.0), (1278, 0.0), (1279, 0.0), (1280, 0.0), (1281, 0.0), (1282, 0.0), (1283, 0.0), (1284, 0.0), (1285, 0.0), (1286, 0.0), (1287, 0.0), (1288, 0.0), (1289, 0.0), (1290, 0.0), (1291, 0.0), (1292, 0.0), (1293, 0.0), (1294, 0.0), (1295, 0.0), (1296, 0.0), (1297, 0.0), (1298, 0.0), (1299, 0.0), (1300, 0.0), (1301, 0.0), (1302, 0.0), (1303, 0.0), (1304, 0.0), (1305, 0.0), (1306, 0.0), (1307, 0.0), (1308, 0.0), (1309, 0.0), (1310, 0.0), (1311, 0.0), (1312, 0.0), (1313, 0.0), (1314, 0.0), (1315, 0.0), (1316, 0.0), (1317, 0.0), (1318, 0.0), (1319, 0.0), (1320, 0.0), (1321, 0.0), (1322, 0.0), (1323, 0.0), (1324, 0.0), (1325, 0.0), (1326, 0.0), (1327, 0.0), (1328, 0.0), (1329, 0.0), (1330, 0.0), (1331, 0.0), (1332, 0.0), (1333, 0.0), (1334, 0.0), (1335, 0.0), (1336, 0.0), (1337, 0.0), (1338, 0.0), (1339, 0.0), (1340, 0.0), (1341, 0.0), (1342, 0.0), (1343, 0.0), (1344, 0.0), (1345, 0.0), (1346, 0.0), (1347, 0.0), (1348, 0.0), (1349, 0.0), (1350, 0.0), (1351, 0.0), (1352, 0.0), (1353, 0.0), (1354, 0.0), (1355, 0.0), (1356, 0.0), (1357, 0.0), (1358, 0.0), (1359, 0.0), (1360, 0.0), (1361, 0.0), (1362, 0.0), (1363, 0.0), (1364, 0.0), (1365, 0.0), (1366, 0.0), (1367, 0.0), (1368, 0.0), (1369, 0.0), (1370, 0.0), (1371, 0.0), (1372, 0.0), (1373, 0.0), (1374, 0.0), (1375, 0.0), (1376, 0.0), (1377, 0.0), (1378, 0.0), (1379, 0.0), (1380, 0.0), (1381, 0.0), (1382, 0.0), (1383, 0.0), (1384, 0.0), (1385, 0.0), (1386, 0.0), (1387, 0.0), (1388, 0.0), (1389, 0.0), (1390, 0.0), (1391, 0.0), (1392, 0.0), (1393, 0.0), (1394, 0.0), (1395, 0.0), (1396, 0.0), (1397, 0.0), (1398, 0.0), (1399, 0.0), (1400, 0.0), (1401, 0.0), (1402, 0.0), (1403, 0.0), (1404, 0.0), (1405, 0.0), (1406, 0.0), (1407, 0.0), (1408, 0.0), (1409, 0.0), (1410, 0.0), (1411, 0.0), (1412, 0.0), (1413, 0.0), (1414, 0.0), (1415, 0.0), (1416, 0.0), (1417, 0.0), (1418, 0.0), (1419, 0.0), (1420, 0.0), (1421, 0.0), (1422, 0.0), (1423, 0.0), (1424, 0.0), (1425, 0.0), (1426, 0.0), (1427, 0.0), (1428, 0.0), (1429, 0.0), (1430, 0.0), (1431, 0.0), (1432, 0.0), (1433, 0.0), (1434, 0.0), (1435, 0.0), (1436, 0.0), (1437, 0.0), (1438, 0.0), (1439, 0.0), (1440, 0.0), (1441, 0.0), (1442, 0.0), (1443, 0.0), (1444, 0.0), (1445, 0.0), (1446, 0.0), (1447, 0.0), (1448, 0.0), (1449, 0.0), (1450, 0.0), (1451, 0.0), (1452, 0.0), (1453, 0.0), (1454, 0.0), (1455, 0.0), (1456, 0.0), (1458, 0.0), (1459, 0.0), (1460, 0.0), (1461, 0.0), (1462, 0.0), (1463, 0.0), (1464, 0.0), (1465, 0.0), (1466, 0.0), (1467, 0.0), (1468, 0.0), (1469, 0.0), (1470, 0.0), (1471, 0.0), (1472, 0.0), (1473, 0.0), (1474, 0.0), (1475, 0.0), (1476, 0.0), (1477, 0.0), (1478, 0.0), (1479, 0.0), (1480, 0.0), (1481, 0.0), (1482, 0.0), (1483, 0.0), (1484, 0.0), (1485, 0.0), (1486, 0.0), (1487, 0.0), (1488, 0.0), (1489, 0.0), (1490, 0.0), (1491, 0.0), (1492, 0.0), (1493, 0.0), (1494, 0.0), (1495, 0.0), (1496, 0.0), (1497, 0.0), (1498, 0.0), (1499, 0.0), (1500, 0.0), (1501, 0.0), (1503, 0.0), (1504, 0.0), (1505, 0.0), (1506, 0.0), (1507, 0.0), (1508, 0.0), (1509, 0.0), (1510, 0.0), (1511, 0.0), (1512, 0.0), (1513, 0.0), (1514, 0.0), (1515, 0.0), (1516, 0.0), (1517, 0.0), (1518, 0.0), (1519, 0.0), (1520, 0.0), (1521, 0.0), (1522, 0.0), (1524, 0.0), (1525, 0.0), (1526, 0.0), (1527, 0.0), (1528, 0.0), (1529, 0.0), (1530, 0.0), (1531, 0.0), (1532, 0.0), (1533, 0.0), (1534, 0.0), (1535, 0.0), (1536, 0.0), (1537, 0.0), (1538, 0.0), (1539, 0.0), (1540, 0.0), (1541, 0.0), (1542, 0.0), (1543, 0.0), (1544, 0.0), (1545, 0.0), (1546, 0.0), (1547, 0.0), (1548, 0.0), (1549, 0.0), (1550, 0.0), (1551, 0.0), (1552, 0.0), (1553, 0.0), (1554, 0.0), (1555, 0.0), (1556, 0.0), (1557, 0.0), (1558, 0.0), (1559, 0.0), (1560, 0.0), (1561, 0.0), (1562, 0.0), (1563, 0.0), (1564, 0.0), (1565, 0.0), (1566, 0.0), (1567, 0.0), (1569, 0.0), (1570, 0.0), (1571, 0.0), (1572, 0.0), (1573, 0.0), (1574, 0.0), (1575, 0.0), (1576, 0.0), (1577, 0.0), (1578, 0.0), (1579, 0.0), (1580, 0.0), (1581, 0.0), (1582, 0.0), (1583, 0.0), (1584, 0.0), (1585, 0.0), (1586, 0.0), (1587, 0.0), (1588, 0.0), (1589, 0.0), (1590, 0.0), (1591, 0.0), (1592, 0.0), (1593, 0.0), (1594, 0.0), (1595, 0.0), (1596, 0.0), (1597, 0.0), (1598, 0.0), (1599, 0.0), (1600, 0.0), (1601, 0.0), (1602, 0.0), (1603, 0.0), (1604, 0.0), (1605, 0.0), (1606, 0.0), (1607, 0.0), (1608, 0.0), (1609, 0.0), (1610, 0.0), (1611, 0.0), (1612, 0.0), (1613, 0.0), (1614, 0.0), (1615, 0.0), (1616, 0.0), (1617, 0.0), (1618, 0.0), (1619, 0.0), (1621, 0.0), (1622, 0.0), (1623, 0.0), (1624, 0.0), (1625, 0.0), (1626, 0.0), (1627, 0.0), (1628, 0.0), (1629, 0.0), (1630, 0.0), (1631, 0.0), (1632, 0.0), (1633, 0.0), (1634, 0.0), (1635, 0.0), (1636, 0.0), (1637, 0.0), (1638, 0.0), (1639, 0.0), (1640, 0.0), (1641, 0.0), (1642, 0.0), (1643, 0.0), (1644, 0.0), (1645, 0.0), (1646, 0.0), (1647, 0.0), (1648, 0.0), (1649, 0.0), (1650, 0.0), (1651, 0.0), (1652, 0.0), (1653, 0.0), (1654, 0.0), (1655, 0.0), (1656, 0.0), (1657, 0.0), (1658, 0.0), (1659, 0.0), (1660, 0.0), (1661, 0.0), (1662, 0.0), (1663, 0.0), (1664, 0.0), (1665, 0.0), (1666, 0.0), (1667, 0.0), (1668, 0.0), (1669, 0.0), (1670, 0.0), (1671, 0.0), (1672, 0.0), (1673, 0.0), (1674, 0.0), (1675, 0.0), (1676, 0.0), (1677, 0.0), (1678, 0.0), (1679, 0.0), (1680, 0.0), (1681, 0.0), (1682, 0.0), (1683, 0.0), (1684, 0.0), (1685, 0.0), (1686, 0.0), (1687, 0.0), (1688, 0.0), (1689, 0.0), (1690, 0.0), (1691, 0.0), (1692, 0.0), (1693, 0.0), (1694, 0.0), (1695, 0.0), (1696, 0.0), (1697, 0.0), (1698, 0.0), (1699, 0.0), (1700, 0.0), (1701, 0.0), (1702, 0.0), (1703, 0.0), (1704, 0.0), (1705, 0.0), (1706, 0.0), (1707, 0.0), (1708, 0.0), (1709, 0.0), (1710, 0.0), (1711, 0.0), (1712, 0.0), (1713, 0.0), (1714, 0.0), (1715, 0.0), (1716, 0.0), (1717, 0.0), (1718, 0.0), (1719, 0.0), (1720, 0.0), (1721, 0.0), (1722, 0.0), (1723, 0.0), (1724, 0.0), (1725, 0.0), (1726, 0.0), (1727, 0.0), (1728, 0.0), (1729, 0.0), (1730, 0.0), (1731, 0.0), (1732, 0.0), (1733, 0.0), (1734, 0.0), (1735, 0.0), (1736, 0.0), (1737, 0.0), (1738, 0.0), (1739, 0.0), (1740, 0.0), (1741, 0.0), (1742, 0.0), (1743, 0.0), (1744, 0.0), (1745, 0.0), (1746, 0.0), (1747, 0.0), (1748, 0.0), (1749, 0.0), (1750, 0.0), (1751, 0.0), (1752, 0.0), (1753, 0.0), (1754, 0.0), (1755, 0.0), (1756, 0.0), (1757, 0.0), (1758, 0.0), (1759, 0.0), (1760, 0.0), (1761, 0.0), (1762, 0.0), (1763, 0.0), (1764, 0.0), (1765, 0.0), (1766, 0.0), (1767, 0.0), (1768, 0.0), (1769, 0.0), (1770, 0.0), (1771, 0.0), (1772, 0.0), (1773, 0.0), (1774, 0.0), (1775, 0.0), (1776, 0.0), (1777, 0.0), (1778, 0.0), (1779, 0.0), (1780, 0.0), (1781, 0.0), (1782, 0.0), (1783, 0.0), (1784, 0.0), (1785, 0.0), (1786, 0.0), (1787, 0.0), (1788, 0.0), (1789, 0.0), (1790, 0.0), (1791, 0.0), (1792, 0.0), (1793, 0.0), (1794, 0.0), (1795, 0.0), (1796, 0.0), (1797, 0.0), (1798, 0.0), (1799, 0.0), (1800, 0.0), (1801, 0.0), (1802, 0.0), (1803, 0.0), (1804, 0.0), (1805, 0.0), (1806, 0.0), (1807, 0.0), (1808, 0.0), (1809, 0.0), (1810, 0.0), (1811, 0.0), (1812, 0.0), (1813, 0.0), (1814, 0.0), (1815, 0.0), (1816, 0.0), (1817, 0.0), (1818, 0.0), (1819, 0.0), (1820, 0.0), (1821, 0.0), (1822, 0.0), (1823, 0.0), (1824, 0.0), (1825, 0.0), (1826, 0.0), (1827, 0.0), (1828, 0.0), (1829, 0.0), (1830, 0.0), (1831, 0.0), (1832, 0.0), (1833, 0.0), (1834, 0.0), (1835, 0.0), (1836, 0.0), (1837, 0.0), (1838, 0.0), (1839, 0.0), (1840, 0.0), (1841, 0.0), (1842, 0.0), (1843, 0.0), (1844, 0.0), (1845, 0.0), (1846, 0.0), (1847, 0.0), (1848, 0.0), (1849, 0.0), (1850, 0.0), (1851, 0.0), (1852, 0.0), (1853, 0.0), (1854, 0.0), (1855, 0.0), (1856, 0.0), (1857, 0.0), (1858, 0.0), (1859, 0.0), (1860, 0.0), (1861, 0.0), (1862, 0.0), (1863, 0.0), (1864, 0.0), (1865, 0.0), (1866, 0.0), (1867, 0.0), (1868, 0.0), (1869, 0.0), (1870, 0.0), (1871, 0.0), (1872, 0.0), (1873, 0.0), (1874, 0.0), (1875, 0.0), (1876, 0.0), (1877, 0.0), (1878, 0.0), (1879, 0.0), (1880, 0.0), (1881, 0.0), (1882, 0.0), (1883, 0.0), (1884, 0.0), (1885, 0.0), (1886, 0.0), (1887, 0.0), (1888, 0.0), (1889, 0.0), (1890, 0.0), (1891, 0.0), (1892, 0.0), (1893, 0.0), (1894, 0.0), (1895, 0.0), (1896, 0.0), (1897, 0.0), (1898, 0.0), (1899, 0.0), (1900, 0.0), (1901, 0.0), (1902, 0.0), (1903, 0.0), (1904, 0.0), (1905, 0.0), (1906, 0.0), (1907, 0.0), (1908, 0.0), (1909, 0.0), (1910, 0.0), (1911, 0.0), (1912, 0.0), (1913, 0.0), (1914, 0.0), (1915, 0.0), (1916, 0.0), (1917, 0.0), (1918, 0.0), (1919, 0.0), (1920, 0.0), (1921, 0.0), (1922, 0.0), (1923, 0.0), (1924, 0.0), (1925, 0.0), (1926, 0.0), (1927, 0.0), (1928, 0.0), (1929, 0.0), (1930, 0.0), (1931, 0.0), (1932, 0.0), (1933, 0.0), (1934, 0.0), (1935, 0.0), (1936, 0.0), (1937, 0.0), (1938, 0.0), (1939, 0.0), (1940, 0.0), (1941, 0.0), (1942, 0.0), (1943, 0.0), (1944, 0.0), (1945, 0.0), (1946, 0.0), (1947, 0.0), (1948, 0.0), (1949, 0.0), (1950, 0.0), (1951, 0.0), (1952, 0.0), (1953, 0.0), (1954, 0.0), (1955, 0.0), (1956, 0.0), (1957, 0.0), (1958, 0.0), (1959, 0.0), (1960, 0.0), (1961, 0.0), (1962, 0.0), (1963, 0.0), (1964, 0.0), (1965, 0.0), (1966, 0.0), (1967, 0.0), (1968, 0.0), (1969, 0.0), (1970, 0.0), (1971, 0.0), (1972, 0.0), (1973, 0.0), (1974, 0.0), (1975, 0.0), (1976, 0.0), (1977, 0.0), (1978, 0.0), (1979, 0.0), (1980, 0.0), (1981, 0.0), (1982, 0.0), (1983, 0.0), (1984, 0.0), (1985, 0.0), (1986, 0.0), (1987, 0.0), (1988, 0.0), (1989, 0.0), (1990, 0.0), (1991, 0.0), (1992, 0.0), (1993, 0.0), (1994, 0.0), (1995, 0.0), (1996, 0.0), (1997, 0.0), (1998, 0.0), (1999, 0.0), (2000, 0.0), (2001, 0.0), (2002, 0.0), (2003, 0.0), (2004, 0.0), (2005, 0.0), (2006, 0.0), (2007, 0.0), (2008, 0.0), (2009, 0.0), (2010, 0.0), (2011, 0.0), (2012, 0.0), (2013, 0.0), (2014, 0.0), (2015, 0.0), (2016, 0.0), (2017, 0.0), (2018, 0.0), (2019, 0.0), (2020, 0.0), (2021, 0.0), (2022, 0.0), (2023, 0.0), (2024, 0.0), (2025, 0.0), (2026, 0.0), (2027, 0.0), (2028, 0.0), (2029, 0.0), (2030, 0.0), (2031, 0.0), (2032, 0.0), (2033, 0.0), (2034, 0.0), (2035, 0.0), (2036, 0.0), (2037, 0.0), (2038, 0.0), (2039, 0.0), (2040, 0.0), (2041, 0.0), (2042, 0.0), (2043, 0.0), (2044, 0.0), (2045, 0.0), (2046, 0.0), (2047, 0.0), (2048, 0.0), (2049, 0.0), (2050, 0.0), (2051, 0.0), (2052, 0.0), (2053, 0.0), (2054, 0.0), (2055, 0.0), (2056, 0.0), (2057, 0.0), (2058, 0.0), (2059, 0.0), (2060, 0.0), (2061, 0.0), (2062, 0.0), (2063, 0.0), (2064, 0.0), (2065, 0.0), (2066, 0.0), (2067, 0.0), (2068, 0.0), (2069, 0.0), (2070, 0.0), (2071, 0.0), (2072, 0.0), (2073, 0.0), (2074, 0.0), (2075, 0.0), (2076, 0.0), (2077, 0.0), (2078, 0.0), (2079, 0.0), (2080, 0.0), (2081, 0.0), (2082, 0.0), (2083, 0.0), (2084, 0.0), (2085, 0.0), (2086, 0.0), (2087, 0.0), (2088, 0.0), (2089, 0.0), (2090, 0.0), (2091, 0.0), (2092, 0.0), (2093, 0.0), (2094, 0.0), (2095, 0.0), (2096, 0.0), (2097, 0.0), (2098, 0.0), (2099, 0.0), (2100, 0.0), (2101, 0.0), (2102, 0.0), (2103, 0.0), (2104, 0.0), (2105, 0.0), (2106, 0.0), (2107, 0.0), (2108, 0.0), (2109, 0.0), (2110, 0.0), (2111, 0.0), (2112, 0.0), (2113, 0.0), (2114, 0.0), (2115, 0.0), (2116, 0.0), (2117, 0.0), (2118, 0.0), (2119, 0.0), (2120, 0.0), (2121, 0.0), (2122, 0.0), (2123, 0.0), (2124, 0.0), (2125, 0.0), (2126, 0.0), (2127, 0.0), (2128, 0.0), (2129, 0.0), (2130, 0.0), (2131, 0.0), (2132, 0.0), (2133, 0.0), (2134, 0.0), (2135, 0.0), (2136, 0.0), (2137, 0.0), (2138, 0.0), (2139, 0.0), (2140, 0.0), (2141, 0.0), (2142, 0.0), (2143, 0.0), (2144, 0.0), (2145, 0.0), (2146, 0.0), (2147, 0.0), (2148, 0.0), (2149, 0.0), (2150, 0.0), (2151, 0.0), (2152, 0.0), (2153, 0.0), (2154, 0.0), (2155, 0.0), (2156, 0.0), (2157, 0.0), (2158, 0.0), (2159, 0.0), (2160, 0.0), (2161, 0.0), (2162, 0.0), (2163, 0.0), (2164, 0.0), (2165, 0.0), (2166, 0.0), (2167, 0.0), (2168, 0.0), (2169, 0.0), (2170, 0.0), (2171, 0.0), (2172, 0.0), (2173, 0.0), (2174, 0.0), (2175, 0.0), (2176, 0.0), (2177, 0.0), (2178, 0.0), (2179, 0.0), (2180, 0.0), (2181, 0.0), (2182, 0.0), (2183, 0.0), (2184, 0.0), (2185, 0.0), (2186, 0.0), (2187, 0.0), (2188, 0.0), (2189, 0.0), (2190, 0.0), (2191, 0.0), (2192, 0.0), (2193, 0.0), (2194, 0.0), (2195, 0.0), (2196, 0.0), (2197, 0.0), (2198, 0.0), (2199, 0.0), (2200, 0.0), (2201, 0.0), (2202, 0.0), (2203, 0.0), (2204, 0.0), (2205, 0.0), (2206, 0.0), (2207, 0.0), (2208, 0.0), (2209, 0.0), (2210, 0.0), (2211, 0.0), (2212, 0.0), (2213, 0.0), (2214, 0.0), (2215, 0.0), (2216, 0.0), (2217, 0.0), (2218, 0.0), (2219, 0.0), (2220, 0.0), (2221, 0.0), (2222, 0.0), (2223, 0.0), (2224, 0.0), (2225, 0.0), (2226, 0.0), (2227, 0.0), (2228, 0.0), (2229, 0.0), (2230, 0.0), (2231, 0.0), (2232, 0.0), (2233, 0.0), (2234, 0.0), (2235, 0.0), (2236, 0.0), (2237, 0.0), (2238, 0.0), (2239, 0.0), (2240, 0.0), (2241, 0.0), (2242, 0.0), (2243, 0.0), (2244, 0.0), (2245, 0.0), (2246, 0.0), (2247, 0.0), (2248, 0.0), (2249, 0.0), (2250, 0.0), (2251, 0.0), (2252, 0.0), (2253, 0.0), (2254, 0.0), (2255, 0.0), (2256, 0.0), (2257, 0.0), (2258, 0.0), (2259, 0.0), (2260, 0.0), (2261, 0.0), (2262, 0.0), (2263, 0.0), (2264, 0.0), (2265, 0.0), (2266, 0.0), (2267, 0.0), (2268, 0.0), (2269, 0.0), (2270, 0.0), (2271, 0.0), (2272, 0.0), (2273, 0.0), (2274, 0.0), (2275, 0.0), (2276, 0.0), (2277, 0.0), (2278, 0.0), (2279, 0.0), (2280, 0.0), (2281, 0.0), (2282, 0.0), (2283, 0.0), (2284, 0.0), (2285, 0.0), (2286, 0.0), (2287, 0.0), (2288, 0.0), (2289, 0.0), (2290, 0.0), (2291, 0.0), (2292, 0.0), (2293, 0.0), (2294, 0.0), (2295, 0.0), (2296, 0.0), (2297, 0.0), (2298, 0.0), (2299, 0.0), (2300, 0.0), (2301, 0.0), (2302, 0.0), (2303, 0.0), (2304, 0.0), (2305, 0.0), (2306, 0.0), (2307, 0.0), (2308, 0.0), (2309, 0.0), (2310, 0.0), (2311, 0.0), (2312, 0.0), (2313, 0.0), (2314, 0.0), (2315, 0.0), (2316, 0.0), (2317, 0.0), (2318, 0.0), (2319, 0.0), (2320, 0.0), (2321, 0.0), (2322, 0.0), (2323, 0.0), (2324, 0.0), (2325, 0.0), (2326, 0.0), (2327, 0.0), (2328, 0.0), (2329, 0.0), (2330, 0.0), (2331, 0.0), (2332, 0.0), (2333, 0.0), (2334, 0.0), (2335, 0.0), (2336, 0.0), (2337, 0.0), (2338, 0.0), (2339, 0.0), (2340, 0.0), (2341, 0.0), (2342, 0.0), (2343, 0.0), (2344, 0.0), (2345, 0.0), (2346, 0.0), (2347, 0.0), (2348, 0.0), (2349, 0.0), (2350, 0.0), (2351, 0.0), (2352, 0.0), (2353, 0.0), (2354, 0.0), (2355, 0.0), (2356, 0.0), (2357, 0.0), (2358, 0.0), (2359, 0.0), (2360, 0.0), (2361, 0.0), (2362, 0.0), (2363, 0.0), (2364, 0.0), (2365, 0.0), (2366, 0.0), (2367, 0.0), (2368, 0.0), (2369, 0.0), (2370, 0.0), (2371, 0.0), (2372, 0.0), (2373, 0.0), (2374, 0.0), (2375, 0.0), (2376, 0.0), (2377, 0.0), (2378, 0.0), (2379, 0.0), (2380, 0.0), (2381, 0.0), (2382, 0.0), (2383, 0.0), (2384, 0.0), (2385, 0.0), (2386, 0.0), (2387, 0.0), (2388, 0.0), (2389, 0.0), (2390, 0.0), (2391, 0.0), (2392, 0.0), (2393, 0.0), (2394, 0.0), (2395, 0.0), (2396, 0.0), (2397, 0.0), (2398, 0.0), (2399, 0.0), (2400, 0.0), (2401, 0.0), (2402, 0.0), (2403, 0.0), (2404, 0.0), (2405, 0.0), (2406, 0.0)]\n"
     ]
    }
   ],
   "source": [
    "sorted_similar_movies=sorted(similarity_score, key=lambda x:x[1],reverse=True)\n",
    "print(sorted_similar_movies)"
   ]
  },
  {
   "cell_type": "code",
   "execution_count": 50,
   "id": "be37b7a1",
   "metadata": {},
   "outputs": [
    {
     "name": "stdout",
     "output_type": "stream",
     "text": [
      "Movies suggested for you : \n",
      "\n",
      "1 . Tholi Prema\n",
      "2 . Akkada Ammayi Ikkada Abbayi\n",
      "3 . Gokulamlo Seeta\n",
      "4 . Suswagatham\n",
      "5 . Thammudu\n",
      "6 . Barrister Parvateesarrn\n",
      "7 . Bhoja Kalidasu\n",
      "8 . Bhookailas\n",
      "9 . Bondam Pelli\n"
     ]
    }
   ],
   "source": [
    "# print the name of similar movies based on the index\n",
    "\n",
    "print('Movies suggested for you : \\n')\n",
    "\n",
    "i = 1\n",
    "\n",
    "for movie in sorted_similar_movies:\n",
    "  index = movie[0]\n",
    "  title_from_index = movies_data[movies_data.index==index]['Title'].values[0]\n",
    "  if (i<10):\n",
    "    print(i, '.',title_from_index)\n",
    "    i+=1"
   ]
  },
  {
   "cell_type": "code",
   "execution_count": 54,
   "id": "1fac2f5e",
   "metadata": {},
   "outputs": [
    {
     "name": "stdout",
     "output_type": "stream",
     "text": [
      " Enter your favourite movie name : gundamma katha\n"
     ]
    },
    {
     "ename": "AttributeError",
     "evalue": "'DataFrame' object has no attribute 'Movie'",
     "output_type": "error",
     "traceback": [
      "\u001b[1;31m---------------------------------------------------------------------------\u001b[0m",
      "\u001b[1;31mAttributeError\u001b[0m                            Traceback (most recent call last)",
      "\u001b[1;32m~\\AppData\\Local\\Temp/ipykernel_6440/490965494.py\u001b[0m in \u001b[0;36m<module>\u001b[1;34m\u001b[0m\n\u001b[0;32m      7\u001b[0m \u001b[0mclose_match\u001b[0m \u001b[1;33m=\u001b[0m \u001b[0mfind_close_match\u001b[0m\u001b[1;33m[\u001b[0m\u001b[1;36m0\u001b[0m\u001b[1;33m]\u001b[0m\u001b[1;33m\u001b[0m\u001b[1;33m\u001b[0m\u001b[0m\n\u001b[0;32m      8\u001b[0m \u001b[1;33m\u001b[0m\u001b[0m\n\u001b[1;32m----> 9\u001b[1;33m \u001b[0mindex_of_the_movie\u001b[0m \u001b[1;33m=\u001b[0m \u001b[0mmovies_data\u001b[0m\u001b[1;33m[\u001b[0m\u001b[0mmovies_data\u001b[0m\u001b[1;33m.\u001b[0m\u001b[0mMovie\u001b[0m \u001b[1;33m==\u001b[0m \u001b[0mclose_match\u001b[0m\u001b[1;33m]\u001b[0m\u001b[1;33m[\u001b[0m\u001b[1;34m'index'\u001b[0m\u001b[1;33m]\u001b[0m\u001b[1;33m.\u001b[0m\u001b[0mvalues\u001b[0m\u001b[1;33m[\u001b[0m\u001b[1;36m0\u001b[0m\u001b[1;33m]\u001b[0m\u001b[1;33m\u001b[0m\u001b[1;33m\u001b[0m\u001b[0m\n\u001b[0m\u001b[0;32m     10\u001b[0m \u001b[1;33m\u001b[0m\u001b[0m\n\u001b[0;32m     11\u001b[0m \u001b[0msimilarity_score\u001b[0m \u001b[1;33m=\u001b[0m \u001b[0mlist\u001b[0m\u001b[1;33m(\u001b[0m\u001b[0menumerate\u001b[0m\u001b[1;33m(\u001b[0m\u001b[0msimilarity\u001b[0m\u001b[1;33m[\u001b[0m\u001b[0mindex_of_the_movie\u001b[0m\u001b[1;33m]\u001b[0m\u001b[1;33m)\u001b[0m\u001b[1;33m)\u001b[0m\u001b[1;33m\u001b[0m\u001b[1;33m\u001b[0m\u001b[0m\n",
      "\u001b[1;32m~\\anaconda3\\lib\\site-packages\\pandas\\core\\generic.py\u001b[0m in \u001b[0;36m__getattr__\u001b[1;34m(self, name)\u001b[0m\n\u001b[0;32m   5485\u001b[0m         ):\n\u001b[0;32m   5486\u001b[0m             \u001b[1;32mreturn\u001b[0m \u001b[0mself\u001b[0m\u001b[1;33m[\u001b[0m\u001b[0mname\u001b[0m\u001b[1;33m]\u001b[0m\u001b[1;33m\u001b[0m\u001b[1;33m\u001b[0m\u001b[0m\n\u001b[1;32m-> 5487\u001b[1;33m         \u001b[1;32mreturn\u001b[0m \u001b[0mobject\u001b[0m\u001b[1;33m.\u001b[0m\u001b[0m__getattribute__\u001b[0m\u001b[1;33m(\u001b[0m\u001b[0mself\u001b[0m\u001b[1;33m,\u001b[0m \u001b[0mname\u001b[0m\u001b[1;33m)\u001b[0m\u001b[1;33m\u001b[0m\u001b[1;33m\u001b[0m\u001b[0m\n\u001b[0m\u001b[0;32m   5488\u001b[0m \u001b[1;33m\u001b[0m\u001b[0m\n\u001b[0;32m   5489\u001b[0m     \u001b[1;32mdef\u001b[0m \u001b[0m__setattr__\u001b[0m\u001b[1;33m(\u001b[0m\u001b[0mself\u001b[0m\u001b[1;33m,\u001b[0m \u001b[0mname\u001b[0m\u001b[1;33m:\u001b[0m \u001b[0mstr\u001b[0m\u001b[1;33m,\u001b[0m \u001b[0mvalue\u001b[0m\u001b[1;33m)\u001b[0m \u001b[1;33m->\u001b[0m \u001b[1;32mNone\u001b[0m\u001b[1;33m:\u001b[0m\u001b[1;33m\u001b[0m\u001b[1;33m\u001b[0m\u001b[0m\n",
      "\u001b[1;31mAttributeError\u001b[0m: 'DataFrame' object has no attribute 'Movie'"
     ]
    }
   ],
   "source": [
    "movie_name = input(' Enter your favourite movie name : ')\n",
    "\n",
    "list_of_all_titles = movies_data['Title'].tolist()\n",
    "\n",
    "find_close_match = difflib.get_close_matches(movie_name, list_of_all_titles)\n",
    "\n",
    "close_match = find_close_match[0]\n",
    "\n",
    "index_of_the_movie = movies_data[movies_data.Movie == close_match]['index'].values[0]\n",
    "\n",
    "similarity_score = list(enumerate(similarity[index_of_the_movie]))\n",
    "\n",
    "sorted_similar_movies = sorted(similarity_score, key = lambda x:x[1], reverse = True) \n",
    "\n",
    "print('Movies suggested for you : \\n')\n",
    "\n",
    "i = 1\n",
    "\n",
    "for movie in sorted_similar_movies:\n",
    "  index = movie[0]\n",
    "  title_from_index = movies_data[movies_data.index==index]['Title'].values[0]\n",
    "  if (i<10):\n",
    "    print(i, '.',title_from_index)\n",
    "    i+=1"
   ]
  },
  {
   "cell_type": "code",
   "execution_count": null,
   "id": "56f2fa10",
   "metadata": {},
   "outputs": [],
   "source": []
  }
 ],
 "metadata": {
  "kernelspec": {
   "display_name": "Python 3 (ipykernel)",
   "language": "python",
   "name": "python3"
  },
  "language_info": {
   "codemirror_mode": {
    "name": "ipython",
    "version": 3
   },
   "file_extension": ".py",
   "mimetype": "text/x-python",
   "name": "python",
   "nbconvert_exporter": "python",
   "pygments_lexer": "ipython3",
   "version": "3.9.7"
  }
 },
 "nbformat": 4,
 "nbformat_minor": 5
}
